{
 "cells": [
  {
   "cell_type": "code",
   "execution_count": 2,
   "metadata": {},
   "outputs": [
    {
     "name": "stdout",
     "output_type": "stream",
     "text": [
      "Requirement already satisfied: treetaggerwrapper in /Users/lmoncla/.pyenv/versions/3.7.3/lib/python3.7/site-packages (2.3)\r\n"
     ]
    },
    {
     "name": "stderr",
     "output_type": "stream",
     "text": [
      "/Users/lmoncla/.pyenv/versions/3.7.3/lib/python3.7/site-packages/treetaggerwrapper.py:740: FutureWarning: Possible nested set at position 8\n",
      "  re.IGNORECASE | re.VERBOSE)\n",
      "/Users/lmoncla/.pyenv/versions/3.7.3/lib/python3.7/site-packages/treetaggerwrapper.py:2044: FutureWarning: Possible nested set at position 152\n",
      "  re.VERBOSE | re.IGNORECASE)\n",
      "/Users/lmoncla/.pyenv/versions/3.7.3/lib/python3.7/site-packages/treetaggerwrapper.py:2067: FutureWarning: Possible nested set at position 409\n",
      "  UrlMatch_re = re.compile(UrlMatch_expression, re.VERBOSE | re.IGNORECASE)\n",
      "/Users/lmoncla/.pyenv/versions/3.7.3/lib/python3.7/site-packages/treetaggerwrapper.py:2079: FutureWarning: Possible nested set at position 192\n",
      "  EmailMatch_re = re.compile(EmailMatch_expression, re.VERBOSE | re.IGNORECASE)\n"
     ]
    },
    {
     "name": "stdout",
     "output_type": "stream",
     "text": [
      "Requirement already satisfied: keras in /Users/lmoncla/.pyenv/versions/3.7.3/lib/python3.7/site-packages (2.4.3)\n",
      "Requirement already satisfied: scipy>=0.14 in /Users/lmoncla/.pyenv/versions/3.7.3/lib/python3.7/site-packages (from keras) (1.4.1)\n",
      "Requirement already satisfied: numpy>=1.9.1 in /Users/lmoncla/.pyenv/versions/3.7.3/lib/python3.7/site-packages (from keras) (1.18.3)\n",
      "Requirement already satisfied: pyyaml in /Users/lmoncla/.pyenv/versions/3.7.3/lib/python3.7/site-packages (from keras) (5.3.1)\n",
      "Requirement already satisfied: h5py in /Users/lmoncla/.pyenv/versions/3.7.3/lib/python3.7/site-packages (from keras) (2.10.0)\n",
      "Requirement already satisfied: six in /Users/lmoncla/.pyenv/versions/3.7.3/lib/python3.7/site-packages (from h5py->keras) (1.14.0)\n"
     ]
    }
   ],
   "source": [
    "import argparse\n",
    "import random\n",
    "import csv\n",
    "import pandas as pd\n",
    "import numpy as np\n",
    "!pip3 install treetaggerwrapper\n",
    "import treetaggerwrapper\n",
    "!pip3 install keras\n",
    "from keras.models import load_model\n",
    "from gensim.models import fasttext\n",
    "from joblib import load\n",
    "from sklearn.decomposition import PCA"
   ]
  },
  {
   "cell_type": "code",
   "execution_count": 3,
   "metadata": {},
   "outputs": [],
   "source": [
    "def sentences_to_ngrams(sentences, ngram_size, fr_nouns_file):\n",
    "\n",
    "    ngrams = []\n",
    "    context_size = int(ngram_size / 2)\n",
    "    tagger = treetaggerwrapper.TreeTagger(TAGLANG='fr', TAGINENC='utf-8', TAGOUTENC='utf-8')\n",
    "\n",
    "    with open(fr_nouns_file, \"r\") as file:\n",
    "        fr_nouns = file.readlines()\n",
    "\n",
    "    for s in sentences:\n",
    "        s = s.replace(';', '')\n",
    "        s = s.replace(\"'\", chr(39))\n",
    "        s = s.replace('\\'', chr(39))\n",
    "        s = s.replace(\"d\\'\", \" deeee \")\n",
    "        s = s.replace(\"l\\'\", \" leeee \")\n",
    "\n",
    "        sentence_tagged = treetaggerwrapper.make_tags(tagger.tag_text(s))\n",
    "        sentence = list(np.array(sentence_tagged)[:, 0])  # getting only the token (not lemmas and POS)\n",
    "\n",
    "        for i, token in enumerate(sentence):\n",
    "            if token == \"leeee\":\n",
    "                sentence[i] = \"l\\'\"\n",
    "            if token == 'deeee':\n",
    "                sentence[i] = \"d\\'\"\n",
    "\n",
    "        index_left = sentence.index('[')\n",
    "        index_right = sentence.index(']')\n",
    "\n",
    "        phrase_ngram = []\n",
    "\n",
    "        # add left context\n",
    "        for i in range(context_size):\n",
    "            try:\n",
    "                phrase_ngram.append(sentence[index_left - context_size + i])\n",
    "            except IndexError:\n",
    "                # when there is not enough words (ex: pivot word starting the sentence)\n",
    "                phrase_ngram.append(random.choice(fr_nouns).rstrip())\n",
    "\n",
    "        # add pivot token(s) (can contain several tokens)\n",
    "        phrase_ngram.append(' '.join(sentence[index_left + 1:index_right]))\n",
    "\n",
    "        # add right context\n",
    "        for i in range(context_size):\n",
    "            try:\n",
    "                phrase_ngram.append(sentence[index_right + 1 + i])\n",
    "            except IndexError:\n",
    "                # when there is not enough words (ex: pivot word starting the sentence)\n",
    "                phrase_ngram.append(random.choice(fr_nouns).rstrip())\n",
    "\n",
    "        ngrams.append(phrase_ngram)\n",
    "\n",
    "    return ngrams"
   ]
  },
  {
   "cell_type": "code",
   "execution_count": 4,
   "metadata": {},
   "outputs": [],
   "source": [
    "def vectorization(ngram_size, input_data, we_vector_size, fasttext_wv):\n",
    "\n",
    "    data_vec = np.array([])\n",
    "\n",
    "    for phrase in input_data:\n",
    "        phrase_vec = np.array([])\n",
    "\n",
    "        for word in phrase:\n",
    "            word = word.replace(\"’\", \"\\'\")\n",
    "            vec = fasttext_wv[word]\n",
    "            phrase_vec = np.append(phrase_vec, vec)\n",
    "\n",
    "        data_vec = np.append(data_vec, phrase_vec)\n",
    "\n",
    "    data_vec = np.reshape(data_vec, (len(input_data), ngram_size, we_vector_size))\n",
    "\n",
    "    return data_vec"
   ]
  },
  {
   "cell_type": "code",
   "execution_count": 8,
   "metadata": {},
   "outputs": [],
   "source": [
    "input_data = './corpus/corpus_validation_mix.csv'\n",
    "we_vector_size = 300\n",
    "fr_nouns_file = './corpus/listedesnomfrancais.txt'\n",
    "model_fasttext = './corpus/cc.fr.300.bin'\n",
    "\n",
    "keras_models = ['GRU', 'MLP_PCA', 'MLP_AE']\n",
    "\n",
    "np.random.seed(1)\n"
   ]
  },
  {
   "cell_type": "code",
   "execution_count": 9,
   "metadata": {},
   "outputs": [
    {
     "name": "stdout",
     "output_type": "stream",
     "text": [
      "** Load input data... \n",
      "\n",
      "   idf  labels                                          sentences  \\\n",
      "0  166       1  la balade peut se poursuivre autour du lac ou ...   \n",
      "1  303       1  le sentier grimpe au-dessus du hameau avec un ...   \n",
      "2  199       1  ( 9 ) poursuivre la descente vers la droite en...   \n",
      "3  394       1  continuer un petit peu sur l'arête puis descen...   \n",
      "4  313       1  (3) À la [patte d'oie], laisser le départ à dr...   \n",
      "\n",
      "         pivot_words                src               alea  \n",
      "0               cols  corpus_validation  0,085618299510875  \n",
      "1            passage  corpus_validation  0,295723408093251  \n",
      "2             église  corpus_validation  0,942577511847241  \n",
      "3  sentier de montée  corpus_validation  0,543919977290256  \n",
      "4        patte d'oie  corpus_validation    0,8779708338724  \n"
     ]
    }
   ],
   "source": [
    "print('** Load input data... \\n')\n",
    "df = pd.read_csv(input_data, delimiter=';', names=['idf', 'labels', 'sentences', 'pivot_words', 'src', 'alea'])\n",
    "\n",
    "print(df.head(5))\n",
    "\n",
    "y_test = df['labels']"
   ]
  },
  {
   "cell_type": "code",
   "execution_count": 10,
   "metadata": {},
   "outputs": [
    {
     "name": "stdout",
     "output_type": "stream",
     "text": [
      "** Loading fastText model...\n",
      "\n"
     ]
    }
   ],
   "source": [
    "print(\"** Loading fastText model...\\n\")\n",
    "fasttext_model = fasttext.load_facebook_vectors(model_fasttext)"
   ]
  },
  {
   "cell_type": "code",
   "execution_count": 12,
   "metadata": {},
   "outputs": [],
   "source": [
    "def preprocess_input(sentences, ngram_size, fr_nouns_file, fasttext_model, we_vector_size):\n",
    "    print('** Transform sentences to ' + str(ngram_size) + ' ngrams... \\n')\n",
    "    ngrams_list = sentences_to_ngrams(sentences, ngram_size, fr_nouns_file)\n",
    "    print(ngrams_list)\n",
    "\n",
    "    print('** Vectorisation of inputs... \\n')\n",
    "    x_test = vectorization(ngram_size, ngrams_list, we_vector_size, fasttext_model)\n",
    "    \n",
    "    return x_test"
   ]
  },
  {
   "cell_type": "code",
   "execution_count": 31,
   "metadata": {},
   "outputs": [],
   "source": [
    "def loadmodel(model_path, algorithm, keras_models):\n",
    "    print('** Loading model ' + model_path + ' \\n')\n",
    "\n",
    "    if algorithm in keras_models:\n",
    "        clf = load_model(model_path)\n",
    "    else:\n",
    "        clf = load(model_path)\n",
    "        \n",
    "    return clf\n",
    "\n",
    "\n",
    "def prediction(clf, x_test, y_test, ngram_size, we_vector_size, algorithm):\n",
    "    print('** Predicting... \\n')\n",
    "\n",
    "    if algorithm == 'RF' or algorithm == 'SVM' or algorithm == 'MLP_AE':\n",
    "        x_test = np.reshape(x_test, (len(x_test), ngram_size * we_vector_size))\n",
    "\n",
    "    if algorithm == 'MLP_PCA':\n",
    "        x_test = np.reshape(x_test, (368, ngram_size * we_vector_size))\n",
    "        pca = PCA(0.99)\n",
    "        #x_test = pca.fit(x_test)\n",
    "        x_test = pca.fit_transform(x_test)\n",
    "        \n",
    "\n",
    "    if algorithm in keras_models:\n",
    "        score = clf.evaluate(x_test, y_test)\n",
    "        acc = score[1]\n",
    "\n",
    "    if algorithm == 'RF' or algorithm == 'SVM':\n",
    "        acc = clf.score(x_test, y_test)\n",
    "\n",
    "    return acc\n",
    "    #print('Test accuracy:', acc)"
   ]
  },
  {
   "cell_type": "code",
   "execution_count": 16,
   "metadata": {
    "collapsed": true
   },
   "outputs": [
    {
     "name": "stdout",
     "output_type": "stream",
     "text": [
      "** Transform sentences to 1 ngrams... \n",
      "\n",
      "[['cols'], ['passage'], ['église'], ['sentier de montée'], [\"patte d' oie\"], ['maisons'], ['snack-bar'], ['cols'], ['rochers'], ['chemin'], ['sentier'], ['parc'], ['gare de bifurcation'], ['sentier'], ['gare de bifurcation'], ['rive'], ['cabane'], ['lacets'], ['couloir'], ['bifurcation'], ['cairns'], ['sous-bois'], ['ruelle'], ['barre'], [\"patte d' oie\"], ['boulevard'], ['bambouseraie'], ['passage'], ['chemin'], ['passerelle'], ['col'], ['ruisseau'], ['brèches'], ['cirque'], ['couloir'], ['bornes'], ['chemin'], ['passerelle'], ['chemin'], ['carrefour'], ['lacets'], ['torrent'], ['téléphérique'], ['torrent'], ['circuit'], ['parking'], ['gare de bifurcation'], ['réservoir'], ['bifurcation'], ['téléphérique'], ['circuits'], ['couloir'], ['balises'], ['cascades'], ['rond-point'], ['tracé'], ['site'], ['chapelles'], ['bois'], ['pas'], ['chemins'], ['pente'], ['chalets'], ['chemin'], ['circuits'], ['chemin'], ['lignes'], [\"patte d' oie\"], ['abri'], ['pentes'], ['pas'], ['balise'], ['parking'], [\"patte d' oie\"], ['piste'], ['croisement'], ['circuits'], ['pente'], ['bâtiments'], ['belvédère'], ['balcons'], ['barrières'], ['château'], ['office de tourisme'], ['pentes'], ['col'], ['bois'], ['circuit'], ['campings'], ['pic'], ['maisons'], ['arches'], ['combe'], ['sentier'], ['sente'], ['cabane'], ['cabanes'], ['passage'], ['chalets'], ['sentier'], ['bifurcation du sentier'], ['lavoir'], ['parc'], ['lacets'], ['église'], ['sentier'], ['bifurcation'], ['lavoir'], ['parking'], ['pente'], ['terrain'], ['rive'], ['voie'], ['carrefour de sentiers'], ['épingle'], ['canal'], ['rochers'], ['croix'], ['boulevards'], ['bâtiments'], ['route'], ['rive'], ['sente'], ['barrière'], ['maison'], ['sentier'], ['passage'], ['boulevard'], ['arche'], ['chapelles'], ['bâtiment'], ['terrain'], ['églises'], ['trajet'], ['chemin'], ['cimetière'], ['bâtiment'], [\"poteau d' un lampadaire\"], ['déversoir des lacs'], ['téléski'], ['gare de bifurcation'], ['belvédères'], ['pistes de ski'], ['sentier'], ['cirque'], ['lac'], ['sentier de montée'], ['rond-point'], ['circuits'], ['parking'], ['chemin'], ['fourche'], ['embranchement'], ['cimetières'], ['pont'], ['parking'], ['barres'], ['églises'], ['barrières'], ['sente'], ['sentier de montée'], ['forêt'], ['barres'], ['intersection'], ['sentier'], ['déversoir'], ['cols'], ['parc'], ['bassin'], ['pente'], ['lac'], ['carrefours'], ['panneaux'], ['route'], ['balcons'], ['rond-point'], ['lac'], ['maisons'], ['chemin'], ['bassins'], ['chapelles'], ['vallon'], ['barres'], ['sentier'], ['barre'], ['ruisseau'], ['fourche'], ['chemin'], ['épingle'], ['barre'], ['parcours'], ['arches'], ['cirques'], ['chemin']]\n",
      "** Vectorisation of inputs... \n",
      "\n",
      "** Loading model ./models/GRU_1gram.h5 \n",
      "\n",
      "** Predicting... \n",
      "\n",
      "7/7 [==============================] - 0s 2ms/step - loss: 1.3501 - accuracy: 0.6701\n",
      "Validation accuracy: 0.6701030731201172\n"
     ]
    }
   ],
   "source": [
    "model_path = './models/GRU_1gram.h5'\n",
    "algorithm = 'GRU'\n",
    "ngram_size = 1\n",
    "\n",
    "\n",
    "x_test = preprocess_input(df['sentences'], ngram_size, fr_nouns_file, fasttext_model, we_vector_size)\n",
    "model = loadmodel(model_path, algorithm, keras_models)\n",
    "\n",
    "acc = prediction(model, x_test, y_test, ngram_size, we_vector_size, algorithm)\n",
    "print('Validation accuracy:', acc)"
   ]
  },
  {
   "cell_type": "code",
   "execution_count": 17,
   "metadata": {
    "collapsed": true
   },
   "outputs": [
    {
     "name": "stdout",
     "output_type": "stream",
     "text": [
      "** Transform sentences to 5 ngrams... \n",
      "\n",
      "[['vers', 'les', 'cols', 'voisins', 'mais'], ['avec', 'un', 'passage', 'dans', 'les'], ['atteindre', 'l’', 'église', 'en-dessous', 'du'], ['rejoindre', 'le', 'sentier de montée', 'un', 'peu'], ['À', 'la', \"patte d' oie\", ',', 'laisser'], ['milieu', 'des', 'maisons', ',', 'continuer'], ['.', 'Un', 'snack-bar', '(', 'souvent'], ['des', 'deux', 'cols', 'rencontrée', 'à'], ['sur', 'les', 'rochers', \"d'\", 'une'], ['le', 'même', 'chemin', ',', 'laisser'], ['laisser', 'le', 'sentier', 'qui', 'part'], ['sur', 'le', 'parc', ',', 'sauf'], ['.', 'Ancienne', 'gare de bifurcation', ',', 'elle'], ['prendre', 'le', 'sentier', 'à', 'gauche'], ['une', 'véritable', 'gare de bifurcation', 'des', 'branches'], [',', 'poursuivre', 'rive', 'droite', ','], [',', 'une', 'cabane', 'abandonnée', 'où'], ['porter', 'des', 'lacets', 'de', 'couleurs'], ['nommé', 'le', 'couloir', 'de', 'la'], ['à', 'une', 'bifurcation', '.', 'voyage'], ['repérer', 'des', 'cairns', 'qui', 'mènent'], ['pacages', 'de', 'sous-bois', '.', 'argent'], ['dans', 'une', 'ruelle', 'qui', 'elle'], ['avec', 'une', 'barre', 'latérale', 'commune'], ['de', 'la', \"patte d' oie\", '.', 'gauche'], ['.', 'Un', 'boulevard', 'est', 'une'], ['une', 'mini-', 'bambouseraie', ',', 'le'], ['indispensable', 'au', 'passage', 'des', 'bateaux'], ['le', 'même', 'chemin', '(', 'si'], [',', 'une', 'passerelle', 'sécurisée', 'sur'], ['un', 'petit', 'col', 'qui', 'offre'], ['vers', 'un', 'ruisseau', 'que', 'vous'], ['très', 'grandes', 'brèches', '.', 'gars'], ['longe', 'le', 'cirque', '.', 'prison'], ['atteindre', 'un', 'couloir', 'rocheux', 'qui'], ['donné', 'des', 'bornes', 'inférieures', 'de'], ['de', 'notre', 'chemin', 'de', 'retour'], ['de', 'la', 'passerelle', '.', 'oreille'], ['suivre', 'ce', 'chemin', \"jusqu'\", 'au'], [')', 'au', 'carrefour', ',', 'un'], ['.', 'Des', 'lacets', 'sont', 'également'], ['franchir', 'le', 'torrent', 'par', 'la'], [',', 'le', 'téléphérique', 'constituerait', 'selon'], ['Traverser', 'le', 'torrent', 'au', 'niveau'], ['droite', 'le', 'circuit', 'du', 'départ'], ['sur', 'le', 'parking', 'au', 'Sud'], ['est', 'la', 'gare de bifurcation', 'des', 'deux'], ['retenue', 'ou', 'réservoir', 'est', 'un'], ['la', 'deuxième', 'bifurcation', ',', 'en'], ['sous', 'le', 'téléphérique', '.', 'café'], ['nombre', 'de', 'circuits', 'logiques', 'programmables'], ['escarpement', '(', 'couloir', 'enneigé', 'tard'], ['entre', 'deux', 'balises', ',', 'des'], ['apercevoir', 'les', 'cascades', 'dans', 'le'], ['avec', 'un', 'rond-point', \"n'\", 'ouvrant'], ['un', 'quatrième', 'tracé', 'longeant', 'la'], ['géologique', 'et', 'site', \"d'\", 'escalade'], ['servi', 'de', 'chapelles', 'ou', ','], ['.', 'Le', 'bois', 'de', 'cœur'], [\"n'\", 'est', 'pas', 'de', 'ma'], ['les', 'petits', 'chemins', '(', 'sentiers'], ['une', 'faible', 'pente', 'en', 'forêt'], ['air', 'de', 'chalets', ',', 'elles'], ['sur', 'le', 'chemin', 'de', 'droite'], ['souvent', 'les', 'circuits', 'courts', 'pour'], ['creux', 'du', 'chemin', 'une', 'nouvelle'], ['de', 'longues', 'lignes', 'droites', 'entrecoupées'], ['à', 'une', \"patte d' oie\", '.', 'part'], ['le', 'petit', 'abri', 'avant', \"d'\"], ['sur', 'des', 'pentes', 'à', '45'], ['ne', 'suis', 'pas', 'sûr', \"qu'\"], ['de', 'la', 'balise', 'située', 'au-dessus'], ['puis', 'au', 'parking', 'où', 'nous'], ['.', 'La', \"patte d' oie\", 'est', 'un'], ['sur', 'la', 'piste', 'qui', 'ramène'], ['sans', 'aucun', 'croisement', 'à', 'niveau'], ['refroidissement', 'des', 'circuits', 'secondaires', 'de'], ['avec', 'une', 'pente', 'au', 'sommet'], ['desservent', 'des', 'bâtiments', 'collectifs', 'ou'], ['constitue', 'un', 'belvédère', 'exceptionnel', 'sur'], ['sur', 'les', 'balcons', 'en', 'bois'], ['supports', 'de', 'barrières', 'de', 'sécurité'], ['mur', 'du', 'château', '2', ':'], ['depuis', 'l’', 'office de tourisme', ',', 'prendre'], ['traverse', 'des', 'pentes', 'raides', '.'], ['accéder', 'au', 'col', 'qui', 'domine'], ['dans', 'le', 'bois', 'formant', 'un'], ['à', 'un', 'circuit', \"d'\", 'eau'], ['que', 'trois', 'campings', 'qui', 'totalisent'], ['parfois', 'à', 'pic', '.', 'putain'], ['les', 'dernières', 'maisons', 'dans', 'la'], ['composent', \"d'\", 'arches', 'souvent', 'très'], ['dans', 'la', 'combe', 'en', 'éboulis'], ['suivre', 'le', 'sentier', 'sur', '200m'], ['droite', 'une', 'sente', 'qui', 'descend'], [':', 'La', 'cabane', 'se', 'distingue'], ['utilisent', 'des', 'cabanes', 'par', 'nécessité'], ['de', 'ce', 'passage', 'rocheux', 'est'], ['et', 'mini', 'chalets', '.', 'joie'], ['sur', 'le', 'sentier', 'en', 'suivant'], ['à', 'la', 'bifurcation du sentier', 'qui', 'descend'], ['passage', 'au', 'lavoir', 'était', 'en'], [\"d'\", 'un', 'parc', 'isolé', '.'], ['gauche', 'en', 'lacets', 'serrés', 'vers'], ['de', \"l'\", 'église', 'anglicane', 'tandis'], ['Suivre', 'ce', 'sentier', 'sur', '500m'], [\"d'\", 'une', 'bifurcation', 'en', 'deux'], ['après', 'le', 'lavoir', 'et', 'la'], ['sortie', 'du', 'parking', 'en', 'direction'], ['dans', 'une', 'pente', 'raide', 'mais'], ['.', 'Le', 'terrain', 'est', 'un'], ['sur', 'la', 'rive', 'gauche', ','], ['de', 'la', 'voie', 'verte', ')'], ['à', 'un', 'carrefour de sentiers', '.', 'dent'], ['modistes', '.', 'épingle', 'de', 'laiton'], ['un', 'ancien', 'canal', '.', 'reste'], ['traversant', 'des', 'rochers', '.', 'copain'], ['«', 'La', 'croix', 'demeure', 'tandis'], ['croisant', 'les', 'boulevards', 'ceinturant', 'le'], ['ou', 'des', 'bâtiments', ',', 'soit'], ['Emprunter', 'la', 'route', \"jusqu'\", 'au'], ['.', 'Rester', 'rive', 'droite', 'du'], ['nord', 'une', 'sente', 'mal', 'marquée'], ['passer', 'la', 'barrière', 'qui', 'bloque'], ['de', 'la', 'maison', 'au', 'crépi'], ['Reprendre', 'le', 'sentier', 'en', 'sens'], ['règles', 'de', 'passage', 'peuvent', 'être'], [',', 'un', 'boulevard', 'est', 'donc'], ['renfoncement', 'à', 'arche', 'en', 'plein'], ['les', 'deux', 'chapelles', 'attenantes', 'rassemblées'], ['est', 'un', 'bâtiment', 'estampillé', '1992'], ['sur', 'le', 'terrain', 'divers', 'chemin'], ['milliers', \"d'\", 'églises', 'ont', 'été'], ['correspond', 'au', 'trajet', 'des', 'eaux'], ['.', 'Le', 'chemin', 'décrit', 'une'], ['au-dessus', 'du', 'cimetière', '(', 'en'], ['corps', 'de', 'bâtiment', ',', 'avant'], ['sur', 'le', \"poteau d' un lampadaire\", ')', '.'], ['longeant', 'le', 'déversoir des lacs', ',', 'par'], ['sous', 'le', 'téléski', '.', 'argent'], ['.', 'Ancienne', 'gare de bifurcation', ',', 'elle'], ['à', '2', 'belvédères', 'avec', 'de'], ['sommet', 'des', 'pistes de ski', '.', 'année'], ['flanc', 'hors', 'sentier', 'pour', 'rejoindre'], ['comme', 'le', 'cirque', ',', 'le'], ['bord', 'du', 'lac', 'ou', 'dans'], ['Retrouvez', 'le', 'sentier de montée', 'au', 'niveau'], ['dans', 'le', 'rond-point', ',', 'prendre'], ['.', 'Plusieurs', 'circuits', 'pédestres', '('], ['transforme', 'un', 'parking', 'gratuit', 'en'], ['ignorant', 'un', 'chemin', 'qui', 'part'], [',', 'la', 'fourche', 'bêche', 'est'], ['au', 'second', 'embranchement', ',', 'suivre'], ['translation', 'des', 'cimetières', 'hors', 'de'], ['traverser', 'le', 'pont', 'pour', 'retrouver'], ['dessous', 'du', 'parking', '(', 'marques'], ['constituées', 'de', 'barres', 'métalliques', 'horizontales'], ['ruine', 'plusieurs', 'églises', ',', 'couvents'], [',', 'les', 'barrières', 'postzygotiques', 'vont'], ['remonter', 'la', 'sente', 'menant', 'au'], ['atteindre', 'le', 'sentier de montée', 'au', 'carrefour'], [\"d'\", 'une', 'forêt', \"d'\", 'antennes'], ['gâte', '...', 'barres', 'rocheuses', '!'], ['une', 'nouvelle', 'intersection', '(', '2'], ['trouver', 'un', 'sentier', '(', '2'], ['.', 'Le', 'déversoir', 'en', 'amont'], ['élevée', 'des', 'cols', '(', 'appelés'], [\"d'\", 'un', 'parc', 'linéaire', 'est'], [\"d'\", 'un', 'bassin', ',', 'de'], ['dans', 'la', 'pente', '(', 'cairns'], ['fond', 'du', 'lac', ',', 'sur'], ['et', 'les', 'carrefours', 'à', 'feux'], ['découvrent', 'des', 'panneaux', 'indiquant', 'Le'], ['Traverser', 'la', 'route', 'pour', 'rejoindre'], ['que', 'les', 'balcons', 'en', 'versant'], ['.', 'Le', 'rond-point', 'est', 'aussi'], ['arrivé', 'au', 'lac', ',', 'laisser'], ['de', ':', 'maisons', 'individuelles', ':'], [',', 'premier', 'chemin', 'de', 'fer'], ['entre', 'plusieurs', 'bassins', 'touristiques', '('], [\"'\", 'autres', 'chapelles', 'existent', 'dans'], ['rejoindre', 'le', 'vallon', 'du', 'même'], ['design', 'des', 'barres', 'de', 'maintien'], ['traces', 'de', 'sentier', 'pas', 'tout'], ['une', 'première', 'barre', 'rocheuse', 'de'], ['franchissant', 'le', 'ruisseau', 'et', 'tourner'], ['tête', 'de', 'fourche', 'aérodynamique', 'avec'], ['prendre', 'un', 'chemin', 'qui', 'part'], ['virage', 'en', 'épingle', 'suivant', '.'], ['de', 'la', 'barre', 'repérée', 'tout'], ['temps', 'de', 'parcours', \"jusqu'\", 'au'], ['des', 'deux', 'arches', 'jaunes', 'de'], [',', 'les', 'cirques', 'et', 'les'], ['prenez', 'le', 'chemin', 'qui', 'oblique']]\n",
      "** Vectorisation of inputs... \n",
      "\n"
     ]
    },
    {
     "name": "stdout",
     "output_type": "stream",
     "text": [
      "** Loading model ./models/GRU_5grams.h5 \n",
      "\n",
      "** Predicting... \n",
      "\n",
      "7/7 [==============================] - 0s 2ms/step - loss: 0.7165 - accuracy: 0.7629\n",
      "Validation accuracy: 0.7628865838050842\n"
     ]
    }
   ],
   "source": [
    "model_path = './models/GRU_5grams.h5'\n",
    "algorithm = 'GRU'\n",
    "ngram_size = 5\n",
    "\n",
    "x_test = preprocess_input(df['sentences'], ngram_size, fr_nouns_file, fasttext_model, we_vector_size)\n",
    "model = loadmodel(model_path, algorithm, keras_models)\n",
    "\n",
    "acc = prediction(model, x_test, y_test, ngram_size, we_vector_size, algorithm)\n",
    "print('Validation accuracy:', acc)"
   ]
  },
  {
   "cell_type": "code",
   "execution_count": 19,
   "metadata": {
    "collapsed": true
   },
   "outputs": [
    {
     "name": "stdout",
     "output_type": "stream",
     "text": [
      "** Transform sentences to 7 ngrams... \n",
      "\n",
      "[['ou', 'vers', 'les', 'cols', 'voisins', 'mais', 'je'], ['hameau', 'avec', 'un', 'passage', 'dans', 'les', 'rochers'], ['à', 'atteindre', 'l’', 'église', 'en-dessous', 'du', 'hameau'], ['par', 'rejoindre', 'le', 'sentier de montée', 'un', 'peu', 'au'], [')', 'À', 'la', \"patte d' oie\", ',', 'laisser', 'le'], ['au', 'milieu', 'des', 'maisons', ',', 'continuer', 'par'], ['Canada', '.', 'Un', 'snack-bar', '(', 'souvent', 'abrégé'], ['intersection', 'des', 'deux', 'cols', 'rencontrée', 'à', 'la'], ['cassent', 'sur', 'les', 'rochers', \"d'\", 'une', 'netteté'], ['sur', 'le', 'même', 'chemin', ',', 'laisser', 'partir'], [',', 'laisser', 'le', 'sentier', 'qui', 'part', 'sur'], ['fermée', 'sur', 'le', 'parc', ',', 'sauf', 'les'], ['Trie-Château', '.', 'Ancienne', 'gare de bifurcation', ',', 'elle', 'est'], ['puis', 'prendre', 'le', 'sentier', 'à', 'gauche', 'après'], ['dernière', 'une', 'véritable', 'gare de bifurcation', 'des', 'branches', 'Est'], ['passerelle', ',', 'poursuivre', 'rive', 'droite', ',', 'atteindre'], ['crime', ',', 'une', 'cabane', 'abandonnée', 'où', 'sa'], ['de', 'porter', 'des', 'lacets', 'de', 'couleurs', 'vives'], [',', 'nommé', 'le', 'couloir', 'de', 'la', 'chimie'], ['arriver', 'à', 'une', 'bifurcation', '.', 'sourire', 'instant'], ['peut', 'repérer', 'des', 'cairns', 'qui', 'mènent', 'au'], ['et', 'pacages', 'de', 'sous-bois', '.', 'maître', 'doute'], ['débouche', 'dans', 'une', 'ruelle', 'qui', 'elle', '-même'], [',', 'avec', 'une', 'barre', 'latérale', 'commune', 'de'], ['milieu', 'de', 'la', \"patte d' oie\", '.', 'pièce', 'plan'], ['bords', '.', 'Un', 'boulevard', 'est', 'une', 'voie'], ['longer', 'une', 'mini-', 'bambouseraie', ',', 'le', 'chemin'], ['mètres', 'indispensable', 'au', 'passage', 'des', 'bateaux', 'entrant'], ['par', 'le', 'même', 'chemin', '(', 'si', 'vous'], ['après', ',', 'une', 'passerelle', 'sécurisée', 'sur', 'le'], ['rejoindre', 'un', 'petit', 'col', 'qui', 'offre', 'un'], ['descend', 'vers', 'un', 'ruisseau', 'que', 'vous', 'franchissez'], ['de', 'très', 'grandes', 'brèches', '.', 'bonheur', 'type'], ['et', 'longe', 'le', 'cirque', '.', 'temps', 'point'], ['à', 'atteindre', 'un', 'couloir', 'rocheux', 'qui', 'vient'], ['ont', 'donné', 'des', 'bornes', 'inférieures', 'de', 'complexité'], ['lacets', 'de', 'notre', 'chemin', 'de', 'retour', '.'], ['effondrement', 'de', 'la', 'passerelle', '.', 'groupe', 'avenir'], ['et', 'suivre', 'ce', 'chemin', \"jusqu'\", 'au', 'lieu-dit'], ['1', ')', 'au', 'carrefour', ',', 'un', 'poteau'], ['tambours', '.', 'Des', 'lacets', 'sont', 'également', 'utilisés'], ['.', 'franchir', 'le', 'torrent', 'par', 'la', 'passerelle'], ['mer', ',', 'le', 'téléphérique', 'constituerait', 'selon', 'les'], [':', 'Traverser', 'le', 'torrent', 'au', 'niveau', 'de'], ['à', 'droite', 'le', 'circuit', 'du', 'départ', '.'], ['situe', 'sur', 'le', 'parking', 'au', 'Sud', 'du'], ['Vincennes', 'est', 'la', 'gare de bifurcation', 'des', 'deux', 'branches'], ['de', 'retenue', 'ou', 'réservoir', 'est', 'un', 'plan'], ['a', 'la', 'deuxième', 'bifurcation', ',', 'en', 'épingle'], ['et', 'sous', 'le', 'téléphérique', '.', 'être', 'droit'], ['grand', 'nombre', 'de', 'circuits', 'logiques', 'programmables', 'et'], ['un', 'escarpement', '(', 'couloir', 'enneigé', 'tard', 'dans'], ['téléporter', 'entre', 'deux', 'balises', ',', 'des', 'tétraèdres'], ['à', 'apercevoir', 'les', 'cascades', 'dans', 'le', 'fond'], ['prises', 'avec', 'un', 'rond-point', \"n'\", 'ouvrant', 'que'], [',', 'un', 'quatrième', 'tracé', 'longeant', 'la', 'RD'], ['curiosité', 'géologique', 'et', 'site', \"d'\", 'escalade', ')'], ['ont', 'servi', 'de', 'chapelles', 'ou', ',', 'comme'], ['fermentescibles', '.', 'Le', 'bois', 'de', 'cœur', 'est'], ['Ce', \"n'\", 'est', 'pas', 'de', 'ma', 'faute'], ['aussi', 'les', 'petits', 'chemins', '(', 'sentiers', 'pour'], ['suit', 'une', 'faible', 'pente', 'en', 'forêt', '.'], [\"l'\", 'air', 'de', 'chalets', ',', 'elles', 'sont'], ['encore', 'sur', 'le', 'chemin', 'de', 'droite', ','], ['assez', 'souvent', 'les', 'circuits', 'courts', 'pour', 'les'], ['petit', 'creux', 'du', 'chemin', 'une', 'nouvelle', 'intersection'], ['par', 'de', 'longues', 'lignes', 'droites', 'entrecoupées', 'de'], [\"jusqu'\", 'à', 'une', \"patte d' oie\", '.', 'quartier', 'fait'], ['sur', 'le', 'petit', 'abri', 'avant', \"d'\", 'arriver'], ['aventurer', 'sur', 'des', 'pentes', 'à', '45', '°'], ['je', 'ne', 'suis', 'pas', 'sûr', \"qu'\", 'elles'], ['partie', 'de', 'la', 'balise', 'située', 'au-dessus', 'de'], [',', 'puis', 'au', 'parking', 'où', 'nous', 'serons'], ['Âge', '.', 'La', \"patte d' oie\", 'est', 'un', 'symbole'], ['droite', 'sur', 'la', 'piste', 'qui', 'ramène', 'à'], [',', 'sans', 'aucun', 'croisement', 'à', 'niveau', 'avec'], ['de', 'refroidissement', 'des', 'circuits', 'secondaires', 'de', 'chaudière'], [',', 'avec', 'une', 'pente', 'au', 'sommet', 'de'], ['qui', 'desservent', 'des', 'bâtiments', 'collectifs', 'ou', 'des'], ['et', 'constitue', 'un', 'belvédère', 'exceptionnel', 'sur', 'le'], ['poser', 'sur', 'les', 'balcons', 'en', 'bois', 'pour'], ['les', 'supports', 'de', 'barrières', 'de', 'sécurité', '.'], ['carrefour', 'mur', 'du', 'château', '2', ':', 'km'], [')', 'depuis', 'l’', 'office de tourisme', ',', 'prendre', 'en'], ['il', 'traverse', 'des', 'pentes', 'raides', '.', 'capitaine'], [',', 'accéder', 'au', 'col', 'qui', 'domine', 'les'], ['entrer', 'dans', 'le', 'bois', 'formant', 'un', 'entonnoir'], ['grâce', 'à', 'un', 'circuit', \"d'\", 'eau', 'fermé'], ['ainsi', 'que', 'trois', 'campings', 'qui', 'totalisent', '190'], ['rochers', 'parfois', 'à', 'pic', '.', 'paix', 'bruit'], ['après', 'les', 'dernières', 'maisons', 'dans', 'la', 'même'], ['se', 'composent', \"d'\", 'arches', 'souvent', 'très', 'inégales'], ['est', 'dans', 'la', 'combe', 'en', 'éboulis', 'menant'], ['et', 'suivre', 'le', 'sentier', 'sur', '200m', 'environ'], ['la', 'droite', 'une', 'sente', 'qui', 'descend', 'sur'], ['Définition', ':', 'La', 'cabane', 'se', 'distingue', ','], ['et', 'utilisent', 'des', 'cabanes', 'par', 'nécessité', '.'], ['traversée', 'de', 'ce', 'passage', 'rocheux', 'est', 'assez'], ['appartements', 'et', 'mini', 'chalets', '.', 'ciel', 'dame'], ['Continuer', 'sur', 'le', 'sentier', 'en', 'suivant', 'le'], ['Parvenir', 'à', 'la', 'bifurcation du sentier', 'qui', 'descend', 'du'], ['Le', 'passage', 'au', 'lavoir', 'était', 'en', 'effet'], ['centre', \"d'\", 'un', 'parc', 'isolé', '.', 'enfant'], ['à', 'gauche', 'en', 'lacets', 'serrés', 'vers', \"l'\"], ['tête', 'de', \"l'\", 'église', 'anglicane', 'tandis', 'que'], ['.', 'Suivre', 'ce', 'sentier', 'sur', '500m', \"jusqu'\"], ['cœur', \"d'\", 'une', 'bifurcation', 'en', 'deux', 'branches'], ['.', 'après', 'le', 'lavoir', 'et', 'la', 'croix'], ['la', 'sortie', 'du', 'parking', 'en', 'direction', 'de'], ['Descendre', 'dans', 'une', 'pente', 'raide', 'mais', 'bien'], ['réelle', '.', 'Le', 'terrain', 'est', 'un', 'peu'], ['Rester', 'sur', 'la', 'rive', 'gauche', ',', 'en'], ['long', 'de', 'la', 'voie', 'verte', ')', '.'], ['parvenir', 'à', 'un', 'carrefour de sentiers', '.', 'souvenir', 'musique'], ['les', 'modistes', '.', 'épingle', 'de', 'laiton', 'argenté'], ['encadraient', 'un', 'ancien', 'canal', '.', 'cours', 'courant'], ['en', 'traversant', 'des', 'rochers', '.', 'téléphone', 'rapport'], ['orbis', '«', 'La', 'croix', 'demeure', 'tandis', 'que'], ['en', 'croisant', 'les', 'boulevards', 'ceinturant', 'le', 'centre-ville'], ['logements', 'ou', 'des', 'bâtiments', ',', 'soit', 'intégrées'], ['.', 'Emprunter', 'la', 'route', \"jusqu'\", 'au', 'Chalet'], [')', '.', 'Rester', 'rive', 'droite', 'du', 'lac'], ['plein', 'nord', 'une', 'sente', 'mal', 'marquée', '.'], [',', 'passer', 'la', 'barrière', 'qui', 'bloque', 'le'], ['gauche', 'de', 'la', 'maison', 'au', 'crépi', 'jaune'], ['.', 'Reprendre', 'le', 'sentier', 'en', 'sens', 'inverse'], ['Les', 'règles', 'de', 'passage', 'peuvent', 'être', 'établies'], ['origine', ',', 'un', 'boulevard', 'est', 'donc', 'en'], ['un', 'renfoncement', 'à', 'arche', 'en', 'plein', 'cintre'], ['originalité', 'les', 'deux', 'chapelles', 'attenantes', 'rassemblées', 'en'], ['refuge', 'est', 'un', 'bâtiment', 'estampillé', '1992', ','], ['a', 'sur', 'le', 'terrain', 'divers', 'chemin', 'de'], ['des', 'milliers', \"d'\", 'églises', 'ont', 'été', 'construites'], ['Sources', 'correspond', 'au', 'trajet', 'des', 'eaux', 'de'], ['Bruyant', '.', 'Le', 'chemin', 'décrit', 'une', 'traversée'], ['part', 'au-dessus', 'du', 'cimetière', '(', 'en', 'direction'], ['seul', 'corps', 'de', 'bâtiment', ',', 'avant', \"l'\"], ['Jaunes', 'sur', 'le', \"poteau d' un lampadaire\", ')', '.', 'besoin'], ['en', 'longeant', 'le', 'déversoir des lacs', ',', 'par', 'des'], ['passer', 'sous', 'le', 'téléski', '.', 'honneur', 'droit'], ['Trie-Château', '.', 'Ancienne', 'gare de bifurcation', ',', 'elle', 'est'], ['accéder', 'à', '2', 'belvédères', 'avec', 'de', 'magnifiques'], ['le', 'sommet', 'des', 'pistes de ski', '.', 'carte', 'front'], ['à', 'flanc', 'hors', 'sentier', 'pour', 'rejoindre', 'le'], ['éléments', 'comme', 'le', 'cirque', ',', 'le', 'spectacle'], ['au', 'bord', 'du', 'lac', 'ou', 'dans', 'les'], [')', 'Retrouvez', 'le', 'sentier de montée', 'au', 'niveau', 'du'], [',', 'dans', 'le', 'rond-point', ',', 'prendre', 'la'], ['Pons', '.', 'Plusieurs', 'circuits', 'pédestres', '(', 'GR'], ['on', 'transforme', 'un', 'parking', 'gratuit', 'en', 'parking'], ['en', 'ignorant', 'un', 'chemin', 'qui', 'part', 'à'], ['Suisse', ',', 'la', 'fourche', 'bêche', 'est', 'aussi'], [',', 'au', 'second', 'embranchement', ',', 'suivre', 'le'], ['la', 'translation', 'des', 'cimetières', 'hors', 'de', 'l’enceinte'], ['et', 'traverser', 'le', 'pont', 'pour', 'retrouver', 'le'], ['en', 'dessous', 'du', 'parking', '(', 'marques', 'Rouges'], [',', 'constituées', 'de', 'barres', 'métalliques', 'horizontales', ','], ['et', 'ruine', 'plusieurs', 'églises', ',', 'couvents', 'et'], ['tout', ',', 'les', 'barrières', 'postzygotiques', 'vont', 'empêcher'], ['et', 'remonter', 'la', 'sente', 'menant', 'au', 'point'], ['et', 'atteindre', 'le', 'sentier de montée', 'au', 'carrefour', 'de'], ['couvert', \"d'\", 'une', 'forêt', \"d'\", 'antennes', 'et'], ['se', 'gâte', '...', 'barres', 'rocheuses', '!', 'affaire'], ['chemin', 'une', 'nouvelle', 'intersection', '(', '2', ')'], ['et', 'trouver', 'un', 'sentier', '(', '2', ')'], ['lavoir', '.', 'Le', 'déversoir', 'en', 'amont', ','], ['altitude', 'élevée', 'des', 'cols', '(', 'appelés', 'parfois'], ['typique', \"d'\", 'un', 'parc', 'linéaire', 'est', 'une'], ['niveau', \"d'\", 'un', 'bassin', ',', 'de', \"l'\"], ['droit', 'dans', 'la', 'pente', '(', 'cairns', ')'], ['du', 'fond', 'du', 'lac', ',', 'sur', 'lequel'], ['vélos', 'et', 'les', 'carrefours', 'à', 'feux', 'sont'], ['ils', 'découvrent', 'des', 'panneaux', 'indiquant', 'Le', 'Terminus'], ['.', 'Traverser', 'la', 'route', 'pour', 'rejoindre', 'le'], ['plus', 'que', 'les', 'balcons', 'en', 'versant', '.'], ['interdits', '.', 'Le', 'rond-point', 'est', 'aussi', 'un'], [')', 'arrivé', 'au', 'lac', ',', 'laisser', 'à'], ['est', 'de', ':', 'maisons', 'individuelles', ':', '21'], [')', ',', 'premier', 'chemin', 'de', 'fer', 'à'], ['stratégique', 'entre', 'plusieurs', 'bassins', 'touristiques', '(', 'Massif'], ['D', \"'\", 'autres', 'chapelles', 'existent', 'dans', 'les'], ['et', 'rejoindre', 'le', 'vallon', 'du', 'même', 'nom'], ['le', 'design', 'des', 'barres', 'de', 'maintien', ','], ['bonnes', 'traces', 'de', 'sentier', 'pas', 'tout', 'à'], ['sur', 'une', 'première', 'barre', 'rocheuse', 'de', 'faible'], ['en', 'franchissant', 'le', 'ruisseau', 'et', 'tourner', 'tout'], ['carénage', 'tête', 'de', 'fourche', 'aérodynamique', 'avec', 'un'], ['puis', 'prendre', 'un', 'chemin', 'qui', 'part', 'sur'], ['au', 'virage', 'en', 'épingle', 'suivant', '.', 'gueule'], ['extrémité', 'de', 'la', 'barre', 'repérée', 'tout', 'à'], ['Le', 'temps', 'de', 'parcours', \"jusqu'\", 'au', 'centre-ville'], ['inspire', 'des', 'deux', 'arches', 'jaunes', 'de', 'la'], ['temples', ',', 'les', 'cirques', 'et', 'les', 'mausolées'], [',', 'prenez', 'le', 'chemin', 'qui', 'oblique', 'légèrement']]\n",
      "** Vectorisation of inputs... \n",
      "\n"
     ]
    },
    {
     "name": "stdout",
     "output_type": "stream",
     "text": [
      "** Loading model ./models/GRU_7grams.h5 \n",
      "\n",
      "** Predicting... \n",
      "\n",
      "7/7 [==============================] - 0s 2ms/step - loss: 0.4734 - accuracy: 0.7887\n",
      "Validation accuracy: 0.7886598110198975\n"
     ]
    }
   ],
   "source": [
    "model_path = './models/GRU_7grams.h5'\n",
    "algorithm = 'GRU'\n",
    "ngram_size = 7\n",
    "\n",
    "x_test = preprocess_input(df['sentences'], ngram_size, fr_nouns_file, fasttext_model, we_vector_size)\n",
    "model = loadmodel(model_path, algorithm, keras_models)\n",
    "\n",
    "acc = prediction(model, x_test, y_test, ngram_size, we_vector_size, algorithm)\n",
    "print('Validation accuracy:', acc)"
   ]
  },
  {
   "cell_type": "code",
   "execution_count": 32,
   "metadata": {},
   "outputs": [
    {
     "name": "stdout",
     "output_type": "stream",
     "text": [
      "** Transform sentences to 5 ngrams... \n",
      "\n",
      "[['vers', 'les', 'cols', 'voisins', 'mais'], ['avec', 'un', 'passage', 'dans', 'les'], ['atteindre', 'l’', 'église', 'en-dessous', 'du'], ['rejoindre', 'le', 'sentier de montée', 'un', 'peu'], ['À', 'la', \"patte d' oie\", ',', 'laisser'], ['milieu', 'des', 'maisons', ',', 'continuer'], ['.', 'Un', 'snack-bar', '(', 'souvent'], ['des', 'deux', 'cols', 'rencontrée', 'à'], ['sur', 'les', 'rochers', \"d'\", 'une'], ['le', 'même', 'chemin', ',', 'laisser'], ['laisser', 'le', 'sentier', 'qui', 'part'], ['sur', 'le', 'parc', ',', 'sauf'], ['.', 'Ancienne', 'gare de bifurcation', ',', 'elle'], ['prendre', 'le', 'sentier', 'à', 'gauche'], ['une', 'véritable', 'gare de bifurcation', 'des', 'branches'], [',', 'poursuivre', 'rive', 'droite', ','], [',', 'une', 'cabane', 'abandonnée', 'où'], ['porter', 'des', 'lacets', 'de', 'couleurs'], ['nommé', 'le', 'couloir', 'de', 'la'], ['à', 'une', 'bifurcation', '.', 'livre'], ['repérer', 'des', 'cairns', 'qui', 'mènent'], ['pacages', 'de', 'sous-bois', '.', 'numéro'], ['dans', 'une', 'ruelle', 'qui', 'elle'], ['avec', 'une', 'barre', 'latérale', 'commune'], ['de', 'la', \"patte d' oie\", '.', 'lèvre'], ['.', 'Un', 'boulevard', 'est', 'une'], ['une', 'mini-', 'bambouseraie', ',', 'le'], ['indispensable', 'au', 'passage', 'des', 'bateaux'], ['le', 'même', 'chemin', '(', 'si'], [',', 'une', 'passerelle', 'sécurisée', 'sur'], ['un', 'petit', 'col', 'qui', 'offre'], ['vers', 'un', 'ruisseau', 'que', 'vous'], ['très', 'grandes', 'brèches', '.', 'mois'], ['longe', 'le', 'cirque', '.', 'gars'], ['atteindre', 'un', 'couloir', 'rocheux', 'qui'], ['donné', 'des', 'bornes', 'inférieures', 'de'], ['de', 'notre', 'chemin', 'de', 'retour'], ['de', 'la', 'passerelle', '.', 'lettre'], ['suivre', 'ce', 'chemin', \"jusqu'\", 'au'], [')', 'au', 'carrefour', ',', 'un'], ['.', 'Des', 'lacets', 'sont', 'également'], ['franchir', 'le', 'torrent', 'par', 'la'], [',', 'le', 'téléphérique', 'constituerait', 'selon'], ['Traverser', 'le', 'torrent', 'au', 'niveau'], ['droite', 'le', 'circuit', 'du', 'départ'], ['sur', 'le', 'parking', 'au', 'Sud'], ['est', 'la', 'gare de bifurcation', 'des', 'deux'], ['retenue', 'ou', 'réservoir', 'est', 'un'], ['la', 'deuxième', 'bifurcation', ',', 'en'], ['sous', 'le', 'téléphérique', '.', 'rapport'], ['nombre', 'de', 'circuits', 'logiques', 'programmables'], ['escarpement', '(', 'couloir', 'enneigé', 'tard'], ['entre', 'deux', 'balises', ',', 'des'], ['apercevoir', 'les', 'cascades', 'dans', 'le'], ['avec', 'un', 'rond-point', \"n'\", 'ouvrant'], ['un', 'quatrième', 'tracé', 'longeant', 'la'], ['géologique', 'et', 'site', \"d'\", 'escalade'], ['servi', 'de', 'chapelles', 'ou', ','], ['.', 'Le', 'bois', 'de', 'cœur'], [\"n'\", 'est', 'pas', 'de', 'ma'], ['les', 'petits', 'chemins', '(', 'sentiers'], ['une', 'faible', 'pente', 'en', 'forêt'], ['air', 'de', 'chalets', ',', 'elles'], ['sur', 'le', 'chemin', 'de', 'droite'], ['souvent', 'les', 'circuits', 'courts', 'pour'], ['creux', 'du', 'chemin', 'une', 'nouvelle'], ['de', 'longues', 'lignes', 'droites', 'entrecoupées'], ['à', 'une', \"patte d' oie\", '.', 'gars'], ['le', 'petit', 'abri', 'avant', \"d'\"], ['sur', 'des', 'pentes', 'à', '45'], ['ne', 'suis', 'pas', 'sûr', \"qu'\"], ['de', 'la', 'balise', 'située', 'au-dessus'], ['puis', 'au', 'parking', 'où', 'nous'], ['.', 'La', \"patte d' oie\", 'est', 'un'], ['sur', 'la', 'piste', 'qui', 'ramène'], ['sans', 'aucun', 'croisement', 'à', 'niveau'], ['refroidissement', 'des', 'circuits', 'secondaires', 'de'], ['avec', 'une', 'pente', 'au', 'sommet'], ['desservent', 'des', 'bâtiments', 'collectifs', 'ou'], ['constitue', 'un', 'belvédère', 'exceptionnel', 'sur'], ['sur', 'les', 'balcons', 'en', 'bois'], ['supports', 'de', 'barrières', 'de', 'sécurité'], ['mur', 'du', 'château', '2', ':'], ['depuis', 'l’', 'office de tourisme', ',', 'prendre'], ['traverse', 'des', 'pentes', 'raides', '.'], ['accéder', 'au', 'col', 'qui', 'domine'], ['dans', 'le', 'bois', 'formant', 'un'], ['à', 'un', 'circuit', \"d'\", 'eau'], ['que', 'trois', 'campings', 'qui', 'totalisent'], ['parfois', 'à', 'pic', '.', 'chien'], ['les', 'dernières', 'maisons', 'dans', 'la'], ['composent', \"d'\", 'arches', 'souvent', 'très'], ['dans', 'la', 'combe', 'en', 'éboulis'], ['suivre', 'le', 'sentier', 'sur', '200m'], ['droite', 'une', 'sente', 'qui', 'descend'], [':', 'La', 'cabane', 'se', 'distingue'], ['utilisent', 'des', 'cabanes', 'par', 'nécessité'], ['de', 'ce', 'passage', 'rocheux', 'est'], ['et', 'mini', 'chalets', '.', 'question'], ['sur', 'le', 'sentier', 'en', 'suivant'], ['à', 'la', 'bifurcation du sentier', 'qui', 'descend'], ['passage', 'au', 'lavoir', 'était', 'en'], [\"d'\", 'un', 'parc', 'isolé', '.'], ['gauche', 'en', 'lacets', 'serrés', 'vers'], ['de', \"l'\", 'église', 'anglicane', 'tandis'], ['Suivre', 'ce', 'sentier', 'sur', '500m'], [\"d'\", 'une', 'bifurcation', 'en', 'deux'], ['après', 'le', 'lavoir', 'et', 'la'], ['sortie', 'du', 'parking', 'en', 'direction'], ['dans', 'une', 'pente', 'raide', 'mais'], ['.', 'Le', 'terrain', 'est', 'un'], ['sur', 'la', 'rive', 'gauche', ','], ['de', 'la', 'voie', 'verte', ')'], ['à', 'un', 'carrefour de sentiers', '.', 'faute'], ['modistes', '.', 'épingle', 'de', 'laiton'], ['un', 'ancien', 'canal', '.', 'courant'], ['traversant', 'des', 'rochers', '.', 'fois'], ['«', 'La', 'croix', 'demeure', 'tandis'], ['croisant', 'les', 'boulevards', 'ceinturant', 'le'], ['ou', 'des', 'bâtiments', ',', 'soit'], ['Emprunter', 'la', 'route', \"jusqu'\", 'au'], ['.', 'Rester', 'rive', 'droite', 'du'], ['nord', 'une', 'sente', 'mal', 'marquée'], ['passer', 'la', 'barrière', 'qui', 'bloque'], ['de', 'la', 'maison', 'au', 'crépi'], ['Reprendre', 'le', 'sentier', 'en', 'sens'], ['règles', 'de', 'passage', 'peuvent', 'être'], [',', 'un', 'boulevard', 'est', 'donc'], ['renfoncement', 'à', 'arche', 'en', 'plein'], ['les', 'deux', 'chapelles', 'attenantes', 'rassemblées'], ['est', 'un', 'bâtiment', 'estampillé', '1992'], ['sur', 'le', 'terrain', 'divers', 'chemin'], ['milliers', \"d'\", 'églises', 'ont', 'été'], ['correspond', 'au', 'trajet', 'des', 'eaux'], ['.', 'Le', 'chemin', 'décrit', 'une'], ['au-dessus', 'du', 'cimetière', '(', 'en'], ['corps', 'de', 'bâtiment', ',', 'avant'], ['sur', 'le', \"poteau d' un lampadaire\", ')', '.'], ['longeant', 'le', 'déversoir des lacs', ',', 'par'], ['sous', 'le', 'téléski', '.', 'moyen'], ['.', 'Ancienne', 'gare de bifurcation', ',', 'elle'], ['à', '2', 'belvédères', 'avec', 'de'], ['sommet', 'des', 'pistes de ski', '.', 'côté'], ['flanc', 'hors', 'sentier', 'pour', 'rejoindre'], ['comme', 'le', 'cirque', ',', 'le'], ['bord', 'du', 'lac', 'ou', 'dans'], ['Retrouvez', 'le', 'sentier de montée', 'au', 'niveau'], ['dans', 'le', 'rond-point', ',', 'prendre'], ['.', 'Plusieurs', 'circuits', 'pédestres', '('], ['transforme', 'un', 'parking', 'gratuit', 'en'], ['ignorant', 'un', 'chemin', 'qui', 'part'], [',', 'la', 'fourche', 'bêche', 'est'], ['au', 'second', 'embranchement', ',', 'suivre'], ['translation', 'des', 'cimetières', 'hors', 'de'], ['traverser', 'le', 'pont', 'pour', 'retrouver'], ['dessous', 'du', 'parking', '(', 'marques'], ['constituées', 'de', 'barres', 'métalliques', 'horizontales'], ['ruine', 'plusieurs', 'églises', ',', 'couvents'], [',', 'les', 'barrières', 'postzygotiques', 'vont'], ['remonter', 'la', 'sente', 'menant', 'au'], ['atteindre', 'le', 'sentier de montée', 'au', 'carrefour'], [\"d'\", 'une', 'forêt', \"d'\", 'antennes'], ['gâte', '...', 'barres', 'rocheuses', '!'], ['une', 'nouvelle', 'intersection', '(', '2'], ['trouver', 'un', 'sentier', '(', '2'], ['.', 'Le', 'déversoir', 'en', 'amont'], ['élevée', 'des', 'cols', '(', 'appelés'], [\"d'\", 'un', 'parc', 'linéaire', 'est'], [\"d'\", 'un', 'bassin', ',', 'de'], ['dans', 'la', 'pente', '(', 'cairns'], ['fond', 'du', 'lac', ',', 'sur'], ['et', 'les', 'carrefours', 'à', 'feux'], ['découvrent', 'des', 'panneaux', 'indiquant', 'Le'], ['Traverser', 'la', 'route', 'pour', 'rejoindre'], ['que', 'les', 'balcons', 'en', 'versant'], ['.', 'Le', 'rond-point', 'est', 'aussi'], ['arrivé', 'au', 'lac', ',', 'laisser'], ['de', ':', 'maisons', 'individuelles', ':'], [',', 'premier', 'chemin', 'de', 'fer'], ['entre', 'plusieurs', 'bassins', 'touristiques', '('], [\"'\", 'autres', 'chapelles', 'existent', 'dans'], ['rejoindre', 'le', 'vallon', 'du', 'même'], ['design', 'des', 'barres', 'de', 'maintien'], ['traces', 'de', 'sentier', 'pas', 'tout'], ['une', 'première', 'barre', 'rocheuse', 'de'], ['franchissant', 'le', 'ruisseau', 'et', 'tourner'], ['tête', 'de', 'fourche', 'aérodynamique', 'avec'], ['prendre', 'un', 'chemin', 'qui', 'part'], ['virage', 'en', 'épingle', 'suivant', '.'], ['de', 'la', 'barre', 'repérée', 'tout'], ['temps', 'de', 'parcours', \"jusqu'\", 'au'], ['des', 'deux', 'arches', 'jaunes', 'de'], [',', 'les', 'cirques', 'et', 'les'], ['prenez', 'le', 'chemin', 'qui', 'oblique']]\n",
      "** Vectorisation of inputs... \n",
      "\n",
      "** Loading model ./models/MLP_PCA_5grams.h5 \n",
      "\n"
     ]
    },
    {
     "name": "stdout",
     "output_type": "stream",
     "text": [
      "** Predicting... \n",
      "\n"
     ]
    },
    {
     "ename": "ValueError",
     "evalue": "cannot reshape array of size 291000 into shape (368,1500)",
     "output_type": "error",
     "traceback": [
      "\u001b[0;31m---------------------------------------------------------------------------\u001b[0m",
      "\u001b[0;31mValueError\u001b[0m                                Traceback (most recent call last)",
      "\u001b[0;32m<ipython-input-32-07ab438f0ec4>\u001b[0m in \u001b[0;36m<module>\u001b[0;34m\u001b[0m\n\u001b[1;32m      6\u001b[0m \u001b[0mmodel\u001b[0m \u001b[0;34m=\u001b[0m \u001b[0mloadmodel\u001b[0m\u001b[0;34m(\u001b[0m\u001b[0mmodel_path\u001b[0m\u001b[0;34m,\u001b[0m \u001b[0malgorithm\u001b[0m\u001b[0;34m,\u001b[0m \u001b[0mkeras_models\u001b[0m\u001b[0;34m)\u001b[0m\u001b[0;34m\u001b[0m\u001b[0;34m\u001b[0m\u001b[0m\n\u001b[1;32m      7\u001b[0m \u001b[0;34m\u001b[0m\u001b[0m\n\u001b[0;32m----> 8\u001b[0;31m \u001b[0macc\u001b[0m \u001b[0;34m=\u001b[0m \u001b[0mprediction\u001b[0m\u001b[0;34m(\u001b[0m\u001b[0mmodel\u001b[0m\u001b[0;34m,\u001b[0m \u001b[0mx_test\u001b[0m\u001b[0;34m,\u001b[0m \u001b[0my_test\u001b[0m\u001b[0;34m,\u001b[0m \u001b[0mngram_size\u001b[0m\u001b[0;34m,\u001b[0m \u001b[0mwe_vector_size\u001b[0m\u001b[0;34m,\u001b[0m \u001b[0malgorithm\u001b[0m\u001b[0;34m)\u001b[0m\u001b[0;34m\u001b[0m\u001b[0;34m\u001b[0m\u001b[0m\n\u001b[0m\u001b[1;32m      9\u001b[0m \u001b[0mprint\u001b[0m\u001b[0;34m(\u001b[0m\u001b[0;34m'Validation accuracy:'\u001b[0m\u001b[0;34m,\u001b[0m \u001b[0macc\u001b[0m\u001b[0;34m)\u001b[0m\u001b[0;34m\u001b[0m\u001b[0;34m\u001b[0m\u001b[0m\n",
      "\u001b[0;32m<ipython-input-31-4abc2a4ebdbb>\u001b[0m in \u001b[0;36mprediction\u001b[0;34m(clf, x_test, y_test, ngram_size, we_vector_size, algorithm)\u001b[0m\n\u001b[1;32m     17\u001b[0m \u001b[0;34m\u001b[0m\u001b[0m\n\u001b[1;32m     18\u001b[0m     \u001b[0;32mif\u001b[0m \u001b[0malgorithm\u001b[0m \u001b[0;34m==\u001b[0m \u001b[0;34m'MLP_PCA'\u001b[0m\u001b[0;34m:\u001b[0m\u001b[0;34m\u001b[0m\u001b[0;34m\u001b[0m\u001b[0m\n\u001b[0;32m---> 19\u001b[0;31m         \u001b[0mx_test\u001b[0m \u001b[0;34m=\u001b[0m \u001b[0mnp\u001b[0m\u001b[0;34m.\u001b[0m\u001b[0mreshape\u001b[0m\u001b[0;34m(\u001b[0m\u001b[0mx_test\u001b[0m\u001b[0;34m,\u001b[0m \u001b[0;34m(\u001b[0m\u001b[0;36m368\u001b[0m\u001b[0;34m,\u001b[0m \u001b[0mngram_size\u001b[0m \u001b[0;34m*\u001b[0m \u001b[0mwe_vector_size\u001b[0m\u001b[0;34m)\u001b[0m\u001b[0;34m)\u001b[0m\u001b[0;34m\u001b[0m\u001b[0;34m\u001b[0m\u001b[0m\n\u001b[0m\u001b[1;32m     20\u001b[0m         \u001b[0mpca\u001b[0m \u001b[0;34m=\u001b[0m \u001b[0mPCA\u001b[0m\u001b[0;34m(\u001b[0m\u001b[0;36m0.99\u001b[0m\u001b[0;34m)\u001b[0m\u001b[0;34m\u001b[0m\u001b[0;34m\u001b[0m\u001b[0m\n\u001b[1;32m     21\u001b[0m         \u001b[0;31m#x_test = pca.fit(x_test)\u001b[0m\u001b[0;34m\u001b[0m\u001b[0;34m\u001b[0m\u001b[0;34m\u001b[0m\u001b[0m\n",
      "\u001b[0;32m<__array_function__ internals>\u001b[0m in \u001b[0;36mreshape\u001b[0;34m(*args, **kwargs)\u001b[0m\n",
      "\u001b[0;32m~/.pyenv/versions/3.7.3/lib/python3.7/site-packages/numpy/core/fromnumeric.py\u001b[0m in \u001b[0;36mreshape\u001b[0;34m(a, newshape, order)\u001b[0m\n\u001b[1;32m    299\u001b[0m            [5, 6]])\n\u001b[1;32m    300\u001b[0m     \"\"\"\n\u001b[0;32m--> 301\u001b[0;31m     \u001b[0;32mreturn\u001b[0m \u001b[0m_wrapfunc\u001b[0m\u001b[0;34m(\u001b[0m\u001b[0ma\u001b[0m\u001b[0;34m,\u001b[0m \u001b[0;34m'reshape'\u001b[0m\u001b[0;34m,\u001b[0m \u001b[0mnewshape\u001b[0m\u001b[0;34m,\u001b[0m \u001b[0morder\u001b[0m\u001b[0;34m=\u001b[0m\u001b[0morder\u001b[0m\u001b[0;34m)\u001b[0m\u001b[0;34m\u001b[0m\u001b[0;34m\u001b[0m\u001b[0m\n\u001b[0m\u001b[1;32m    302\u001b[0m \u001b[0;34m\u001b[0m\u001b[0m\n\u001b[1;32m    303\u001b[0m \u001b[0;34m\u001b[0m\u001b[0m\n",
      "\u001b[0;32m~/.pyenv/versions/3.7.3/lib/python3.7/site-packages/numpy/core/fromnumeric.py\u001b[0m in \u001b[0;36m_wrapfunc\u001b[0;34m(obj, method, *args, **kwds)\u001b[0m\n\u001b[1;32m     59\u001b[0m \u001b[0;34m\u001b[0m\u001b[0m\n\u001b[1;32m     60\u001b[0m     \u001b[0;32mtry\u001b[0m\u001b[0;34m:\u001b[0m\u001b[0;34m\u001b[0m\u001b[0;34m\u001b[0m\u001b[0m\n\u001b[0;32m---> 61\u001b[0;31m         \u001b[0;32mreturn\u001b[0m \u001b[0mbound\u001b[0m\u001b[0;34m(\u001b[0m\u001b[0;34m*\u001b[0m\u001b[0margs\u001b[0m\u001b[0;34m,\u001b[0m \u001b[0;34m**\u001b[0m\u001b[0mkwds\u001b[0m\u001b[0;34m)\u001b[0m\u001b[0;34m\u001b[0m\u001b[0;34m\u001b[0m\u001b[0m\n\u001b[0m\u001b[1;32m     62\u001b[0m     \u001b[0;32mexcept\u001b[0m \u001b[0mTypeError\u001b[0m\u001b[0;34m:\u001b[0m\u001b[0;34m\u001b[0m\u001b[0;34m\u001b[0m\u001b[0m\n\u001b[1;32m     63\u001b[0m         \u001b[0;31m# A TypeError occurs if the object does have such a method in its\u001b[0m\u001b[0;34m\u001b[0m\u001b[0;34m\u001b[0m\u001b[0;34m\u001b[0m\u001b[0m\n",
      "\u001b[0;31mValueError\u001b[0m: cannot reshape array of size 291000 into shape (368,1500)"
     ]
    }
   ],
   "source": [
    "model_path = './models/MLP_PCA_5grams.h5'\n",
    "algorithm = 'MLP_PCA'\n",
    "ngram_size = 5\n",
    "\n",
    "x_test = preprocess_input(df['sentences'], ngram_size, fr_nouns_file, fasttext_model, we_vector_size)\n",
    "model = loadmodel(model_path, algorithm, keras_models)\n",
    "\n",
    "acc = prediction(model, x_test, y_test, ngram_size, we_vector_size, algorithm)\n",
    "print('Validation accuracy:', acc)"
   ]
  },
  {
   "cell_type": "code",
   "execution_count": null,
   "metadata": {},
   "outputs": [],
   "source": []
  },
  {
   "cell_type": "code",
   "execution_count": 33,
   "metadata": {},
   "outputs": [
    {
     "name": "stdout",
     "output_type": "stream",
     "text": [
      "** Transform sentences to 5 ngrams... \n",
      "\n",
      "[['vers', 'les', 'cols', 'voisins', 'mais'], ['avec', 'un', 'passage', 'dans', 'les'], ['atteindre', 'l’', 'église', 'en-dessous', 'du'], ['rejoindre', 'le', 'sentier de montée', 'un', 'peu'], ['À', 'la', \"patte d' oie\", ',', 'laisser'], ['milieu', 'des', 'maisons', ',', 'continuer'], ['.', 'Un', 'snack-bar', '(', 'souvent'], ['des', 'deux', 'cols', 'rencontrée', 'à'], ['sur', 'les', 'rochers', \"d'\", 'une'], ['le', 'même', 'chemin', ',', 'laisser'], ['laisser', 'le', 'sentier', 'qui', 'part'], ['sur', 'le', 'parc', ',', 'sauf'], ['.', 'Ancienne', 'gare de bifurcation', ',', 'elle'], ['prendre', 'le', 'sentier', 'à', 'gauche'], ['une', 'véritable', 'gare de bifurcation', 'des', 'branches'], [',', 'poursuivre', 'rive', 'droite', ','], [',', 'une', 'cabane', 'abandonnée', 'où'], ['porter', 'des', 'lacets', 'de', 'couleurs'], ['nommé', 'le', 'couloir', 'de', 'la'], ['à', 'une', 'bifurcation', '.', 'propos'], ['repérer', 'des', 'cairns', 'qui', 'mènent'], ['pacages', 'de', 'sous-bois', '.', 'ordre'], ['dans', 'une', 'ruelle', 'qui', 'elle'], ['avec', 'une', 'barre', 'latérale', 'commune'], ['de', 'la', \"patte d' oie\", '.', 'début'], ['.', 'Un', 'boulevard', 'est', 'une'], ['une', 'mini-', 'bambouseraie', ',', 'le'], ['indispensable', 'au', 'passage', 'des', 'bateaux'], ['le', 'même', 'chemin', '(', 'si'], [',', 'une', 'passerelle', 'sécurisée', 'sur'], ['un', 'petit', 'col', 'qui', 'offre'], ['vers', 'un', 'ruisseau', 'que', 'vous'], ['très', 'grandes', 'brèches', '.', 'paix'], ['longe', 'le', 'cirque', '.', 'avis'], ['atteindre', 'un', 'couloir', 'rocheux', 'qui'], ['donné', 'des', 'bornes', 'inférieures', 'de'], ['de', 'notre', 'chemin', 'de', 'retour'], ['de', 'la', 'passerelle', '.', 'geste'], ['suivre', 'ce', 'chemin', \"jusqu'\", 'au'], [')', 'au', 'carrefour', ',', 'un'], ['.', 'Des', 'lacets', 'sont', 'également'], ['franchir', 'le', 'torrent', 'par', 'la'], [',', 'le', 'téléphérique', 'constituerait', 'selon'], ['Traverser', 'le', 'torrent', 'au', 'niveau'], ['droite', 'le', 'circuit', 'du', 'départ'], ['sur', 'le', 'parking', 'au', 'Sud'], ['est', 'la', 'gare de bifurcation', 'des', 'deux'], ['retenue', 'ou', 'réservoir', 'est', 'un'], ['la', 'deuxième', 'bifurcation', ',', 'en'], ['sous', 'le', 'téléphérique', '.', 'esprit'], ['nombre', 'de', 'circuits', 'logiques', 'programmables'], ['escarpement', '(', 'couloir', 'enneigé', 'tard'], ['entre', 'deux', 'balises', ',', 'des'], ['apercevoir', 'les', 'cascades', 'dans', 'le'], ['avec', 'un', 'rond-point', \"n'\", 'ouvrant'], ['un', 'quatrième', 'tracé', 'longeant', 'la'], ['géologique', 'et', 'site', \"d'\", 'escalade'], ['servi', 'de', 'chapelles', 'ou', ','], ['.', 'Le', 'bois', 'de', 'cœur'], [\"n'\", 'est', 'pas', 'de', 'ma'], ['les', 'petits', 'chemins', '(', 'sentiers'], ['une', 'faible', 'pente', 'en', 'forêt'], ['air', 'de', 'chalets', ',', 'elles'], ['sur', 'le', 'chemin', 'de', 'droite'], ['souvent', 'les', 'circuits', 'courts', 'pour'], ['creux', 'du', 'chemin', 'une', 'nouvelle'], ['de', 'longues', 'lignes', 'droites', 'entrecoupées'], ['à', 'une', \"patte d' oie\", '.', 'mari'], ['le', 'petit', 'abri', 'avant', \"d'\"], ['sur', 'des', 'pentes', 'à', '45'], ['ne', 'suis', 'pas', 'sûr', \"qu'\"], ['de', 'la', 'balise', 'située', 'au-dessus'], ['puis', 'au', 'parking', 'où', 'nous'], ['.', 'La', \"patte d' oie\", 'est', 'un'], ['sur', 'la', 'piste', 'qui', 'ramène'], ['sans', 'aucun', 'croisement', 'à', 'niveau'], ['refroidissement', 'des', 'circuits', 'secondaires', 'de'], ['avec', 'une', 'pente', 'au', 'sommet'], ['desservent', 'des', 'bâtiments', 'collectifs', 'ou'], ['constitue', 'un', 'belvédère', 'exceptionnel', 'sur'], ['sur', 'les', 'balcons', 'en', 'bois'], ['supports', 'de', 'barrières', 'de', 'sécurité'], ['mur', 'du', 'château', '2', ':'], ['depuis', 'l’', 'office de tourisme', ',', 'prendre'], ['traverse', 'des', 'pentes', 'raides', '.'], ['accéder', 'au', 'col', 'qui', 'domine'], ['dans', 'le', 'bois', 'formant', 'un'], ['à', 'un', 'circuit', \"d'\", 'eau'], ['que', 'trois', 'campings', 'qui', 'totalisent'], ['parfois', 'à', 'pic', '.', 'doigt'], ['les', 'dernières', 'maisons', 'dans', 'la'], ['composent', \"d'\", 'arches', 'souvent', 'très'], ['dans', 'la', 'combe', 'en', 'éboulis'], ['suivre', 'le', 'sentier', 'sur', '200m'], ['droite', 'une', 'sente', 'qui', 'descend'], [':', 'La', 'cabane', 'se', 'distingue'], ['utilisent', 'des', 'cabanes', 'par', 'nécessité'], ['de', 'ce', 'passage', 'rocheux', 'est'], ['et', 'mini', 'chalets', '.', 'doigt'], ['sur', 'le', 'sentier', 'en', 'suivant'], ['à', 'la', 'bifurcation du sentier', 'qui', 'descend'], ['passage', 'au', 'lavoir', 'était', 'en'], [\"d'\", 'un', 'parc', 'isolé', '.'], ['gauche', 'en', 'lacets', 'serrés', 'vers'], ['de', \"l'\", 'église', 'anglicane', 'tandis'], ['Suivre', 'ce', 'sentier', 'sur', '500m'], [\"d'\", 'une', 'bifurcation', 'en', 'deux'], ['après', 'le', 'lavoir', 'et', 'la'], ['sortie', 'du', 'parking', 'en', 'direction'], ['dans', 'une', 'pente', 'raide', 'mais'], ['.', 'Le', 'terrain', 'est', 'un'], ['sur', 'la', 'rive', 'gauche', ','], ['de', 'la', 'voie', 'verte', ')'], ['à', 'un', 'carrefour de sentiers', '.', 'temps'], ['modistes', '.', 'épingle', 'de', 'laiton'], ['un', 'ancien', 'canal', '.', 'confiance'], ['traversant', 'des', 'rochers', '.', 'vieux'], ['«', 'La', 'croix', 'demeure', 'tandis'], ['croisant', 'les', 'boulevards', 'ceinturant', 'le'], ['ou', 'des', 'bâtiments', ',', 'soit'], ['Emprunter', 'la', 'route', \"jusqu'\", 'au'], ['.', 'Rester', 'rive', 'droite', 'du'], ['nord', 'une', 'sente', 'mal', 'marquée'], ['passer', 'la', 'barrière', 'qui', 'bloque'], ['de', 'la', 'maison', 'au', 'crépi'], ['Reprendre', 'le', 'sentier', 'en', 'sens'], ['règles', 'de', 'passage', 'peuvent', 'être'], [',', 'un', 'boulevard', 'est', 'donc'], ['renfoncement', 'à', 'arche', 'en', 'plein'], ['les', 'deux', 'chapelles', 'attenantes', 'rassemblées'], ['est', 'un', 'bâtiment', 'estampillé', '1992'], ['sur', 'le', 'terrain', 'divers', 'chemin'], ['milliers', \"d'\", 'églises', 'ont', 'été'], ['correspond', 'au', 'trajet', 'des', 'eaux'], ['.', 'Le', 'chemin', 'décrit', 'une'], ['au-dessus', 'du', 'cimetière', '(', 'en'], ['corps', 'de', 'bâtiment', ',', 'avant'], ['sur', 'le', \"poteau d' un lampadaire\", ')', '.'], ['longeant', 'le', 'déversoir des lacs', ',', 'par'], ['sous', 'le', 'téléski', '.', 'mort'], ['.', 'Ancienne', 'gare de bifurcation', ',', 'elle'], ['à', '2', 'belvédères', 'avec', 'de'], ['sommet', 'des', 'pistes de ski', '.', 'peine'], ['flanc', 'hors', 'sentier', 'pour', 'rejoindre'], ['comme', 'le', 'cirque', ',', 'le'], ['bord', 'du', 'lac', 'ou', 'dans'], ['Retrouvez', 'le', 'sentier de montée', 'au', 'niveau'], ['dans', 'le', 'rond-point', ',', 'prendre'], ['.', 'Plusieurs', 'circuits', 'pédestres', '('], ['transforme', 'un', 'parking', 'gratuit', 'en'], ['ignorant', 'un', 'chemin', 'qui', 'part'], [',', 'la', 'fourche', 'bêche', 'est'], ['au', 'second', 'embranchement', ',', 'suivre'], ['translation', 'des', 'cimetières', 'hors', 'de'], ['traverser', 'le', 'pont', 'pour', 'retrouver'], ['dessous', 'du', 'parking', '(', 'marques'], ['constituées', 'de', 'barres', 'métalliques', 'horizontales'], ['ruine', 'plusieurs', 'églises', ',', 'couvents'], [',', 'les', 'barrières', 'postzygotiques', 'vont'], ['remonter', 'la', 'sente', 'menant', 'au'], ['atteindre', 'le', 'sentier de montée', 'au', 'carrefour'], [\"d'\", 'une', 'forêt', \"d'\", 'antennes'], ['gâte', '...', 'barres', 'rocheuses', '!'], ['une', 'nouvelle', 'intersection', '(', '2'], ['trouver', 'un', 'sentier', '(', '2'], ['.', 'Le', 'déversoir', 'en', 'amont'], ['élevée', 'des', 'cols', '(', 'appelés'], [\"d'\", 'un', 'parc', 'linéaire', 'est'], [\"d'\", 'un', 'bassin', ',', 'de'], ['dans', 'la', 'pente', '(', 'cairns'], ['fond', 'du', 'lac', ',', 'sur'], ['et', 'les', 'carrefours', 'à', 'feux'], ['découvrent', 'des', 'panneaux', 'indiquant', 'Le'], ['Traverser', 'la', 'route', 'pour', 'rejoindre'], ['que', 'les', 'balcons', 'en', 'versant'], ['.', 'Le', 'rond-point', 'est', 'aussi'], ['arrivé', 'au', 'lac', ',', 'laisser'], ['de', ':', 'maisons', 'individuelles', ':'], [',', 'premier', 'chemin', 'de', 'fer'], ['entre', 'plusieurs', 'bassins', 'touristiques', '('], [\"'\", 'autres', 'chapelles', 'existent', 'dans'], ['rejoindre', 'le', 'vallon', 'du', 'même'], ['design', 'des', 'barres', 'de', 'maintien'], ['traces', 'de', 'sentier', 'pas', 'tout'], ['une', 'première', 'barre', 'rocheuse', 'de'], ['franchissant', 'le', 'ruisseau', 'et', 'tourner'], ['tête', 'de', 'fourche', 'aérodynamique', 'avec'], ['prendre', 'un', 'chemin', 'qui', 'part'], ['virage', 'en', 'épingle', 'suivant', '.'], ['de', 'la', 'barre', 'repérée', 'tout'], ['temps', 'de', 'parcours', \"jusqu'\", 'au'], ['des', 'deux', 'arches', 'jaunes', 'de'], [',', 'les', 'cirques', 'et', 'les'], ['prenez', 'le', 'chemin', 'qui', 'oblique']]\n",
      "** Vectorisation of inputs... \n",
      "\n",
      "** Loading model ./models/SVM_5grams.joblib \n",
      "\n",
      "** Predicting... \n",
      "\n"
     ]
    },
    {
     "name": "stderr",
     "output_type": "stream",
     "text": [
      "/Users/lmoncla/.pyenv/versions/3.7.3/lib/python3.7/site-packages/sklearn/utils/deprecation.py:143: FutureWarning: The sklearn.svm.classes module is  deprecated in version 0.22 and will be removed in version 0.24. The corresponding classes / functions should instead be imported from sklearn.svm. Anything that cannot be imported from sklearn.svm is now part of the private API.\n",
      "  \n",
      "/Users/lmoncla/.pyenv/versions/3.7.3/lib/python3.7/site-packages/sklearn/base.py:334: UserWarning: Trying to unpickle estimator SVC from version 0.20.1 when using version 0.23.1. This might lead to breaking code or invalid results. Use at your own risk.\n",
      "  more_tags = base_class._more_tags(self)\n"
     ]
    },
    {
     "ename": "AttributeError",
     "evalue": "'SVC' object has no attribute 'break_ties'",
     "output_type": "error",
     "traceback": [
      "\u001b[0;31m---------------------------------------------------------------------------\u001b[0m",
      "\u001b[0;31mAttributeError\u001b[0m                            Traceback (most recent call last)",
      "\u001b[0;32m<ipython-input-33-3885ad19d18e>\u001b[0m in \u001b[0;36m<module>\u001b[0;34m\u001b[0m\n\u001b[1;32m      6\u001b[0m \u001b[0mmodel\u001b[0m \u001b[0;34m=\u001b[0m \u001b[0mloadmodel\u001b[0m\u001b[0;34m(\u001b[0m\u001b[0mmodel_path\u001b[0m\u001b[0;34m,\u001b[0m \u001b[0malgorithm\u001b[0m\u001b[0;34m,\u001b[0m \u001b[0mkeras_models\u001b[0m\u001b[0;34m)\u001b[0m\u001b[0;34m\u001b[0m\u001b[0;34m\u001b[0m\u001b[0m\n\u001b[1;32m      7\u001b[0m \u001b[0;34m\u001b[0m\u001b[0m\n\u001b[0;32m----> 8\u001b[0;31m \u001b[0macc\u001b[0m \u001b[0;34m=\u001b[0m \u001b[0mprediction\u001b[0m\u001b[0;34m(\u001b[0m\u001b[0mmodel\u001b[0m\u001b[0;34m,\u001b[0m \u001b[0mx_test\u001b[0m\u001b[0;34m,\u001b[0m \u001b[0my_test\u001b[0m\u001b[0;34m,\u001b[0m \u001b[0mngram_size\u001b[0m\u001b[0;34m,\u001b[0m \u001b[0mwe_vector_size\u001b[0m\u001b[0;34m,\u001b[0m \u001b[0malgorithm\u001b[0m\u001b[0;34m)\u001b[0m\u001b[0;34m\u001b[0m\u001b[0;34m\u001b[0m\u001b[0m\n\u001b[0m\u001b[1;32m      9\u001b[0m \u001b[0mprint\u001b[0m\u001b[0;34m(\u001b[0m\u001b[0;34m'Validation accuracy:'\u001b[0m\u001b[0;34m,\u001b[0m \u001b[0macc\u001b[0m\u001b[0;34m)\u001b[0m\u001b[0;34m\u001b[0m\u001b[0;34m\u001b[0m\u001b[0m\n",
      "\u001b[0;32m<ipython-input-31-4abc2a4ebdbb>\u001b[0m in \u001b[0;36mprediction\u001b[0;34m(clf, x_test, y_test, ngram_size, we_vector_size, algorithm)\u001b[0m\n\u001b[1;32m     28\u001b[0m \u001b[0;34m\u001b[0m\u001b[0m\n\u001b[1;32m     29\u001b[0m     \u001b[0;32mif\u001b[0m \u001b[0malgorithm\u001b[0m \u001b[0;34m==\u001b[0m \u001b[0;34m'RF'\u001b[0m \u001b[0;32mor\u001b[0m \u001b[0malgorithm\u001b[0m \u001b[0;34m==\u001b[0m \u001b[0;34m'SVM'\u001b[0m\u001b[0;34m:\u001b[0m\u001b[0;34m\u001b[0m\u001b[0;34m\u001b[0m\u001b[0m\n\u001b[0;32m---> 30\u001b[0;31m         \u001b[0macc\u001b[0m \u001b[0;34m=\u001b[0m \u001b[0mclf\u001b[0m\u001b[0;34m.\u001b[0m\u001b[0mscore\u001b[0m\u001b[0;34m(\u001b[0m\u001b[0mx_test\u001b[0m\u001b[0;34m,\u001b[0m \u001b[0my_test\u001b[0m\u001b[0;34m)\u001b[0m\u001b[0;34m\u001b[0m\u001b[0;34m\u001b[0m\u001b[0m\n\u001b[0m\u001b[1;32m     31\u001b[0m \u001b[0;34m\u001b[0m\u001b[0m\n\u001b[1;32m     32\u001b[0m     \u001b[0;32mreturn\u001b[0m \u001b[0macc\u001b[0m\u001b[0;34m\u001b[0m\u001b[0;34m\u001b[0m\u001b[0m\n",
      "\u001b[0;32m~/.pyenv/versions/3.7.3/lib/python3.7/site-packages/sklearn/base.py\u001b[0m in \u001b[0;36mscore\u001b[0;34m(self, X, y, sample_weight)\u001b[0m\n\u001b[1;32m    497\u001b[0m         \u001b[0;32mreturn\u001b[0m \u001b[0mnp\u001b[0m\u001b[0;34m.\u001b[0m\u001b[0mnonzero\u001b[0m\u001b[0;34m(\u001b[0m\u001b[0mrows\u001b[0m\u001b[0;34m)\u001b[0m\u001b[0;34m[\u001b[0m\u001b[0;36m0\u001b[0m\u001b[0;34m]\u001b[0m\u001b[0;34m,\u001b[0m \u001b[0mnp\u001b[0m\u001b[0;34m.\u001b[0m\u001b[0mnonzero\u001b[0m\u001b[0;34m(\u001b[0m\u001b[0mcolumns\u001b[0m\u001b[0;34m)\u001b[0m\u001b[0;34m[\u001b[0m\u001b[0;36m0\u001b[0m\u001b[0;34m]\u001b[0m\u001b[0;34m\u001b[0m\u001b[0;34m\u001b[0m\u001b[0m\n\u001b[1;32m    498\u001b[0m \u001b[0;34m\u001b[0m\u001b[0m\n\u001b[0;32m--> 499\u001b[0;31m     \u001b[0;32mdef\u001b[0m \u001b[0mget_shape\u001b[0m\u001b[0;34m(\u001b[0m\u001b[0mself\u001b[0m\u001b[0;34m,\u001b[0m \u001b[0mi\u001b[0m\u001b[0;34m)\u001b[0m\u001b[0;34m:\u001b[0m\u001b[0;34m\u001b[0m\u001b[0;34m\u001b[0m\u001b[0m\n\u001b[0m\u001b[1;32m    500\u001b[0m         \"\"\"Shape of the i'th bicluster.\n\u001b[1;32m    501\u001b[0m \u001b[0;34m\u001b[0m\u001b[0m\n",
      "\u001b[0;32m~/.pyenv/versions/3.7.3/lib/python3.7/site-packages/sklearn/svm/_base.py\u001b[0m in \u001b[0;36mpredict\u001b[0;34m(self, X)\u001b[0m\n\u001b[1;32m    604\u001b[0m                                  \" probability=False\")\n\u001b[1;32m    605\u001b[0m         \u001b[0;32mif\u001b[0m \u001b[0mself\u001b[0m\u001b[0;34m.\u001b[0m\u001b[0m_impl\u001b[0m \u001b[0;32mnot\u001b[0m \u001b[0;32min\u001b[0m \u001b[0;34m(\u001b[0m\u001b[0;34m'c_svc'\u001b[0m\u001b[0;34m,\u001b[0m \u001b[0;34m'nu_svc'\u001b[0m\u001b[0;34m)\u001b[0m\u001b[0;34m:\u001b[0m\u001b[0;34m\u001b[0m\u001b[0;34m\u001b[0m\u001b[0m\n\u001b[0;32m--> 606\u001b[0;31m             raise AttributeError(\"predict_proba only implemented for SVC\"\n\u001b[0m\u001b[1;32m    607\u001b[0m                                  \" and NuSVC\")\n\u001b[1;32m    608\u001b[0m \u001b[0;34m\u001b[0m\u001b[0m\n",
      "\u001b[0;31mAttributeError\u001b[0m: 'SVC' object has no attribute 'break_ties'"
     ]
    }
   ],
   "source": [
    "!pip3 install scikit-learn==0.22\n",
    "model_path = './models/SVM_5grams.joblib'\n",
    "algorithm = 'SVM'\n",
    "ngram_size = 5\n",
    "\n",
    "x_test = preprocess_input(df['sentences'], ngram_size, fr_nouns_file, fasttext_model, we_vector_size)\n",
    "model = loadmodel(model_path, algorithm, keras_models)\n",
    "\n",
    "acc = prediction(model, x_test, y_test, ngram_size, we_vector_size, algorithm)\n",
    "print('Validation accuracy:', acc)"
   ]
  },
  {
   "cell_type": "code",
   "execution_count": null,
   "metadata": {},
   "outputs": [],
   "source": []
  },
  {
   "cell_type": "code",
   "execution_count": null,
   "metadata": {},
   "outputs": [],
   "source": []
  },
  {
   "cell_type": "code",
   "execution_count": null,
   "metadata": {},
   "outputs": [],
   "source": []
  }
 ],
 "metadata": {
  "kernelspec": {
   "display_name": "Python 3",
   "language": "python",
   "name": "python3"
  },
  "language_info": {
   "codemirror_mode": {
    "name": "ipython",
    "version": 3
   },
   "file_extension": ".py",
   "mimetype": "text/x-python",
   "name": "python",
   "nbconvert_exporter": "python",
   "pygments_lexer": "ipython3",
   "version": "3.7.3"
  }
 },
 "nbformat": 4,
 "nbformat_minor": 2
}
