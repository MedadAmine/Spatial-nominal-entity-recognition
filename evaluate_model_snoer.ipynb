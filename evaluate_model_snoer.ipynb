{
 "cells": [
  {
   "cell_type": "code",
   "execution_count": 2,
   "metadata": {},
   "outputs": [
    {
     "name": "stdout",
     "output_type": "stream",
     "text": [
      "Requirement already satisfied: treetaggerwrapper in /Users/lmoncla/.pyenv/versions/3.7.3/lib/python3.7/site-packages (2.3)\r\n"
     ]
    },
    {
     "name": "stderr",
     "output_type": "stream",
     "text": [
      "/Users/lmoncla/.pyenv/versions/3.7.3/lib/python3.7/site-packages/treetaggerwrapper.py:740: FutureWarning: Possible nested set at position 8\n",
      "  re.IGNORECASE | re.VERBOSE)\n",
      "/Users/lmoncla/.pyenv/versions/3.7.3/lib/python3.7/site-packages/treetaggerwrapper.py:2044: FutureWarning: Possible nested set at position 152\n",
      "  re.VERBOSE | re.IGNORECASE)\n",
      "/Users/lmoncla/.pyenv/versions/3.7.3/lib/python3.7/site-packages/treetaggerwrapper.py:2067: FutureWarning: Possible nested set at position 409\n",
      "  UrlMatch_re = re.compile(UrlMatch_expression, re.VERBOSE | re.IGNORECASE)\n",
      "/Users/lmoncla/.pyenv/versions/3.7.3/lib/python3.7/site-packages/treetaggerwrapper.py:2079: FutureWarning: Possible nested set at position 192\n",
      "  EmailMatch_re = re.compile(EmailMatch_expression, re.VERBOSE | re.IGNORECASE)\n"
     ]
    },
    {
     "name": "stdout",
     "output_type": "stream",
     "text": [
      "Requirement already satisfied: keras in /Users/lmoncla/.pyenv/versions/3.7.3/lib/python3.7/site-packages (2.4.3)\n",
      "Requirement already satisfied: scipy>=0.14 in /Users/lmoncla/.pyenv/versions/3.7.3/lib/python3.7/site-packages (from keras) (1.4.1)\n",
      "Requirement already satisfied: numpy>=1.9.1 in /Users/lmoncla/.pyenv/versions/3.7.3/lib/python3.7/site-packages (from keras) (1.18.3)\n",
      "Requirement already satisfied: pyyaml in /Users/lmoncla/.pyenv/versions/3.7.3/lib/python3.7/site-packages (from keras) (5.3.1)\n",
      "Requirement already satisfied: h5py in /Users/lmoncla/.pyenv/versions/3.7.3/lib/python3.7/site-packages (from keras) (2.10.0)\n",
      "Requirement already satisfied: six in /Users/lmoncla/.pyenv/versions/3.7.3/lib/python3.7/site-packages (from h5py->keras) (1.14.0)\n"
     ]
    }
   ],
   "source": [
    "import argparse\n",
    "import random\n",
    "import csv\n",
    "import pandas as pd\n",
    "import numpy as np\n",
    "!pip3 install treetaggerwrapper\n",
    "import treetaggerwrapper\n",
    "!pip3 install keras\n",
    "from keras.models import load_model\n",
    "from gensim.models import fasttext\n",
    "from joblib import load\n",
    "from sklearn.decomposition import PCA"
   ]
  },
  {
   "cell_type": "code",
   "execution_count": 51,
   "metadata": {},
   "outputs": [],
   "source": [
    "def sentences_to_ngrams(sentences, ngram_size, fr_nouns_file):\n",
    "\n",
    "    ngrams = []\n",
    "    context_size = int(ngram_size / 2)\n",
    "    tagger = treetaggerwrapper.TreeTagger(TAGLANG='fr', TAGINENC='utf-8', TAGOUTENC='utf-8')\n",
    "\n",
    "    with open(fr_nouns_file, \"r\") as file:\n",
    "        fr_nouns = file.readlines()\n",
    "\n",
    "    for s in sentences:\n",
    "        s = s.replace(';', '')\n",
    "        s = s.replace(\"'\", chr(39))\n",
    "        s = s.replace('\\'', chr(39))\n",
    "        s = s.replace(\"d\\'\", \" deeee \")\n",
    "        s = s.replace(\"l\\'\", \" leeee \")\n",
    "\n",
    "        sentence_tagged = treetaggerwrapper.make_tags(tagger.tag_text(s))\n",
    "\n",
    "        try:\n",
    "            sentence = list(np.array(sentence_tagged)[:, 0])  # getting only the token (not lemmas and POS)\n",
    "        except IndexError:\n",
    "            break\n",
    "            \n",
    "        for i, token in enumerate(sentence):\n",
    "            if token == \"leeee\":\n",
    "                sentence[i] = \"l\\'\"\n",
    "            if token == 'deeee':\n",
    "                sentence[i] = \"d\\'\"\n",
    "\n",
    "        index_left = sentence.index('[')\n",
    "        index_right = sentence.index(']')\n",
    "\n",
    "        phrase_ngram = []\n",
    "\n",
    "        # add left context\n",
    "        for i in range(context_size):\n",
    "            try:\n",
    "                phrase_ngram.append(sentence[index_left - context_size + i])\n",
    "            except IndexError:\n",
    "                # when there is not enough words (ex: pivot word starting the sentence)\n",
    "                phrase_ngram.append(random.choice(fr_nouns).rstrip())\n",
    "\n",
    "        # add pivot token(s) (can contain several tokens)\n",
    "        phrase_ngram.append(' '.join(sentence[index_left + 1:index_right]))\n",
    "\n",
    "        # add right context\n",
    "        for i in range(context_size):\n",
    "            try:\n",
    "                phrase_ngram.append(sentence[index_right + 1 + i])\n",
    "            except IndexError:\n",
    "                # when there is not enough words (ex: pivot word starting the sentence)\n",
    "                phrase_ngram.append(random.choice(fr_nouns).rstrip())\n",
    "\n",
    "        ngrams.append(phrase_ngram)\n",
    "\n",
    "    return ngrams"
   ]
  },
  {
   "cell_type": "code",
   "execution_count": 4,
   "metadata": {},
   "outputs": [],
   "source": [
    "def vectorization(ngram_size, input_data, we_vector_size, fasttext_wv):\n",
    "\n",
    "    data_vec = np.array([])\n",
    "\n",
    "    for phrase in input_data:\n",
    "        phrase_vec = np.array([])\n",
    "\n",
    "        for word in phrase:\n",
    "            word = word.replace(\"’\", \"\\'\")\n",
    "            vec = fasttext_wv[word]\n",
    "            phrase_vec = np.append(phrase_vec, vec)\n",
    "\n",
    "        data_vec = np.append(data_vec, phrase_vec)\n",
    "\n",
    "    data_vec = np.reshape(data_vec, (len(input_data), ngram_size, we_vector_size))\n",
    "\n",
    "    return data_vec"
   ]
  },
  {
   "cell_type": "code",
   "execution_count": 8,
   "metadata": {},
   "outputs": [],
   "source": [
    "input_data = './corpus/corpus_validation_mix.csv'\n",
    "we_vector_size = 300\n",
    "fr_nouns_file = './corpus/listedesnomfrancais.txt'\n",
    "model_fasttext = './corpus/cc.fr.300.bin'\n",
    "\n",
    "keras_models = ['GRU', 'MLP_PCA', 'MLP_AE']\n",
    "\n",
    "np.random.seed(1)\n"
   ]
  },
  {
   "cell_type": "code",
   "execution_count": 9,
   "metadata": {},
   "outputs": [
    {
     "name": "stdout",
     "output_type": "stream",
     "text": [
      "** Load input data... \n",
      "\n",
      "   idf  labels                                          sentences  \\\n",
      "0  166       1  la balade peut se poursuivre autour du lac ou ...   \n",
      "1  303       1  le sentier grimpe au-dessus du hameau avec un ...   \n",
      "2  199       1  ( 9 ) poursuivre la descente vers la droite en...   \n",
      "3  394       1  continuer un petit peu sur l'arête puis descen...   \n",
      "4  313       1  (3) À la [patte d'oie], laisser le départ à dr...   \n",
      "\n",
      "         pivot_words                src               alea  \n",
      "0               cols  corpus_validation  0,085618299510875  \n",
      "1            passage  corpus_validation  0,295723408093251  \n",
      "2             église  corpus_validation  0,942577511847241  \n",
      "3  sentier de montée  corpus_validation  0,543919977290256  \n",
      "4        patte d'oie  corpus_validation    0,8779708338724  \n"
     ]
    }
   ],
   "source": [
    "print('** Load input data... \\n')\n",
    "df = pd.read_csv(input_data, delimiter=';', names=['idf', 'labels', 'sentences', 'pivot_words', 'src', 'alea'])\n",
    "\n",
    "print(df.head(5))\n",
    "\n",
    "y_test = df['labels']"
   ]
  },
  {
   "cell_type": "code",
   "execution_count": 10,
   "metadata": {},
   "outputs": [
    {
     "name": "stdout",
     "output_type": "stream",
     "text": [
      "** Loading fastText model...\n",
      "\n"
     ]
    }
   ],
   "source": [
    "print(\"** Loading fastText model...\\n\")\n",
    "fasttext_model = fasttext.load_facebook_vectors(model_fasttext)"
   ]
  },
  {
   "cell_type": "code",
   "execution_count": 12,
   "metadata": {},
   "outputs": [],
   "source": [
    "def preprocess_input(sentences, ngram_size, fr_nouns_file, fasttext_model, we_vector_size):\n",
    "    print('** Transform sentences to ' + str(ngram_size) + ' ngrams... \\n')\n",
    "    ngrams_list = sentences_to_ngrams(sentences, ngram_size, fr_nouns_file)\n",
    "    print(ngrams_list)\n",
    "\n",
    "    print('** Vectorisation of inputs... \\n')\n",
    "    x_test = vectorization(ngram_size, ngrams_list, we_vector_size, fasttext_model)\n",
    "    \n",
    "    return x_test"
   ]
  },
  {
   "cell_type": "code",
   "execution_count": 92,
   "metadata": {},
   "outputs": [],
   "source": [
    "def loadmodel(model_path, algorithm, keras_models):\n",
    "    print('** Loading model ' + model_path + ' \\n')\n",
    "\n",
    "    if algorithm in keras_models:\n",
    "        clf = load_model(model_path)\n",
    "    else:\n",
    "        clf = load(model_path)\n",
    "        \n",
    "    return clf\n",
    "\n",
    "\n",
    "def prediction(clf, x_test, y_test, ngram_size, we_vector_size, algorithm):\n",
    "    print('** Predicting... \\n')\n",
    "\n",
    "    if algorithm == 'RF' or algorithm == 'SVM' or algorithm == 'MLP_AE' or algorithm == 'MLP_PCA':\n",
    "        x_test = np.reshape(x_test, (len(x_test), ngram_size * we_vector_size))\n",
    "\n",
    "    if algorithm == 'MLP_PCA':\n",
    "        df_train = pd.read_csv('corpus/corpus_apprentissage_fevrier_teste_acp.csv', delimiter=';', names=['idf', 'labels', 'sentences', 'pivot_words', 'alea'])\n",
    "        x_train = preprocess_input(df_train['sentences'], ngram_size, fr_nouns_file, fasttext_model, we_vector_size)\n",
    "        x_train = np.reshape(x_train, (len(x_train), ngram_size * we_vector_size))\n",
    "        \n",
    "        #pca = PCA(0.99)\n",
    "        if ngram_size == 1:\n",
    "            pca = PCA(n_components = 87)\n",
    "        if ngram_size == 5:\n",
    "            pca = PCA(n_components = 295)\n",
    "        if ngram_size == 7:\n",
    "            pca = PCA(n_components = 369)\n",
    "        pca.fit(x_train)\n",
    "        \n",
    "        #x_test = pca.fit(x_test)\n",
    "        \n",
    "        print(x_test.shape)\n",
    "        x_test = pca.transform(x_test)\n",
    "        print(\"apres PCA\")\n",
    "        print(x_test.shape)\n",
    "\n",
    "    if algorithm in keras_models:\n",
    "        score = clf.evaluate(x_test, y_test)\n",
    "        acc = score[1]\n",
    "\n",
    "    if algorithm == 'RF' or algorithm == 'SVM':\n",
    "        acc = clf.score(x_test, y_test)\n",
    "\n",
    "    return acc\n",
    "    #print('Test accuracy:', acc)"
   ]
  },
  {
   "cell_type": "code",
   "execution_count": 16,
   "metadata": {
    "collapsed": true
   },
   "outputs": [
    {
     "name": "stdout",
     "output_type": "stream",
     "text": [
      "** Transform sentences to 1 ngrams... \n",
      "\n",
      "[['cols'], ['passage'], ['église'], ['sentier de montée'], [\"patte d' oie\"], ['maisons'], ['snack-bar'], ['cols'], ['rochers'], ['chemin'], ['sentier'], ['parc'], ['gare de bifurcation'], ['sentier'], ['gare de bifurcation'], ['rive'], ['cabane'], ['lacets'], ['couloir'], ['bifurcation'], ['cairns'], ['sous-bois'], ['ruelle'], ['barre'], [\"patte d' oie\"], ['boulevard'], ['bambouseraie'], ['passage'], ['chemin'], ['passerelle'], ['col'], ['ruisseau'], ['brèches'], ['cirque'], ['couloir'], ['bornes'], ['chemin'], ['passerelle'], ['chemin'], ['carrefour'], ['lacets'], ['torrent'], ['téléphérique'], ['torrent'], ['circuit'], ['parking'], ['gare de bifurcation'], ['réservoir'], ['bifurcation'], ['téléphérique'], ['circuits'], ['couloir'], ['balises'], ['cascades'], ['rond-point'], ['tracé'], ['site'], ['chapelles'], ['bois'], ['pas'], ['chemins'], ['pente'], ['chalets'], ['chemin'], ['circuits'], ['chemin'], ['lignes'], [\"patte d' oie\"], ['abri'], ['pentes'], ['pas'], ['balise'], ['parking'], [\"patte d' oie\"], ['piste'], ['croisement'], ['circuits'], ['pente'], ['bâtiments'], ['belvédère'], ['balcons'], ['barrières'], ['château'], ['office de tourisme'], ['pentes'], ['col'], ['bois'], ['circuit'], ['campings'], ['pic'], ['maisons'], ['arches'], ['combe'], ['sentier'], ['sente'], ['cabane'], ['cabanes'], ['passage'], ['chalets'], ['sentier'], ['bifurcation du sentier'], ['lavoir'], ['parc'], ['lacets'], ['église'], ['sentier'], ['bifurcation'], ['lavoir'], ['parking'], ['pente'], ['terrain'], ['rive'], ['voie'], ['carrefour de sentiers'], ['épingle'], ['canal'], ['rochers'], ['croix'], ['boulevards'], ['bâtiments'], ['route'], ['rive'], ['sente'], ['barrière'], ['maison'], ['sentier'], ['passage'], ['boulevard'], ['arche'], ['chapelles'], ['bâtiment'], ['terrain'], ['églises'], ['trajet'], ['chemin'], ['cimetière'], ['bâtiment'], [\"poteau d' un lampadaire\"], ['déversoir des lacs'], ['téléski'], ['gare de bifurcation'], ['belvédères'], ['pistes de ski'], ['sentier'], ['cirque'], ['lac'], ['sentier de montée'], ['rond-point'], ['circuits'], ['parking'], ['chemin'], ['fourche'], ['embranchement'], ['cimetières'], ['pont'], ['parking'], ['barres'], ['églises'], ['barrières'], ['sente'], ['sentier de montée'], ['forêt'], ['barres'], ['intersection'], ['sentier'], ['déversoir'], ['cols'], ['parc'], ['bassin'], ['pente'], ['lac'], ['carrefours'], ['panneaux'], ['route'], ['balcons'], ['rond-point'], ['lac'], ['maisons'], ['chemin'], ['bassins'], ['chapelles'], ['vallon'], ['barres'], ['sentier'], ['barre'], ['ruisseau'], ['fourche'], ['chemin'], ['épingle'], ['barre'], ['parcours'], ['arches'], ['cirques'], ['chemin']]\n",
      "** Vectorisation of inputs... \n",
      "\n",
      "** Loading model ./models/GRU_1gram.h5 \n",
      "\n",
      "** Predicting... \n",
      "\n",
      "7/7 [==============================] - 0s 2ms/step - loss: 1.3501 - accuracy: 0.6701\n",
      "Validation accuracy: 0.6701030731201172\n"
     ]
    }
   ],
   "source": [
    "model_path = './models/GRU_1gram.h5'\n",
    "algorithm = 'GRU'\n",
    "ngram_size = 1\n",
    "\n",
    "\n",
    "x_test = preprocess_input(df['sentences'], ngram_size, fr_nouns_file, fasttext_model, we_vector_size)\n",
    "model = loadmodel(model_path, algorithm, keras_models)\n",
    "\n",
    "acc = prediction(model, x_test, y_test, ngram_size, we_vector_size, algorithm)\n",
    "print('Validation accuracy:', acc)"
   ]
  },
  {
   "cell_type": "code",
   "execution_count": 17,
   "metadata": {
    "collapsed": true
   },
   "outputs": [
    {
     "name": "stdout",
     "output_type": "stream",
     "text": [
      "** Transform sentences to 5 ngrams... \n",
      "\n",
      "[['vers', 'les', 'cols', 'voisins', 'mais'], ['avec', 'un', 'passage', 'dans', 'les'], ['atteindre', 'l’', 'église', 'en-dessous', 'du'], ['rejoindre', 'le', 'sentier de montée', 'un', 'peu'], ['À', 'la', \"patte d' oie\", ',', 'laisser'], ['milieu', 'des', 'maisons', ',', 'continuer'], ['.', 'Un', 'snack-bar', '(', 'souvent'], ['des', 'deux', 'cols', 'rencontrée', 'à'], ['sur', 'les', 'rochers', \"d'\", 'une'], ['le', 'même', 'chemin', ',', 'laisser'], ['laisser', 'le', 'sentier', 'qui', 'part'], ['sur', 'le', 'parc', ',', 'sauf'], ['.', 'Ancienne', 'gare de bifurcation', ',', 'elle'], ['prendre', 'le', 'sentier', 'à', 'gauche'], ['une', 'véritable', 'gare de bifurcation', 'des', 'branches'], [',', 'poursuivre', 'rive', 'droite', ','], [',', 'une', 'cabane', 'abandonnée', 'où'], ['porter', 'des', 'lacets', 'de', 'couleurs'], ['nommé', 'le', 'couloir', 'de', 'la'], ['à', 'une', 'bifurcation', '.', 'voyage'], ['repérer', 'des', 'cairns', 'qui', 'mènent'], ['pacages', 'de', 'sous-bois', '.', 'argent'], ['dans', 'une', 'ruelle', 'qui', 'elle'], ['avec', 'une', 'barre', 'latérale', 'commune'], ['de', 'la', \"patte d' oie\", '.', 'gauche'], ['.', 'Un', 'boulevard', 'est', 'une'], ['une', 'mini-', 'bambouseraie', ',', 'le'], ['indispensable', 'au', 'passage', 'des', 'bateaux'], ['le', 'même', 'chemin', '(', 'si'], [',', 'une', 'passerelle', 'sécurisée', 'sur'], ['un', 'petit', 'col', 'qui', 'offre'], ['vers', 'un', 'ruisseau', 'que', 'vous'], ['très', 'grandes', 'brèches', '.', 'gars'], ['longe', 'le', 'cirque', '.', 'prison'], ['atteindre', 'un', 'couloir', 'rocheux', 'qui'], ['donné', 'des', 'bornes', 'inférieures', 'de'], ['de', 'notre', 'chemin', 'de', 'retour'], ['de', 'la', 'passerelle', '.', 'oreille'], ['suivre', 'ce', 'chemin', \"jusqu'\", 'au'], [')', 'au', 'carrefour', ',', 'un'], ['.', 'Des', 'lacets', 'sont', 'également'], ['franchir', 'le', 'torrent', 'par', 'la'], [',', 'le', 'téléphérique', 'constituerait', 'selon'], ['Traverser', 'le', 'torrent', 'au', 'niveau'], ['droite', 'le', 'circuit', 'du', 'départ'], ['sur', 'le', 'parking', 'au', 'Sud'], ['est', 'la', 'gare de bifurcation', 'des', 'deux'], ['retenue', 'ou', 'réservoir', 'est', 'un'], ['la', 'deuxième', 'bifurcation', ',', 'en'], ['sous', 'le', 'téléphérique', '.', 'café'], ['nombre', 'de', 'circuits', 'logiques', 'programmables'], ['escarpement', '(', 'couloir', 'enneigé', 'tard'], ['entre', 'deux', 'balises', ',', 'des'], ['apercevoir', 'les', 'cascades', 'dans', 'le'], ['avec', 'un', 'rond-point', \"n'\", 'ouvrant'], ['un', 'quatrième', 'tracé', 'longeant', 'la'], ['géologique', 'et', 'site', \"d'\", 'escalade'], ['servi', 'de', 'chapelles', 'ou', ','], ['.', 'Le', 'bois', 'de', 'cœur'], [\"n'\", 'est', 'pas', 'de', 'ma'], ['les', 'petits', 'chemins', '(', 'sentiers'], ['une', 'faible', 'pente', 'en', 'forêt'], ['air', 'de', 'chalets', ',', 'elles'], ['sur', 'le', 'chemin', 'de', 'droite'], ['souvent', 'les', 'circuits', 'courts', 'pour'], ['creux', 'du', 'chemin', 'une', 'nouvelle'], ['de', 'longues', 'lignes', 'droites', 'entrecoupées'], ['à', 'une', \"patte d' oie\", '.', 'part'], ['le', 'petit', 'abri', 'avant', \"d'\"], ['sur', 'des', 'pentes', 'à', '45'], ['ne', 'suis', 'pas', 'sûr', \"qu'\"], ['de', 'la', 'balise', 'située', 'au-dessus'], ['puis', 'au', 'parking', 'où', 'nous'], ['.', 'La', \"patte d' oie\", 'est', 'un'], ['sur', 'la', 'piste', 'qui', 'ramène'], ['sans', 'aucun', 'croisement', 'à', 'niveau'], ['refroidissement', 'des', 'circuits', 'secondaires', 'de'], ['avec', 'une', 'pente', 'au', 'sommet'], ['desservent', 'des', 'bâtiments', 'collectifs', 'ou'], ['constitue', 'un', 'belvédère', 'exceptionnel', 'sur'], ['sur', 'les', 'balcons', 'en', 'bois'], ['supports', 'de', 'barrières', 'de', 'sécurité'], ['mur', 'du', 'château', '2', ':'], ['depuis', 'l’', 'office de tourisme', ',', 'prendre'], ['traverse', 'des', 'pentes', 'raides', '.'], ['accéder', 'au', 'col', 'qui', 'domine'], ['dans', 'le', 'bois', 'formant', 'un'], ['à', 'un', 'circuit', \"d'\", 'eau'], ['que', 'trois', 'campings', 'qui', 'totalisent'], ['parfois', 'à', 'pic', '.', 'putain'], ['les', 'dernières', 'maisons', 'dans', 'la'], ['composent', \"d'\", 'arches', 'souvent', 'très'], ['dans', 'la', 'combe', 'en', 'éboulis'], ['suivre', 'le', 'sentier', 'sur', '200m'], ['droite', 'une', 'sente', 'qui', 'descend'], [':', 'La', 'cabane', 'se', 'distingue'], ['utilisent', 'des', 'cabanes', 'par', 'nécessité'], ['de', 'ce', 'passage', 'rocheux', 'est'], ['et', 'mini', 'chalets', '.', 'joie'], ['sur', 'le', 'sentier', 'en', 'suivant'], ['à', 'la', 'bifurcation du sentier', 'qui', 'descend'], ['passage', 'au', 'lavoir', 'était', 'en'], [\"d'\", 'un', 'parc', 'isolé', '.'], ['gauche', 'en', 'lacets', 'serrés', 'vers'], ['de', \"l'\", 'église', 'anglicane', 'tandis'], ['Suivre', 'ce', 'sentier', 'sur', '500m'], [\"d'\", 'une', 'bifurcation', 'en', 'deux'], ['après', 'le', 'lavoir', 'et', 'la'], ['sortie', 'du', 'parking', 'en', 'direction'], ['dans', 'une', 'pente', 'raide', 'mais'], ['.', 'Le', 'terrain', 'est', 'un'], ['sur', 'la', 'rive', 'gauche', ','], ['de', 'la', 'voie', 'verte', ')'], ['à', 'un', 'carrefour de sentiers', '.', 'dent'], ['modistes', '.', 'épingle', 'de', 'laiton'], ['un', 'ancien', 'canal', '.', 'reste'], ['traversant', 'des', 'rochers', '.', 'copain'], ['«', 'La', 'croix', 'demeure', 'tandis'], ['croisant', 'les', 'boulevards', 'ceinturant', 'le'], ['ou', 'des', 'bâtiments', ',', 'soit'], ['Emprunter', 'la', 'route', \"jusqu'\", 'au'], ['.', 'Rester', 'rive', 'droite', 'du'], ['nord', 'une', 'sente', 'mal', 'marquée'], ['passer', 'la', 'barrière', 'qui', 'bloque'], ['de', 'la', 'maison', 'au', 'crépi'], ['Reprendre', 'le', 'sentier', 'en', 'sens'], ['règles', 'de', 'passage', 'peuvent', 'être'], [',', 'un', 'boulevard', 'est', 'donc'], ['renfoncement', 'à', 'arche', 'en', 'plein'], ['les', 'deux', 'chapelles', 'attenantes', 'rassemblées'], ['est', 'un', 'bâtiment', 'estampillé', '1992'], ['sur', 'le', 'terrain', 'divers', 'chemin'], ['milliers', \"d'\", 'églises', 'ont', 'été'], ['correspond', 'au', 'trajet', 'des', 'eaux'], ['.', 'Le', 'chemin', 'décrit', 'une'], ['au-dessus', 'du', 'cimetière', '(', 'en'], ['corps', 'de', 'bâtiment', ',', 'avant'], ['sur', 'le', \"poteau d' un lampadaire\", ')', '.'], ['longeant', 'le', 'déversoir des lacs', ',', 'par'], ['sous', 'le', 'téléski', '.', 'argent'], ['.', 'Ancienne', 'gare de bifurcation', ',', 'elle'], ['à', '2', 'belvédères', 'avec', 'de'], ['sommet', 'des', 'pistes de ski', '.', 'année'], ['flanc', 'hors', 'sentier', 'pour', 'rejoindre'], ['comme', 'le', 'cirque', ',', 'le'], ['bord', 'du', 'lac', 'ou', 'dans'], ['Retrouvez', 'le', 'sentier de montée', 'au', 'niveau'], ['dans', 'le', 'rond-point', ',', 'prendre'], ['.', 'Plusieurs', 'circuits', 'pédestres', '('], ['transforme', 'un', 'parking', 'gratuit', 'en'], ['ignorant', 'un', 'chemin', 'qui', 'part'], [',', 'la', 'fourche', 'bêche', 'est'], ['au', 'second', 'embranchement', ',', 'suivre'], ['translation', 'des', 'cimetières', 'hors', 'de'], ['traverser', 'le', 'pont', 'pour', 'retrouver'], ['dessous', 'du', 'parking', '(', 'marques'], ['constituées', 'de', 'barres', 'métalliques', 'horizontales'], ['ruine', 'plusieurs', 'églises', ',', 'couvents'], [',', 'les', 'barrières', 'postzygotiques', 'vont'], ['remonter', 'la', 'sente', 'menant', 'au'], ['atteindre', 'le', 'sentier de montée', 'au', 'carrefour'], [\"d'\", 'une', 'forêt', \"d'\", 'antennes'], ['gâte', '...', 'barres', 'rocheuses', '!'], ['une', 'nouvelle', 'intersection', '(', '2'], ['trouver', 'un', 'sentier', '(', '2'], ['.', 'Le', 'déversoir', 'en', 'amont'], ['élevée', 'des', 'cols', '(', 'appelés'], [\"d'\", 'un', 'parc', 'linéaire', 'est'], [\"d'\", 'un', 'bassin', ',', 'de'], ['dans', 'la', 'pente', '(', 'cairns'], ['fond', 'du', 'lac', ',', 'sur'], ['et', 'les', 'carrefours', 'à', 'feux'], ['découvrent', 'des', 'panneaux', 'indiquant', 'Le'], ['Traverser', 'la', 'route', 'pour', 'rejoindre'], ['que', 'les', 'balcons', 'en', 'versant'], ['.', 'Le', 'rond-point', 'est', 'aussi'], ['arrivé', 'au', 'lac', ',', 'laisser'], ['de', ':', 'maisons', 'individuelles', ':'], [',', 'premier', 'chemin', 'de', 'fer'], ['entre', 'plusieurs', 'bassins', 'touristiques', '('], [\"'\", 'autres', 'chapelles', 'existent', 'dans'], ['rejoindre', 'le', 'vallon', 'du', 'même'], ['design', 'des', 'barres', 'de', 'maintien'], ['traces', 'de', 'sentier', 'pas', 'tout'], ['une', 'première', 'barre', 'rocheuse', 'de'], ['franchissant', 'le', 'ruisseau', 'et', 'tourner'], ['tête', 'de', 'fourche', 'aérodynamique', 'avec'], ['prendre', 'un', 'chemin', 'qui', 'part'], ['virage', 'en', 'épingle', 'suivant', '.'], ['de', 'la', 'barre', 'repérée', 'tout'], ['temps', 'de', 'parcours', \"jusqu'\", 'au'], ['des', 'deux', 'arches', 'jaunes', 'de'], [',', 'les', 'cirques', 'et', 'les'], ['prenez', 'le', 'chemin', 'qui', 'oblique']]\n",
      "** Vectorisation of inputs... \n",
      "\n"
     ]
    },
    {
     "name": "stdout",
     "output_type": "stream",
     "text": [
      "** Loading model ./models/GRU_5grams.h5 \n",
      "\n",
      "** Predicting... \n",
      "\n",
      "7/7 [==============================] - 0s 2ms/step - loss: 0.7165 - accuracy: 0.7629\n",
      "Validation accuracy: 0.7628865838050842\n"
     ]
    }
   ],
   "source": [
    "model_path = './models/GRU_5grams.h5'\n",
    "algorithm = 'GRU'\n",
    "ngram_size = 5\n",
    "\n",
    "x_test = preprocess_input(df['sentences'], ngram_size, fr_nouns_file, fasttext_model, we_vector_size)\n",
    "model = loadmodel(model_path, algorithm, keras_models)\n",
    "\n",
    "acc = prediction(model, x_test, y_test, ngram_size, we_vector_size, algorithm)\n",
    "print('Validation accuracy:', acc)"
   ]
  },
  {
   "cell_type": "code",
   "execution_count": 19,
   "metadata": {
    "collapsed": true
   },
   "outputs": [
    {
     "name": "stdout",
     "output_type": "stream",
     "text": [
      "** Transform sentences to 7 ngrams... \n",
      "\n",
      "[['ou', 'vers', 'les', 'cols', 'voisins', 'mais', 'je'], ['hameau', 'avec', 'un', 'passage', 'dans', 'les', 'rochers'], ['à', 'atteindre', 'l’', 'église', 'en-dessous', 'du', 'hameau'], ['par', 'rejoindre', 'le', 'sentier de montée', 'un', 'peu', 'au'], [')', 'À', 'la', \"patte d' oie\", ',', 'laisser', 'le'], ['au', 'milieu', 'des', 'maisons', ',', 'continuer', 'par'], ['Canada', '.', 'Un', 'snack-bar', '(', 'souvent', 'abrégé'], ['intersection', 'des', 'deux', 'cols', 'rencontrée', 'à', 'la'], ['cassent', 'sur', 'les', 'rochers', \"d'\", 'une', 'netteté'], ['sur', 'le', 'même', 'chemin', ',', 'laisser', 'partir'], [',', 'laisser', 'le', 'sentier', 'qui', 'part', 'sur'], ['fermée', 'sur', 'le', 'parc', ',', 'sauf', 'les'], ['Trie-Château', '.', 'Ancienne', 'gare de bifurcation', ',', 'elle', 'est'], ['puis', 'prendre', 'le', 'sentier', 'à', 'gauche', 'après'], ['dernière', 'une', 'véritable', 'gare de bifurcation', 'des', 'branches', 'Est'], ['passerelle', ',', 'poursuivre', 'rive', 'droite', ',', 'atteindre'], ['crime', ',', 'une', 'cabane', 'abandonnée', 'où', 'sa'], ['de', 'porter', 'des', 'lacets', 'de', 'couleurs', 'vives'], [',', 'nommé', 'le', 'couloir', 'de', 'la', 'chimie'], ['arriver', 'à', 'une', 'bifurcation', '.', 'sourire', 'instant'], ['peut', 'repérer', 'des', 'cairns', 'qui', 'mènent', 'au'], ['et', 'pacages', 'de', 'sous-bois', '.', 'maître', 'doute'], ['débouche', 'dans', 'une', 'ruelle', 'qui', 'elle', '-même'], [',', 'avec', 'une', 'barre', 'latérale', 'commune', 'de'], ['milieu', 'de', 'la', \"patte d' oie\", '.', 'pièce', 'plan'], ['bords', '.', 'Un', 'boulevard', 'est', 'une', 'voie'], ['longer', 'une', 'mini-', 'bambouseraie', ',', 'le', 'chemin'], ['mètres', 'indispensable', 'au', 'passage', 'des', 'bateaux', 'entrant'], ['par', 'le', 'même', 'chemin', '(', 'si', 'vous'], ['après', ',', 'une', 'passerelle', 'sécurisée', 'sur', 'le'], ['rejoindre', 'un', 'petit', 'col', 'qui', 'offre', 'un'], ['descend', 'vers', 'un', 'ruisseau', 'que', 'vous', 'franchissez'], ['de', 'très', 'grandes', 'brèches', '.', 'bonheur', 'type'], ['et', 'longe', 'le', 'cirque', '.', 'temps', 'point'], ['à', 'atteindre', 'un', 'couloir', 'rocheux', 'qui', 'vient'], ['ont', 'donné', 'des', 'bornes', 'inférieures', 'de', 'complexité'], ['lacets', 'de', 'notre', 'chemin', 'de', 'retour', '.'], ['effondrement', 'de', 'la', 'passerelle', '.', 'groupe', 'avenir'], ['et', 'suivre', 'ce', 'chemin', \"jusqu'\", 'au', 'lieu-dit'], ['1', ')', 'au', 'carrefour', ',', 'un', 'poteau'], ['tambours', '.', 'Des', 'lacets', 'sont', 'également', 'utilisés'], ['.', 'franchir', 'le', 'torrent', 'par', 'la', 'passerelle'], ['mer', ',', 'le', 'téléphérique', 'constituerait', 'selon', 'les'], [':', 'Traverser', 'le', 'torrent', 'au', 'niveau', 'de'], ['à', 'droite', 'le', 'circuit', 'du', 'départ', '.'], ['situe', 'sur', 'le', 'parking', 'au', 'Sud', 'du'], ['Vincennes', 'est', 'la', 'gare de bifurcation', 'des', 'deux', 'branches'], ['de', 'retenue', 'ou', 'réservoir', 'est', 'un', 'plan'], ['a', 'la', 'deuxième', 'bifurcation', ',', 'en', 'épingle'], ['et', 'sous', 'le', 'téléphérique', '.', 'être', 'droit'], ['grand', 'nombre', 'de', 'circuits', 'logiques', 'programmables', 'et'], ['un', 'escarpement', '(', 'couloir', 'enneigé', 'tard', 'dans'], ['téléporter', 'entre', 'deux', 'balises', ',', 'des', 'tétraèdres'], ['à', 'apercevoir', 'les', 'cascades', 'dans', 'le', 'fond'], ['prises', 'avec', 'un', 'rond-point', \"n'\", 'ouvrant', 'que'], [',', 'un', 'quatrième', 'tracé', 'longeant', 'la', 'RD'], ['curiosité', 'géologique', 'et', 'site', \"d'\", 'escalade', ')'], ['ont', 'servi', 'de', 'chapelles', 'ou', ',', 'comme'], ['fermentescibles', '.', 'Le', 'bois', 'de', 'cœur', 'est'], ['Ce', \"n'\", 'est', 'pas', 'de', 'ma', 'faute'], ['aussi', 'les', 'petits', 'chemins', '(', 'sentiers', 'pour'], ['suit', 'une', 'faible', 'pente', 'en', 'forêt', '.'], [\"l'\", 'air', 'de', 'chalets', ',', 'elles', 'sont'], ['encore', 'sur', 'le', 'chemin', 'de', 'droite', ','], ['assez', 'souvent', 'les', 'circuits', 'courts', 'pour', 'les'], ['petit', 'creux', 'du', 'chemin', 'une', 'nouvelle', 'intersection'], ['par', 'de', 'longues', 'lignes', 'droites', 'entrecoupées', 'de'], [\"jusqu'\", 'à', 'une', \"patte d' oie\", '.', 'quartier', 'fait'], ['sur', 'le', 'petit', 'abri', 'avant', \"d'\", 'arriver'], ['aventurer', 'sur', 'des', 'pentes', 'à', '45', '°'], ['je', 'ne', 'suis', 'pas', 'sûr', \"qu'\", 'elles'], ['partie', 'de', 'la', 'balise', 'située', 'au-dessus', 'de'], [',', 'puis', 'au', 'parking', 'où', 'nous', 'serons'], ['Âge', '.', 'La', \"patte d' oie\", 'est', 'un', 'symbole'], ['droite', 'sur', 'la', 'piste', 'qui', 'ramène', 'à'], [',', 'sans', 'aucun', 'croisement', 'à', 'niveau', 'avec'], ['de', 'refroidissement', 'des', 'circuits', 'secondaires', 'de', 'chaudière'], [',', 'avec', 'une', 'pente', 'au', 'sommet', 'de'], ['qui', 'desservent', 'des', 'bâtiments', 'collectifs', 'ou', 'des'], ['et', 'constitue', 'un', 'belvédère', 'exceptionnel', 'sur', 'le'], ['poser', 'sur', 'les', 'balcons', 'en', 'bois', 'pour'], ['les', 'supports', 'de', 'barrières', 'de', 'sécurité', '.'], ['carrefour', 'mur', 'du', 'château', '2', ':', 'km'], [')', 'depuis', 'l’', 'office de tourisme', ',', 'prendre', 'en'], ['il', 'traverse', 'des', 'pentes', 'raides', '.', 'capitaine'], [',', 'accéder', 'au', 'col', 'qui', 'domine', 'les'], ['entrer', 'dans', 'le', 'bois', 'formant', 'un', 'entonnoir'], ['grâce', 'à', 'un', 'circuit', \"d'\", 'eau', 'fermé'], ['ainsi', 'que', 'trois', 'campings', 'qui', 'totalisent', '190'], ['rochers', 'parfois', 'à', 'pic', '.', 'paix', 'bruit'], ['après', 'les', 'dernières', 'maisons', 'dans', 'la', 'même'], ['se', 'composent', \"d'\", 'arches', 'souvent', 'très', 'inégales'], ['est', 'dans', 'la', 'combe', 'en', 'éboulis', 'menant'], ['et', 'suivre', 'le', 'sentier', 'sur', '200m', 'environ'], ['la', 'droite', 'une', 'sente', 'qui', 'descend', 'sur'], ['Définition', ':', 'La', 'cabane', 'se', 'distingue', ','], ['et', 'utilisent', 'des', 'cabanes', 'par', 'nécessité', '.'], ['traversée', 'de', 'ce', 'passage', 'rocheux', 'est', 'assez'], ['appartements', 'et', 'mini', 'chalets', '.', 'ciel', 'dame'], ['Continuer', 'sur', 'le', 'sentier', 'en', 'suivant', 'le'], ['Parvenir', 'à', 'la', 'bifurcation du sentier', 'qui', 'descend', 'du'], ['Le', 'passage', 'au', 'lavoir', 'était', 'en', 'effet'], ['centre', \"d'\", 'un', 'parc', 'isolé', '.', 'enfant'], ['à', 'gauche', 'en', 'lacets', 'serrés', 'vers', \"l'\"], ['tête', 'de', \"l'\", 'église', 'anglicane', 'tandis', 'que'], ['.', 'Suivre', 'ce', 'sentier', 'sur', '500m', \"jusqu'\"], ['cœur', \"d'\", 'une', 'bifurcation', 'en', 'deux', 'branches'], ['.', 'après', 'le', 'lavoir', 'et', 'la', 'croix'], ['la', 'sortie', 'du', 'parking', 'en', 'direction', 'de'], ['Descendre', 'dans', 'une', 'pente', 'raide', 'mais', 'bien'], ['réelle', '.', 'Le', 'terrain', 'est', 'un', 'peu'], ['Rester', 'sur', 'la', 'rive', 'gauche', ',', 'en'], ['long', 'de', 'la', 'voie', 'verte', ')', '.'], ['parvenir', 'à', 'un', 'carrefour de sentiers', '.', 'souvenir', 'musique'], ['les', 'modistes', '.', 'épingle', 'de', 'laiton', 'argenté'], ['encadraient', 'un', 'ancien', 'canal', '.', 'cours', 'courant'], ['en', 'traversant', 'des', 'rochers', '.', 'téléphone', 'rapport'], ['orbis', '«', 'La', 'croix', 'demeure', 'tandis', 'que'], ['en', 'croisant', 'les', 'boulevards', 'ceinturant', 'le', 'centre-ville'], ['logements', 'ou', 'des', 'bâtiments', ',', 'soit', 'intégrées'], ['.', 'Emprunter', 'la', 'route', \"jusqu'\", 'au', 'Chalet'], [')', '.', 'Rester', 'rive', 'droite', 'du', 'lac'], ['plein', 'nord', 'une', 'sente', 'mal', 'marquée', '.'], [',', 'passer', 'la', 'barrière', 'qui', 'bloque', 'le'], ['gauche', 'de', 'la', 'maison', 'au', 'crépi', 'jaune'], ['.', 'Reprendre', 'le', 'sentier', 'en', 'sens', 'inverse'], ['Les', 'règles', 'de', 'passage', 'peuvent', 'être', 'établies'], ['origine', ',', 'un', 'boulevard', 'est', 'donc', 'en'], ['un', 'renfoncement', 'à', 'arche', 'en', 'plein', 'cintre'], ['originalité', 'les', 'deux', 'chapelles', 'attenantes', 'rassemblées', 'en'], ['refuge', 'est', 'un', 'bâtiment', 'estampillé', '1992', ','], ['a', 'sur', 'le', 'terrain', 'divers', 'chemin', 'de'], ['des', 'milliers', \"d'\", 'églises', 'ont', 'été', 'construites'], ['Sources', 'correspond', 'au', 'trajet', 'des', 'eaux', 'de'], ['Bruyant', '.', 'Le', 'chemin', 'décrit', 'une', 'traversée'], ['part', 'au-dessus', 'du', 'cimetière', '(', 'en', 'direction'], ['seul', 'corps', 'de', 'bâtiment', ',', 'avant', \"l'\"], ['Jaunes', 'sur', 'le', \"poteau d' un lampadaire\", ')', '.', 'besoin'], ['en', 'longeant', 'le', 'déversoir des lacs', ',', 'par', 'des'], ['passer', 'sous', 'le', 'téléski', '.', 'honneur', 'droit'], ['Trie-Château', '.', 'Ancienne', 'gare de bifurcation', ',', 'elle', 'est'], ['accéder', 'à', '2', 'belvédères', 'avec', 'de', 'magnifiques'], ['le', 'sommet', 'des', 'pistes de ski', '.', 'carte', 'front'], ['à', 'flanc', 'hors', 'sentier', 'pour', 'rejoindre', 'le'], ['éléments', 'comme', 'le', 'cirque', ',', 'le', 'spectacle'], ['au', 'bord', 'du', 'lac', 'ou', 'dans', 'les'], [')', 'Retrouvez', 'le', 'sentier de montée', 'au', 'niveau', 'du'], [',', 'dans', 'le', 'rond-point', ',', 'prendre', 'la'], ['Pons', '.', 'Plusieurs', 'circuits', 'pédestres', '(', 'GR'], ['on', 'transforme', 'un', 'parking', 'gratuit', 'en', 'parking'], ['en', 'ignorant', 'un', 'chemin', 'qui', 'part', 'à'], ['Suisse', ',', 'la', 'fourche', 'bêche', 'est', 'aussi'], [',', 'au', 'second', 'embranchement', ',', 'suivre', 'le'], ['la', 'translation', 'des', 'cimetières', 'hors', 'de', 'l’enceinte'], ['et', 'traverser', 'le', 'pont', 'pour', 'retrouver', 'le'], ['en', 'dessous', 'du', 'parking', '(', 'marques', 'Rouges'], [',', 'constituées', 'de', 'barres', 'métalliques', 'horizontales', ','], ['et', 'ruine', 'plusieurs', 'églises', ',', 'couvents', 'et'], ['tout', ',', 'les', 'barrières', 'postzygotiques', 'vont', 'empêcher'], ['et', 'remonter', 'la', 'sente', 'menant', 'au', 'point'], ['et', 'atteindre', 'le', 'sentier de montée', 'au', 'carrefour', 'de'], ['couvert', \"d'\", 'une', 'forêt', \"d'\", 'antennes', 'et'], ['se', 'gâte', '...', 'barres', 'rocheuses', '!', 'affaire'], ['chemin', 'une', 'nouvelle', 'intersection', '(', '2', ')'], ['et', 'trouver', 'un', 'sentier', '(', '2', ')'], ['lavoir', '.', 'Le', 'déversoir', 'en', 'amont', ','], ['altitude', 'élevée', 'des', 'cols', '(', 'appelés', 'parfois'], ['typique', \"d'\", 'un', 'parc', 'linéaire', 'est', 'une'], ['niveau', \"d'\", 'un', 'bassin', ',', 'de', \"l'\"], ['droit', 'dans', 'la', 'pente', '(', 'cairns', ')'], ['du', 'fond', 'du', 'lac', ',', 'sur', 'lequel'], ['vélos', 'et', 'les', 'carrefours', 'à', 'feux', 'sont'], ['ils', 'découvrent', 'des', 'panneaux', 'indiquant', 'Le', 'Terminus'], ['.', 'Traverser', 'la', 'route', 'pour', 'rejoindre', 'le'], ['plus', 'que', 'les', 'balcons', 'en', 'versant', '.'], ['interdits', '.', 'Le', 'rond-point', 'est', 'aussi', 'un'], [')', 'arrivé', 'au', 'lac', ',', 'laisser', 'à'], ['est', 'de', ':', 'maisons', 'individuelles', ':', '21'], [')', ',', 'premier', 'chemin', 'de', 'fer', 'à'], ['stratégique', 'entre', 'plusieurs', 'bassins', 'touristiques', '(', 'Massif'], ['D', \"'\", 'autres', 'chapelles', 'existent', 'dans', 'les'], ['et', 'rejoindre', 'le', 'vallon', 'du', 'même', 'nom'], ['le', 'design', 'des', 'barres', 'de', 'maintien', ','], ['bonnes', 'traces', 'de', 'sentier', 'pas', 'tout', 'à'], ['sur', 'une', 'première', 'barre', 'rocheuse', 'de', 'faible'], ['en', 'franchissant', 'le', 'ruisseau', 'et', 'tourner', 'tout'], ['carénage', 'tête', 'de', 'fourche', 'aérodynamique', 'avec', 'un'], ['puis', 'prendre', 'un', 'chemin', 'qui', 'part', 'sur'], ['au', 'virage', 'en', 'épingle', 'suivant', '.', 'gueule'], ['extrémité', 'de', 'la', 'barre', 'repérée', 'tout', 'à'], ['Le', 'temps', 'de', 'parcours', \"jusqu'\", 'au', 'centre-ville'], ['inspire', 'des', 'deux', 'arches', 'jaunes', 'de', 'la'], ['temples', ',', 'les', 'cirques', 'et', 'les', 'mausolées'], [',', 'prenez', 'le', 'chemin', 'qui', 'oblique', 'légèrement']]\n",
      "** Vectorisation of inputs... \n",
      "\n"
     ]
    },
    {
     "name": "stdout",
     "output_type": "stream",
     "text": [
      "** Loading model ./models/GRU_7grams.h5 \n",
      "\n",
      "** Predicting... \n",
      "\n",
      "7/7 [==============================] - 0s 2ms/step - loss: 0.4734 - accuracy: 0.7887\n",
      "Validation accuracy: 0.7886598110198975\n"
     ]
    }
   ],
   "source": [
    "model_path = './models/GRU_7grams.h5'\n",
    "algorithm = 'GRU'\n",
    "ngram_size = 7\n",
    "\n",
    "x_test = preprocess_input(df['sentences'], ngram_size, fr_nouns_file, fasttext_model, we_vector_size)\n",
    "model = loadmodel(model_path, algorithm, keras_models)\n",
    "\n",
    "acc = prediction(model, x_test, y_test, ngram_size, we_vector_size, algorithm)\n",
    "print('Validation accuracy:', acc)"
   ]
  },
  {
   "cell_type": "code",
   "execution_count": 84,
   "metadata": {},
   "outputs": [
    {
     "name": "stdout",
     "output_type": "stream",
     "text": [
      "** Transform sentences to 1 ngrams... \n",
      "\n",
      "[['cols'], ['passage'], ['église'], ['sentier de montée'], [\"patte d' oie\"], ['maisons'], ['snack-bar'], ['cols'], ['rochers'], ['chemin'], ['sentier'], ['parc'], ['gare de bifurcation'], ['sentier'], ['gare de bifurcation'], ['rive'], ['cabane'], ['lacets'], ['couloir'], ['bifurcation'], ['cairns'], ['sous-bois'], ['ruelle'], ['barre'], [\"patte d' oie\"], ['boulevard'], ['bambouseraie'], ['passage'], ['chemin'], ['passerelle'], ['col'], ['ruisseau'], ['brèches'], ['cirque'], ['couloir'], ['bornes'], ['chemin'], ['passerelle'], ['chemin'], ['carrefour'], ['lacets'], ['torrent'], ['téléphérique'], ['torrent'], ['circuit'], ['parking'], ['gare de bifurcation'], ['réservoir'], ['bifurcation'], ['téléphérique'], ['circuits'], ['couloir'], ['balises'], ['cascades'], ['rond-point'], ['tracé'], ['site'], ['chapelles'], ['bois'], ['pas'], ['chemins'], ['pente'], ['chalets'], ['chemin'], ['circuits'], ['chemin'], ['lignes'], [\"patte d' oie\"], ['abri'], ['pentes'], ['pas'], ['balise'], ['parking'], [\"patte d' oie\"], ['piste'], ['croisement'], ['circuits'], ['pente'], ['bâtiments'], ['belvédère'], ['balcons'], ['barrières'], ['château'], ['office de tourisme'], ['pentes'], ['col'], ['bois'], ['circuit'], ['campings'], ['pic'], ['maisons'], ['arches'], ['combe'], ['sentier'], ['sente'], ['cabane'], ['cabanes'], ['passage'], ['chalets'], ['sentier'], ['bifurcation du sentier'], ['lavoir'], ['parc'], ['lacets'], ['église'], ['sentier'], ['bifurcation'], ['lavoir'], ['parking'], ['pente'], ['terrain'], ['rive'], ['voie'], ['carrefour de sentiers'], ['épingle'], ['canal'], ['rochers'], ['croix'], ['boulevards'], ['bâtiments'], ['route'], ['rive'], ['sente'], ['barrière'], ['maison'], ['sentier'], ['passage'], ['boulevard'], ['arche'], ['chapelles'], ['bâtiment'], ['terrain'], ['églises'], ['trajet'], ['chemin'], ['cimetière'], ['bâtiment'], [\"poteau d' un lampadaire\"], ['déversoir des lacs'], ['téléski'], ['gare de bifurcation'], ['belvédères'], ['pistes de ski'], ['sentier'], ['cirque'], ['lac'], ['sentier de montée'], ['rond-point'], ['circuits'], ['parking'], ['chemin'], ['fourche'], ['embranchement'], ['cimetières'], ['pont'], ['parking'], ['barres'], ['églises'], ['barrières'], ['sente'], ['sentier de montée'], ['forêt'], ['barres'], ['intersection'], ['sentier'], ['déversoir'], ['cols'], ['parc'], ['bassin'], ['pente'], ['lac'], ['carrefours'], ['panneaux'], ['route'], ['balcons'], ['rond-point'], ['lac'], ['maisons'], ['chemin'], ['bassins'], ['chapelles'], ['vallon'], ['barres'], ['sentier'], ['barre'], ['ruisseau'], ['fourche'], ['chemin'], ['épingle'], ['barre'], ['parcours'], ['arches'], ['cirques'], ['chemin']]\n",
      "** Vectorisation of inputs... \n",
      "\n",
      "** Loading model ./models/MLP_PCA_1gram.h5 \n",
      "\n",
      "** Predicting... \n",
      "\n",
      "** Transform sentences to 1 ngrams... \n",
      "\n",
      "[['passage'], ['cirques'], ['cascade'], ['bornes'], ['col'], ['parking'], ['cirque'], ['route'], ['sentier'], ['sentier'], ['églises'], ['balise'], ['lacets'], ['sentier'], ['passage'], ['balcon'], ['ruelle'], ['belvédère'], ['belvédère'], ['montée'], ['bornes'], ['circuits'], ['brèches'], ['pente'], ['pic'], ['parking'], ['bâtiment'], ['pas'], ['gare de bifurcation'], ['belvédères'], ['parking'], ['belvédères'], ['route'], ['bifurcation'], ['pistes de ski'], ['parking'], ['chemin'], ['bâtiment'], ['église'], ['boulevard'], ['couloir'], ['arche'], ['piste'], ['pente'], ['balcons'], ['sentier'], ['lignes'], ['bâtiments'], ['sentier'], ['brèches'], ['maisons'], ['pas'], ['cols'], ['route'], ['déversoir des lacs'], ['lacets'], ['sentier'], ['sentier'], ['cirques'], ['balises'], ['rond-point'], ['chemin'], ['chemin'], ['chalet'], ['bois'], ['bornes'], ['chemin'], ['rochers'], ['parking'], ['descente'], ['belvédères'], ['chemin'], ['balcons'], ['belvédères'], ['arche'], ['cabanes'], ['cascade'], ['balcons'], ['boulevards'], ['sommet'], ['snack-bar'], ['belvédère'], ['borne frontière'], ['brèche'], ['croix'], ['carrefour'], ['chalet'], ['route'], ['panneaux'], ['route'], ['intersection'], ['boulevard'], ['parking'], ['bifurcations'], ['descente'], ['pente'], ['sentier'], ['parking'], ['passerelle'], ['cabane'], ['carrefour de montée'], ['cimetières'], ['snack-bar'], ['pas'], ['bois'], ['lac'], ['sentier'], ['route'], ['barrières'], ['lacets'], ['lac'], ['boulevard'], ['circuit'], ['cabanes'], ['bassins'], ['barre'], ['route'], ['rive'], ['bassins'], ['pentes'], ['arches'], ['bifurcations'], ['chemins'], ['chemin'], ['bornes'], ['bâtiment'], ['sentier'], ['balcon'], ['bambouseraie'], ['épingle'], ['églises'], ['circuit'], ['arche'], ['téléski'], ['parc'], ['lavoir'], ['passerelle'], ['parking'], ['bâtiment'], ['pas'], ['parking']]\n",
      "** Vectorisation of inputs... \n",
      "\n",
      "(194, 300)\n",
      "apres PCA\n",
      "(194, 87)\n",
      "7/7 [==============================] - 0s 1ms/step - loss: 1.7942 - accuracy: 0.6134\n",
      "Validation accuracy: 0.6134020686149597\n"
     ]
    }
   ],
   "source": [
    "model_path = './models/MLP_PCA_1gram.h5'\n",
    "algorithm = 'MLP_PCA'\n",
    "ngram_size = 1\n",
    "\n",
    "x_test = preprocess_input(df['sentences'], ngram_size, fr_nouns_file, fasttext_model, we_vector_size)\n",
    "model = loadmodel(model_path, algorithm, keras_models)\n",
    "\n",
    "acc = prediction(model, x_test, y_test, ngram_size, we_vector_size, algorithm)\n",
    "print('Validation accuracy:', acc)"
   ]
  },
  {
   "cell_type": "code",
   "execution_count": 93,
   "metadata": {},
   "outputs": [
    {
     "name": "stdout",
     "output_type": "stream",
     "text": [
      "** Transform sentences to 5 ngrams... \n",
      "\n",
      "[['vers', 'les', 'cols', 'voisins', 'mais'], ['avec', 'un', 'passage', 'dans', 'les'], ['atteindre', 'l’', 'église', 'en-dessous', 'du'], ['rejoindre', 'le', 'sentier de montée', 'un', 'peu'], ['À', 'la', \"patte d' oie\", ',', 'laisser'], ['milieu', 'des', 'maisons', ',', 'continuer'], ['.', 'Un', 'snack-bar', '(', 'souvent'], ['des', 'deux', 'cols', 'rencontrée', 'à'], ['sur', 'les', 'rochers', \"d'\", 'une'], ['le', 'même', 'chemin', ',', 'laisser'], ['laisser', 'le', 'sentier', 'qui', 'part'], ['sur', 'le', 'parc', ',', 'sauf'], ['.', 'Ancienne', 'gare de bifurcation', ',', 'elle'], ['prendre', 'le', 'sentier', 'à', 'gauche'], ['une', 'véritable', 'gare de bifurcation', 'des', 'branches'], [',', 'poursuivre', 'rive', 'droite', ','], [',', 'une', 'cabane', 'abandonnée', 'où'], ['porter', 'des', 'lacets', 'de', 'couleurs'], ['nommé', 'le', 'couloir', 'de', 'la'], ['à', 'une', 'bifurcation', '.', 'cheval'], ['repérer', 'des', 'cairns', 'qui', 'mènent'], ['pacages', 'de', 'sous-bois', '.', 'mètre'], ['dans', 'une', 'ruelle', 'qui', 'elle'], ['avec', 'une', 'barre', 'latérale', 'commune'], ['de', 'la', \"patte d' oie\", '.', 'passage'], ['.', 'Un', 'boulevard', 'est', 'une'], ['une', 'mini-', 'bambouseraie', ',', 'le'], ['indispensable', 'au', 'passage', 'des', 'bateaux'], ['le', 'même', 'chemin', '(', 'si'], [',', 'une', 'passerelle', 'sécurisée', 'sur'], ['un', 'petit', 'col', 'qui', 'offre'], ['vers', 'un', 'ruisseau', 'que', 'vous'], ['très', 'grandes', 'brèches', '.', 'peuple'], ['longe', 'le', 'cirque', '.', 'souvenir'], ['atteindre', 'un', 'couloir', 'rocheux', 'qui'], ['donné', 'des', 'bornes', 'inférieures', 'de'], ['de', 'notre', 'chemin', 'de', 'retour'], ['de', 'la', 'passerelle', '.', 'fête'], ['suivre', 'ce', 'chemin', \"jusqu'\", 'au'], [')', 'au', 'carrefour', ',', 'un'], ['.', 'Des', 'lacets', 'sont', 'également'], ['franchir', 'le', 'torrent', 'par', 'la'], [',', 'le', 'téléphérique', 'constituerait', 'selon'], ['Traverser', 'le', 'torrent', 'au', 'niveau'], ['droite', 'le', 'circuit', 'du', 'départ'], ['sur', 'le', 'parking', 'au', 'Sud'], ['est', 'la', 'gare de bifurcation', 'des', 'deux'], ['retenue', 'ou', 'réservoir', 'est', 'un'], ['la', 'deuxième', 'bifurcation', ',', 'en'], ['sous', 'le', 'téléphérique', '.', 'guerre'], ['nombre', 'de', 'circuits', 'logiques', 'programmables'], ['escarpement', '(', 'couloir', 'enneigé', 'tard'], ['entre', 'deux', 'balises', ',', 'des'], ['apercevoir', 'les', 'cascades', 'dans', 'le'], ['avec', 'un', 'rond-point', \"n'\", 'ouvrant'], ['un', 'quatrième', 'tracé', 'longeant', 'la'], ['géologique', 'et', 'site', \"d'\", 'escalade'], ['servi', 'de', 'chapelles', 'ou', ','], ['.', 'Le', 'bois', 'de', 'cœur'], [\"n'\", 'est', 'pas', 'de', 'ma'], ['les', 'petits', 'chemins', '(', 'sentiers'], ['une', 'faible', 'pente', 'en', 'forêt'], ['air', 'de', 'chalets', ',', 'elles'], ['sur', 'le', 'chemin', 'de', 'droite'], ['souvent', 'les', 'circuits', 'courts', 'pour'], ['creux', 'du', 'chemin', 'une', 'nouvelle'], ['de', 'longues', 'lignes', 'droites', 'entrecoupées'], ['à', 'une', \"patte d' oie\", '.', 'lumière'], ['le', 'petit', 'abri', 'avant', \"d'\"], ['sur', 'des', 'pentes', 'à', '45'], ['ne', 'suis', 'pas', 'sûr', \"qu'\"], ['de', 'la', 'balise', 'située', 'au-dessus'], ['puis', 'au', 'parking', 'où', 'nous'], ['.', 'La', \"patte d' oie\", 'est', 'un'], ['sur', 'la', 'piste', 'qui', 'ramène'], ['sans', 'aucun', 'croisement', 'à', 'niveau'], ['refroidissement', 'des', 'circuits', 'secondaires', 'de'], ['avec', 'une', 'pente', 'au', 'sommet'], ['desservent', 'des', 'bâtiments', 'collectifs', 'ou'], ['constitue', 'un', 'belvédère', 'exceptionnel', 'sur'], ['sur', 'les', 'balcons', 'en', 'bois'], ['supports', 'de', 'barrières', 'de', 'sécurité'], ['mur', 'du', 'château', '2', ':'], ['depuis', 'l’', 'office de tourisme', ',', 'prendre'], ['traverse', 'des', 'pentes', 'raides', '.'], ['accéder', 'au', 'col', 'qui', 'domine'], ['dans', 'le', 'bois', 'formant', 'un'], ['à', 'un', 'circuit', \"d'\", 'eau'], ['que', 'trois', 'campings', 'qui', 'totalisent'], ['parfois', 'à', 'pic', '.', 'prince'], ['les', 'dernières', 'maisons', 'dans', 'la'], ['composent', \"d'\", 'arches', 'souvent', 'très'], ['dans', 'la', 'combe', 'en', 'éboulis'], ['suivre', 'le', 'sentier', 'sur', '200m'], ['droite', 'une', 'sente', 'qui', 'descend'], [':', 'La', 'cabane', 'se', 'distingue'], ['utilisent', 'des', 'cabanes', 'par', 'nécessité'], ['de', 'ce', 'passage', 'rocheux', 'est'], ['et', 'mini', 'chalets', '.', 'école'], ['sur', 'le', 'sentier', 'en', 'suivant'], ['à', 'la', 'bifurcation du sentier', 'qui', 'descend'], ['passage', 'au', 'lavoir', 'était', 'en'], [\"d'\", 'un', 'parc', 'isolé', '.'], ['gauche', 'en', 'lacets', 'serrés', 'vers'], ['de', \"l'\", 'église', 'anglicane', 'tandis'], ['Suivre', 'ce', 'sentier', 'sur', '500m'], [\"d'\", 'une', 'bifurcation', 'en', 'deux'], ['après', 'le', 'lavoir', 'et', 'la'], ['sortie', 'du', 'parking', 'en', 'direction'], ['dans', 'une', 'pente', 'raide', 'mais'], ['.', 'Le', 'terrain', 'est', 'un'], ['sur', 'la', 'rive', 'gauche', ','], ['de', 'la', 'voie', 'verte', ')'], ['à', 'un', 'carrefour de sentiers', '.', 'gouvernement'], ['modistes', '.', 'épingle', 'de', 'laiton'], ['un', 'ancien', 'canal', '.', 'salle'], ['traversant', 'des', 'rochers', '.', 'doute'], ['«', 'La', 'croix', 'demeure', 'tandis'], ['croisant', 'les', 'boulevards', 'ceinturant', 'le'], ['ou', 'des', 'bâtiments', ',', 'soit'], ['Emprunter', 'la', 'route', \"jusqu'\", 'au'], ['.', 'Rester', 'rive', 'droite', 'du'], ['nord', 'une', 'sente', 'mal', 'marquée'], ['passer', 'la', 'barrière', 'qui', 'bloque'], ['de', 'la', 'maison', 'au', 'crépi'], ['Reprendre', 'le', 'sentier', 'en', 'sens'], ['règles', 'de', 'passage', 'peuvent', 'être'], [',', 'un', 'boulevard', 'est', 'donc'], ['renfoncement', 'à', 'arche', 'en', 'plein'], ['les', 'deux', 'chapelles', 'attenantes', 'rassemblées'], ['est', 'un', 'bâtiment', 'estampillé', '1992'], ['sur', 'le', 'terrain', 'divers', 'chemin'], ['milliers', \"d'\", 'églises', 'ont', 'été'], ['correspond', 'au', 'trajet', 'des', 'eaux'], ['.', 'Le', 'chemin', 'décrit', 'une'], ['au-dessus', 'du', 'cimetière', '(', 'en'], ['corps', 'de', 'bâtiment', ',', 'avant'], ['sur', 'le', \"poteau d' un lampadaire\", ')', '.'], ['longeant', 'le', 'déversoir des lacs', ',', 'par'], ['sous', 'le', 'téléski', '.', 'courant'], ['.', 'Ancienne', 'gare de bifurcation', ',', 'elle'], ['à', '2', 'belvédères', 'avec', 'de'], ['sommet', 'des', 'pistes de ski', '.', 'frère'], ['flanc', 'hors', 'sentier', 'pour', 'rejoindre'], ['comme', 'le', 'cirque', ',', 'le'], ['bord', 'du', 'lac', 'ou', 'dans'], ['Retrouvez', 'le', 'sentier de montée', 'au', 'niveau'], ['dans', 'le', 'rond-point', ',', 'prendre'], ['.', 'Plusieurs', 'circuits', 'pédestres', '('], ['transforme', 'un', 'parking', 'gratuit', 'en'], ['ignorant', 'un', 'chemin', 'qui', 'part'], [',', 'la', 'fourche', 'bêche', 'est'], ['au', 'second', 'embranchement', ',', 'suivre'], ['translation', 'des', 'cimetières', 'hors', 'de'], ['traverser', 'le', 'pont', 'pour', 'retrouver'], ['dessous', 'du', 'parking', '(', 'marques'], ['constituées', 'de', 'barres', 'métalliques', 'horizontales'], ['ruine', 'plusieurs', 'églises', ',', 'couvents'], [',', 'les', 'barrières', 'postzygotiques', 'vont'], ['remonter', 'la', 'sente', 'menant', 'au'], ['atteindre', 'le', 'sentier de montée', 'au', 'carrefour'], [\"d'\", 'une', 'forêt', \"d'\", 'antennes'], ['gâte', '...', 'barres', 'rocheuses', '!'], ['une', 'nouvelle', 'intersection', '(', '2'], ['trouver', 'un', 'sentier', '(', '2'], ['.', 'Le', 'déversoir', 'en', 'amont'], ['élevée', 'des', 'cols', '(', 'appelés'], [\"d'\", 'un', 'parc', 'linéaire', 'est'], [\"d'\", 'un', 'bassin', ',', 'de'], ['dans', 'la', 'pente', '(', 'cairns'], ['fond', 'du', 'lac', ',', 'sur'], ['et', 'les', 'carrefours', 'à', 'feux'], ['découvrent', 'des', 'panneaux', 'indiquant', 'Le'], ['Traverser', 'la', 'route', 'pour', 'rejoindre'], ['que', 'les', 'balcons', 'en', 'versant'], ['.', 'Le', 'rond-point', 'est', 'aussi'], ['arrivé', 'au', 'lac', ',', 'laisser'], ['de', ':', 'maisons', 'individuelles', ':'], [',', 'premier', 'chemin', 'de', 'fer'], ['entre', 'plusieurs', 'bassins', 'touristiques', '('], [\"'\", 'autres', 'chapelles', 'existent', 'dans'], ['rejoindre', 'le', 'vallon', 'du', 'même'], ['design', 'des', 'barres', 'de', 'maintien'], ['traces', 'de', 'sentier', 'pas', 'tout'], ['une', 'première', 'barre', 'rocheuse', 'de'], ['franchissant', 'le', 'ruisseau', 'et', 'tourner'], ['tête', 'de', 'fourche', 'aérodynamique', 'avec'], ['prendre', 'un', 'chemin', 'qui', 'part'], ['virage', 'en', 'épingle', 'suivant', '.'], ['de', 'la', 'barre', 'repérée', 'tout'], ['temps', 'de', 'parcours', \"jusqu'\", 'au'], ['des', 'deux', 'arches', 'jaunes', 'de'], [',', 'les', 'cirques', 'et', 'les'], ['prenez', 'le', 'chemin', 'qui', 'oblique']]\n",
      "** Vectorisation of inputs... \n",
      "\n",
      "** Loading model ./models/MLP_PCA_5grams.h5 \n",
      "\n"
     ]
    },
    {
     "name": "stdout",
     "output_type": "stream",
     "text": [
      "** Predicting... \n",
      "\n",
      "** Transform sentences to 5 ngrams... \n",
      "\n",
      "[['.Points', 'de', 'passage', ':', 'D'], [',', 'les', 'cirques', 'français', 's'], ['tombe', 'en', 'cascade', '.', 'épaule'], ['une', 'des', 'bornes', 'de', 'commande'], [')', 'du', 'col', ',', 'partir'], ['rejoint', 'le', 'parking', 'cité', 'plus'], [',', 'le', 'cirque', 'et', 'les'], ['une', 'petite', 'route', 'communale', '.'], ['.', 'Le', 'sentier', 'est', 'relativement'], ['prendre', 'le', 'sentier', 'de', 'droite'], ['De', 'nombreuses', 'églises', 'anglo-saxonnes', 'presbytériennes'], ['.', 'La', 'balise', 'J1', 'est'], ['de', 'grands', 'lacets', 'et', 'suit'], ['Suivre', 'ce', 'sentier', 'sur', '500m'], ['un', 'nouveau', 'passage', 'délicat', ','], ['comme', 'un', 'balcon', 'ou', 'une'], ['gauche', 'la', 'ruelle', '(', 'balisage'], ['.', 'Un', 'belvédère', 'baroque', 'typique'], ['origine', 'italienne', 'belvédère', '.', 'travers'], ['l’itinéraire', 'de', 'montée', 'pour', 'revenir'], ['.', 'Les', 'bornes', 'paires', 'sont'], ['industrie', 'des', 'circuits', 'intégrés', 'standards'], ['ainsi', 'les', 'brèches', 'en', 'milieu'], ['.', 'La', 'pente', 'longitudinale', 'maximum'], ['rapport', 'au', 'pic', 'de', '2006'], ['Accéder', 'au', 'parking', 'depuis', 'la'], ['accolée', 'au', 'bâtiment', ',', 'avec'], ['à', 'ne', 'pas', 'rater', 'le'], ['est', 'la', 'gare de bifurcation', 'des', 'deux'], ['à', 'des', 'belvédères', '.', 'minute'], ['rejoindre', 'le', 'parking', '(', 'D'], ['circuit', 'des', 'belvédères', '.', 'garçon'], ['par', 'la', 'route', '.', 'Points'], ['de', 'la', 'bifurcation', 'laisserait', 'prévoir'], ['travers', 'les', 'pistes de ski', ')', '.'], ['sortant', 'du', 'parking', ',', 'prendre'], ['le', 'deuxième', 'chemin', ',', 'le'], ['.', 'Le', 'bâtiment', 'présente', 'trois'], ['viser', \"l'\", 'église', 'pour', 'rejoindre'], ['pratique', 'du', 'boulevard', 'en', 'urbanisme'], ['et', 'un', 'couloir', 'de', 'bus'], ['depuis', 'son', 'arche', 'pour', 'savoir'], ['réservoir', 'la', 'piste', 'qui', 'part'], ['.', 'La', 'pente', \"s'\", 'accentue'], ['sur', 'les', 'balcons', ',', 'loggias'], ['rependre', 'un', 'sentier', 'NE', 'qui'], ['sous', 'des', 'lignes', 'à', 'haute'], ['De', 'nombreux', 'bâtiments', 'sont', 'construits'], ['droite', 'le', 'sentier', 'qui', ','], ['fait', 'des', 'brèches', 'à', 'ses'], ['entre', 'les', 'maisons', 'en', 'pierres'], ['mardi', 'donc', 'pas', 'de', 'stationnement'], ['ouvriers', 'et', 'cols', 'blancs', 'se'], ['de', 'la', 'route', 'dans', 'un'], ['longeant', 'le', 'déversoir des lacs', ',', 'par'], ['monte', 'en', 'lacets', 'courts', \"jusqu'\"], ['le', 'même', 'sentier', 'qu’à', 'la'], ['ensuite', 'un', 'sentier', 'presque', 'constamment'], ['éliminé', 'les', 'cirques', 'utilisant', 'des'], ['intérêt', 'de', 'balises', 'de', 'virage'], ['dans', 'le', 'rond-point', ',', 'prendre'], ['.', 'Un', 'chemin', 'de', 'fer'], ['le', 'même', 'chemin', 'qu’à', 'la'], [\"d'\", 'un', 'chalet', 'et', \"d'\"], ['Porte', 'en', 'bois', 'sculptée', 'avec'], ['.', 'Deux', 'bornes', 'milliaires', 'gallo-romaines'], [',', 'le', 'chemin', 'devient', 'un'], ['travers', 'les', 'rochers', '.', 'vieux'], ['mot', '«', 'parking', '»', 'n'], ['de', 'la', 'descente', 's’effectue', 'par'], ['présente', 'plusieurs', 'belvédères', 'offrant', 'autant'], ['face', 'le', 'chemin', 'qui', 'monte'], ['et', 'des', 'balcons', 'surélevés', '.'], ['tels', 'les', 'belvédères', '.', 'route'], ['forme', 'une', 'arche', 'moderne', 'aux'], ['fabriquer', 'des', 'cabanes', 'soit', 'pour'], ['styles', 'en', 'cascade', 'commence', 'dès'], ['de', 'plusieurs', 'balcons', 'autour', 'd’un'], ['des', 'anciens', 'boulevards', 'n', \"'\"], ['le', 'vrai', 'sommet', '(', '3163m'], ['à', 'un', 'snack-bar', '(', '1'], ['à', 'un', 'belvédère', 'ou', 'un'], ['servi', 'de', 'borne frontière', ':', 'la'], ['et', 'une', 'brèche', 'à', 'un'], ['arbore', 'une', 'croix', 'blanche', 'comme'], [\"jusqu'\", 'au', 'carrefour', '.', 'genre'], ['de', 'ce', 'chalet', 'quitter', 'la'], ['de', 'la', 'route', '.', 'reste'], ['présence', 'de', 'panneaux', 'de', 'randonnée'], ['à', 'une', 'route', '(', '10'], ['à', 'une', 'intersection', ',', 'rester'], ['titre', 'de', 'boulevard', 'ne', 'sont'], ['visible', 'du', 'parking', 'qui', 'part'], ['ou', 'plusieurs', 'bifurcations', 'esthétiques', '.'], ['une', 'courte', 'descente', 'dans', 'une'], ['dans', 'la', 'pente', 'en', 'direction'], ['rapidement', 'en', 'sentier', 'pour', 'desservir'], [\"jusqu'\", 'au', 'parking', '.', 'plaisir'], ['sur', 'une', 'passerelle', 'pour', 'enjamber'], ['noms', 'de', 'cabane', 'et', 'baraque'], ['rejoindre', 'le', 'carrefour de montée', '.', 'cour'], ['où', 'les', 'cimetières', 'regorgent', 'de'], ['niveau', 'du', 'snack-bar', ',', 'suivre'], ['progressive', 'mais', 'pas', 'trop', 'prononcée'], ['traversant', 'quelques', 'bois', ',', \"jusqu'\"], ['.', 'Du', 'lac', 'rependre', 'un'], ['ignorer', 'le', 'sentier', 'à', 'droite'], ['Traverser', 'la', 'route', 'pour', 'prendre'], ['ou', 'sans', 'barrières', ',', 'gardé'], ['par', 'des', 'lacets', ',', 'la'], ['bout', 'du', 'lac', \"d'\", 'où'], ['de', '«', 'boulevard', '»', 'alors'], ['et', 'le', 'circuit', 'de', 'régulation'], ['mode', 'des', 'cabanes', 'dans', 'les'], ['vivaces', ',', 'bassins', 'et', 'plantes'], ['.', 'La', 'barre', 'de', '10'], ['suivre', 'la', 'route', 'à', 'gauche'], ['continuer', 'en', 'rive', 'droite', 'du'], ['forment', 'des', 'bassins', 'versants', 'indépendants'], ['à', 'fortes', 'pentes', ',', 'le'], ['avec', 'des', 'arches', 'de', 'soutènement'], ['signalisation', 'des', 'bifurcations', ',', 'en'], ['ouverture', 'des', 'chemins', 'de', 'fer'], ['par', 'le', 'chemin', 'bien', 'visible'], ['tension', 'aux', 'bornes', 'de', 'chaque'], ['sur', 'le', 'bâtiment', '.', 'mort'], ['alors', 'le', 'sentier', 'qui', 'part'], ['supportant', 'le', 'balcon', 'du', 'premier'], ['une', 'riche', 'bambouseraie', 'le', 'jardin'], ['la', 'première', 'épingle', 'et', 'prendre'], ['milliers', \"d'\", 'églises', ',', 'dont'], ['Sur', 'un', 'circuit', 'automobile', ','], ['ou', 'une', 'arche', 'naturelle', ','], ['sous', 'le', 'téléski', '.', 'guerre'], ['direction', 'du', 'parc', 'puis', 'tout'], [\"d'\", 'un', 'lavoir', ',', 'suivre'], ['installera', 'une', 'passerelle', 'vélo', 'de'], ['un', 'petit', 'parking', '(', '6'], ['est', 'un', 'bâtiment', 'construit', 'en'], ['pour', 'ne', 'pas', 'fâcher', 'certains'], ['traverser', 'le', 'parking', '.', 'appel']]\n",
      "** Vectorisation of inputs... \n",
      "\n"
     ]
    },
    {
     "ename": "ValueError",
     "evalue": "n_components=295 must be between 0 and min(n_samples, n_features)=141 with svd_solver='full'",
     "output_type": "error",
     "traceback": [
      "\u001b[0;31m---------------------------------------------------------------------------\u001b[0m",
      "\u001b[0;31mValueError\u001b[0m                                Traceback (most recent call last)",
      "\u001b[0;32m<ipython-input-93-e70a8b915de7>\u001b[0m in \u001b[0;36m<module>\u001b[0;34m\u001b[0m\n\u001b[1;32m      8\u001b[0m \u001b[0mmodel\u001b[0m \u001b[0;34m=\u001b[0m \u001b[0mloadmodel\u001b[0m\u001b[0;34m(\u001b[0m\u001b[0mmodel_path\u001b[0m\u001b[0;34m,\u001b[0m \u001b[0malgorithm\u001b[0m\u001b[0;34m,\u001b[0m \u001b[0mkeras_models\u001b[0m\u001b[0;34m)\u001b[0m\u001b[0;34m\u001b[0m\u001b[0;34m\u001b[0m\u001b[0m\n\u001b[1;32m      9\u001b[0m \u001b[0;34m\u001b[0m\u001b[0m\n\u001b[0;32m---> 10\u001b[0;31m \u001b[0macc\u001b[0m \u001b[0;34m=\u001b[0m \u001b[0mprediction\u001b[0m\u001b[0;34m(\u001b[0m\u001b[0mmodel\u001b[0m\u001b[0;34m,\u001b[0m \u001b[0mx_test\u001b[0m\u001b[0;34m,\u001b[0m \u001b[0my_test\u001b[0m\u001b[0;34m,\u001b[0m \u001b[0mngram_size\u001b[0m\u001b[0;34m,\u001b[0m \u001b[0mwe_vector_size\u001b[0m\u001b[0;34m,\u001b[0m \u001b[0malgorithm\u001b[0m\u001b[0;34m)\u001b[0m\u001b[0;34m\u001b[0m\u001b[0;34m\u001b[0m\u001b[0m\n\u001b[0m\u001b[1;32m     11\u001b[0m \u001b[0mprint\u001b[0m\u001b[0;34m(\u001b[0m\u001b[0;34m'Validation accuracy:'\u001b[0m\u001b[0;34m,\u001b[0m \u001b[0macc\u001b[0m\u001b[0;34m)\u001b[0m\u001b[0;34m\u001b[0m\u001b[0;34m\u001b[0m\u001b[0m\n",
      "\u001b[0;32m<ipython-input-92-9fce4cb97192>\u001b[0m in \u001b[0;36mprediction\u001b[0;34m(clf, x_test, y_test, ngram_size, we_vector_size, algorithm)\u001b[0m\n\u001b[1;32m     28\u001b[0m         \u001b[0;32mif\u001b[0m \u001b[0mngram_size\u001b[0m \u001b[0;34m==\u001b[0m \u001b[0;36m7\u001b[0m\u001b[0;34m:\u001b[0m\u001b[0;34m\u001b[0m\u001b[0;34m\u001b[0m\u001b[0m\n\u001b[1;32m     29\u001b[0m             \u001b[0mpca\u001b[0m \u001b[0;34m=\u001b[0m \u001b[0mPCA\u001b[0m\u001b[0;34m(\u001b[0m\u001b[0mn_components\u001b[0m \u001b[0;34m=\u001b[0m \u001b[0;36m369\u001b[0m\u001b[0;34m)\u001b[0m\u001b[0;34m\u001b[0m\u001b[0;34m\u001b[0m\u001b[0m\n\u001b[0;32m---> 30\u001b[0;31m         \u001b[0mpca\u001b[0m\u001b[0;34m.\u001b[0m\u001b[0mfit\u001b[0m\u001b[0;34m(\u001b[0m\u001b[0mx_train\u001b[0m\u001b[0;34m)\u001b[0m\u001b[0;34m\u001b[0m\u001b[0;34m\u001b[0m\u001b[0m\n\u001b[0m\u001b[1;32m     31\u001b[0m \u001b[0;34m\u001b[0m\u001b[0m\n\u001b[1;32m     32\u001b[0m         \u001b[0;31m#x_test = pca.fit(x_test)\u001b[0m\u001b[0;34m\u001b[0m\u001b[0;34m\u001b[0m\u001b[0;34m\u001b[0m\u001b[0m\n",
      "\u001b[0;32m~/.pyenv/versions/3.7.3/lib/python3.7/site-packages/sklearn/decomposition/_pca.py\u001b[0m in \u001b[0;36mfit\u001b[0;34m(self, X, y)\u001b[0m\n\u001b[1;32m    349\u001b[0m \u001b[0;34m\u001b[0m\u001b[0m\n\u001b[1;32m    350\u001b[0m         \u001b[0mParameters\u001b[0m\u001b[0;34m\u001b[0m\u001b[0;34m\u001b[0m\u001b[0m\n\u001b[0;32m--> 351\u001b[0;31m         \u001b[0;34m-\u001b[0m\u001b[0;34m-\u001b[0m\u001b[0;34m-\u001b[0m\u001b[0;34m-\u001b[0m\u001b[0;34m-\u001b[0m\u001b[0;34m-\u001b[0m\u001b[0;34m-\u001b[0m\u001b[0;34m-\u001b[0m\u001b[0;34m-\u001b[0m\u001b[0;34m-\u001b[0m\u001b[0;34m\u001b[0m\u001b[0;34m\u001b[0m\u001b[0m\n\u001b[0m\u001b[1;32m    352\u001b[0m         \u001b[0mX\u001b[0m \u001b[0;34m:\u001b[0m \u001b[0marray\u001b[0m\u001b[0;34m-\u001b[0m\u001b[0mlike\u001b[0m\u001b[0;34m,\u001b[0m \u001b[0mshape\u001b[0m \u001b[0;34m(\u001b[0m\u001b[0mn_samples\u001b[0m\u001b[0;34m,\u001b[0m \u001b[0mn_features\u001b[0m\u001b[0;34m)\u001b[0m\u001b[0;34m\u001b[0m\u001b[0;34m\u001b[0m\u001b[0m\n\u001b[1;32m    353\u001b[0m             \u001b[0mTraining\u001b[0m \u001b[0mdata\u001b[0m\u001b[0;34m,\u001b[0m \u001b[0mwhere\u001b[0m \u001b[0mn_samples\u001b[0m \u001b[0;32mis\u001b[0m \u001b[0mthe\u001b[0m \u001b[0mnumber\u001b[0m \u001b[0mof\u001b[0m \u001b[0msamples\u001b[0m\u001b[0;34m\u001b[0m\u001b[0;34m\u001b[0m\u001b[0m\n",
      "\u001b[0;32m~/.pyenv/versions/3.7.3/lib/python3.7/site-packages/sklearn/decomposition/_pca.py\u001b[0m in \u001b[0;36m_fit\u001b[0;34m(self, X)\u001b[0m\n\u001b[1;32m    421\u001b[0m                              \"\".format(self._fit_svd_solver))\n\u001b[1;32m    422\u001b[0m \u001b[0;34m\u001b[0m\u001b[0m\n\u001b[0;32m--> 423\u001b[0;31m     \u001b[0;32mdef\u001b[0m \u001b[0m_fit_full\u001b[0m\u001b[0;34m(\u001b[0m\u001b[0mself\u001b[0m\u001b[0;34m,\u001b[0m \u001b[0mX\u001b[0m\u001b[0;34m,\u001b[0m \u001b[0mn_components\u001b[0m\u001b[0;34m)\u001b[0m\u001b[0;34m:\u001b[0m\u001b[0;34m\u001b[0m\u001b[0;34m\u001b[0m\u001b[0m\n\u001b[0m\u001b[1;32m    424\u001b[0m         \u001b[0;34m\"\"\"Fit the model by computing full SVD on X\"\"\"\u001b[0m\u001b[0;34m\u001b[0m\u001b[0;34m\u001b[0m\u001b[0m\n\u001b[1;32m    425\u001b[0m         \u001b[0mn_samples\u001b[0m\u001b[0;34m,\u001b[0m \u001b[0mn_features\u001b[0m \u001b[0;34m=\u001b[0m \u001b[0mX\u001b[0m\u001b[0;34m.\u001b[0m\u001b[0mshape\u001b[0m\u001b[0;34m\u001b[0m\u001b[0;34m\u001b[0m\u001b[0m\n",
      "\u001b[0;32m~/.pyenv/versions/3.7.3/lib/python3.7/site-packages/sklearn/decomposition/_pca.py\u001b[0m in \u001b[0;36m_fit_full\u001b[0;34m(self, X, n_components)\u001b[0m\n\u001b[1;32m    440\u001b[0m                                  \u001b[0;34m\"was of type=%r\"\u001b[0m\u001b[0;34m\u001b[0m\u001b[0;34m\u001b[0m\u001b[0m\n\u001b[1;32m    441\u001b[0m                                  % (n_components, type(n_components)))\n\u001b[0;32m--> 442\u001b[0;31m \u001b[0;34m\u001b[0m\u001b[0m\n\u001b[0m\u001b[1;32m    443\u001b[0m         \u001b[0;31m# Center data\u001b[0m\u001b[0;34m\u001b[0m\u001b[0;34m\u001b[0m\u001b[0;34m\u001b[0m\u001b[0m\n\u001b[1;32m    444\u001b[0m         \u001b[0mself\u001b[0m\u001b[0;34m.\u001b[0m\u001b[0mmean_\u001b[0m \u001b[0;34m=\u001b[0m \u001b[0mnp\u001b[0m\u001b[0;34m.\u001b[0m\u001b[0mmean\u001b[0m\u001b[0;34m(\u001b[0m\u001b[0mX\u001b[0m\u001b[0;34m,\u001b[0m \u001b[0maxis\u001b[0m\u001b[0;34m=\u001b[0m\u001b[0;36m0\u001b[0m\u001b[0;34m)\u001b[0m\u001b[0;34m\u001b[0m\u001b[0;34m\u001b[0m\u001b[0m\n",
      "\u001b[0;31mValueError\u001b[0m: n_components=295 must be between 0 and min(n_samples, n_features)=141 with svd_solver='full'"
     ]
    }
   ],
   "source": [
    "model_path = './models/MLP_PCA_5grams.h5'\n",
    "algorithm = 'MLP_PCA'\n",
    "ngram_size = 5\n",
    "\n",
    "## !!! ne marche pas pour ngram_size = 5 \n",
    "\n",
    "x_test = preprocess_input(df['sentences'], ngram_size, fr_nouns_file, fasttext_model, we_vector_size)\n",
    "model = loadmodel(model_path, algorithm, keras_models)\n",
    "\n",
    "acc = prediction(model, x_test, y_test, ngram_size, we_vector_size, algorithm)\n",
    "print('Validation accuracy:', acc)"
   ]
  },
  {
   "cell_type": "code",
   "execution_count": 91,
   "metadata": {},
   "outputs": [
    {
     "name": "stdout",
     "output_type": "stream",
     "text": [
      "** Transform sentences to 7 ngrams... \n",
      "\n",
      "[['ou', 'vers', 'les', 'cols', 'voisins', 'mais', 'je'], ['hameau', 'avec', 'un', 'passage', 'dans', 'les', 'rochers'], ['à', 'atteindre', 'l’', 'église', 'en-dessous', 'du', 'hameau'], ['par', 'rejoindre', 'le', 'sentier de montée', 'un', 'peu', 'au'], [')', 'À', 'la', \"patte d' oie\", ',', 'laisser', 'le'], ['au', 'milieu', 'des', 'maisons', ',', 'continuer', 'par'], ['Canada', '.', 'Un', 'snack-bar', '(', 'souvent', 'abrégé'], ['intersection', 'des', 'deux', 'cols', 'rencontrée', 'à', 'la'], ['cassent', 'sur', 'les', 'rochers', \"d'\", 'une', 'netteté'], ['sur', 'le', 'même', 'chemin', ',', 'laisser', 'partir'], [',', 'laisser', 'le', 'sentier', 'qui', 'part', 'sur'], ['fermée', 'sur', 'le', 'parc', ',', 'sauf', 'les'], ['Trie-Château', '.', 'Ancienne', 'gare de bifurcation', ',', 'elle', 'est'], ['puis', 'prendre', 'le', 'sentier', 'à', 'gauche', 'après'], ['dernière', 'une', 'véritable', 'gare de bifurcation', 'des', 'branches', 'Est'], ['passerelle', ',', 'poursuivre', 'rive', 'droite', ',', 'atteindre'], ['crime', ',', 'une', 'cabane', 'abandonnée', 'où', 'sa'], ['de', 'porter', 'des', 'lacets', 'de', 'couleurs', 'vives'], [',', 'nommé', 'le', 'couloir', 'de', 'la', 'chimie'], ['arriver', 'à', 'une', 'bifurcation', '.', 'bureau', 'bruit'], ['peut', 'repérer', 'des', 'cairns', 'qui', 'mènent', 'au'], ['et', 'pacages', 'de', 'sous-bois', '.', 'pouvoir', 'fils'], ['débouche', 'dans', 'une', 'ruelle', 'qui', 'elle', '-même'], [',', 'avec', 'une', 'barre', 'latérale', 'commune', 'de'], ['milieu', 'de', 'la', \"patte d' oie\", '.', 'accord', 'accord'], ['bords', '.', 'Un', 'boulevard', 'est', 'une', 'voie'], ['longer', 'une', 'mini-', 'bambouseraie', ',', 'le', 'chemin'], ['mètres', 'indispensable', 'au', 'passage', 'des', 'bateaux', 'entrant'], ['par', 'le', 'même', 'chemin', '(', 'si', 'vous'], ['après', ',', 'une', 'passerelle', 'sécurisée', 'sur', 'le'], ['rejoindre', 'un', 'petit', 'col', 'qui', 'offre', 'un'], ['descend', 'vers', 'un', 'ruisseau', 'que', 'vous', 'franchissez'], ['de', 'très', 'grandes', 'brèches', '.', 'chien', 'geste'], ['et', 'longe', 'le', 'cirque', '.', 'maison', 'sorte'], ['à', 'atteindre', 'un', 'couloir', 'rocheux', 'qui', 'vient'], ['ont', 'donné', 'des', 'bornes', 'inférieures', 'de', 'complexité'], ['lacets', 'de', 'notre', 'chemin', 'de', 'retour', '.'], ['effondrement', 'de', 'la', 'passerelle', '.', 'lumière', 'joie'], ['et', 'suivre', 'ce', 'chemin', \"jusqu'\", 'au', 'lieu-dit'], ['1', ')', 'au', 'carrefour', ',', 'un', 'poteau'], ['tambours', '.', 'Des', 'lacets', 'sont', 'également', 'utilisés'], ['.', 'franchir', 'le', 'torrent', 'par', 'la', 'passerelle'], ['mer', ',', 'le', 'téléphérique', 'constituerait', 'selon', 'les'], [':', 'Traverser', 'le', 'torrent', 'au', 'niveau', 'de'], ['à', 'droite', 'le', 'circuit', 'du', 'départ', '.'], ['situe', 'sur', 'le', 'parking', 'au', 'Sud', 'du'], ['Vincennes', 'est', 'la', 'gare de bifurcation', 'des', 'deux', 'branches'], ['de', 'retenue', 'ou', 'réservoir', 'est', 'un', 'plan'], ['a', 'la', 'deuxième', 'bifurcation', ',', 'en', 'épingle'], ['et', 'sous', 'le', 'téléphérique', '.', 'pensée', 'bras'], ['grand', 'nombre', 'de', 'circuits', 'logiques', 'programmables', 'et'], ['un', 'escarpement', '(', 'couloir', 'enneigé', 'tard', 'dans'], ['téléporter', 'entre', 'deux', 'balises', ',', 'des', 'tétraèdres'], ['à', 'apercevoir', 'les', 'cascades', 'dans', 'le', 'fond'], ['prises', 'avec', 'un', 'rond-point', \"n'\", 'ouvrant', 'que'], [',', 'un', 'quatrième', 'tracé', 'longeant', 'la', 'RD'], ['curiosité', 'géologique', 'et', 'site', \"d'\", 'escalade', ')'], ['ont', 'servi', 'de', 'chapelles', 'ou', ',', 'comme'], ['fermentescibles', '.', 'Le', 'bois', 'de', 'cœur', 'est'], ['Ce', \"n'\", 'est', 'pas', 'de', 'ma', 'faute'], ['aussi', 'les', 'petits', 'chemins', '(', 'sentiers', 'pour'], ['suit', 'une', 'faible', 'pente', 'en', 'forêt', '.'], [\"l'\", 'air', 'de', 'chalets', ',', 'elles', 'sont'], ['encore', 'sur', 'le', 'chemin', 'de', 'droite', ','], ['assez', 'souvent', 'les', 'circuits', 'courts', 'pour', 'les'], ['petit', 'creux', 'du', 'chemin', 'une', 'nouvelle', 'intersection'], ['par', 'de', 'longues', 'lignes', 'droites', 'entrecoupées', 'de'], [\"jusqu'\", 'à', 'une', \"patte d' oie\", '.', 'revoir', 'boîte'], ['sur', 'le', 'petit', 'abri', 'avant', \"d'\", 'arriver'], ['aventurer', 'sur', 'des', 'pentes', 'à', '45', '°'], ['je', 'ne', 'suis', 'pas', 'sûr', \"qu'\", 'elles'], ['partie', 'de', 'la', 'balise', 'située', 'au-dessus', 'de'], [',', 'puis', 'au', 'parking', 'où', 'nous', 'serons'], ['Âge', '.', 'La', \"patte d' oie\", 'est', 'un', 'symbole'], ['droite', 'sur', 'la', 'piste', 'qui', 'ramène', 'à'], [',', 'sans', 'aucun', 'croisement', 'à', 'niveau', 'avec'], ['de', 'refroidissement', 'des', 'circuits', 'secondaires', 'de', 'chaudière'], [',', 'avec', 'une', 'pente', 'au', 'sommet', 'de'], ['qui', 'desservent', 'des', 'bâtiments', 'collectifs', 'ou', 'des'], ['et', 'constitue', 'un', 'belvédère', 'exceptionnel', 'sur', 'le'], ['poser', 'sur', 'les', 'balcons', 'en', 'bois', 'pour'], ['les', 'supports', 'de', 'barrières', 'de', 'sécurité', '.'], ['carrefour', 'mur', 'du', 'château', '2', ':', 'km'], [')', 'depuis', 'l’', 'office de tourisme', ',', 'prendre', 'en'], ['il', 'traverse', 'des', 'pentes', 'raides', '.', 'président'], [',', 'accéder', 'au', 'col', 'qui', 'domine', 'les'], ['entrer', 'dans', 'le', 'bois', 'formant', 'un', 'entonnoir'], ['grâce', 'à', 'un', 'circuit', \"d'\", 'eau', 'fermé'], ['ainsi', 'que', 'trois', 'campings', 'qui', 'totalisent', '190'], ['rochers', 'parfois', 'à', 'pic', '.', 'patron', 'gauche'], ['après', 'les', 'dernières', 'maisons', 'dans', 'la', 'même'], ['se', 'composent', \"d'\", 'arches', 'souvent', 'très', 'inégales'], ['est', 'dans', 'la', 'combe', 'en', 'éboulis', 'menant'], ['et', 'suivre', 'le', 'sentier', 'sur', '200m', 'environ'], ['la', 'droite', 'une', 'sente', 'qui', 'descend', 'sur'], ['Définition', ':', 'La', 'cabane', 'se', 'distingue', ','], ['et', 'utilisent', 'des', 'cabanes', 'par', 'nécessité', '.'], ['traversée', 'de', 'ce', 'passage', 'rocheux', 'est', 'assez'], ['appartements', 'et', 'mini', 'chalets', '.', 'forme', 'jour'], ['Continuer', 'sur', 'le', 'sentier', 'en', 'suivant', 'le'], ['Parvenir', 'à', 'la', 'bifurcation du sentier', 'qui', 'descend', 'du'], ['Le', 'passage', 'au', 'lavoir', 'était', 'en', 'effet'], ['centre', \"d'\", 'un', 'parc', 'isolé', '.', 'sens'], ['à', 'gauche', 'en', 'lacets', 'serrés', 'vers', \"l'\"], ['tête', 'de', \"l'\", 'église', 'anglicane', 'tandis', 'que'], ['.', 'Suivre', 'ce', 'sentier', 'sur', '500m', \"jusqu'\"], ['cœur', \"d'\", 'une', 'bifurcation', 'en', 'deux', 'branches'], ['.', 'après', 'le', 'lavoir', 'et', 'la', 'croix'], ['la', 'sortie', 'du', 'parking', 'en', 'direction', 'de'], ['Descendre', 'dans', 'une', 'pente', 'raide', 'mais', 'bien'], ['réelle', '.', 'Le', 'terrain', 'est', 'un', 'peu'], ['Rester', 'sur', 'la', 'rive', 'gauche', ',', 'en'], ['long', 'de', 'la', 'voie', 'verte', ')', '.'], ['parvenir', 'à', 'un', 'carrefour de sentiers', '.', 'époque', 'soirée'], ['les', 'modistes', '.', 'épingle', 'de', 'laiton', 'argenté'], ['encadraient', 'un', 'ancien', 'canal', '.', 'paix', 'peau'], ['en', 'traversant', 'des', 'rochers', '.', 'endroit', 'corps'], ['orbis', '«', 'La', 'croix', 'demeure', 'tandis', 'que'], ['en', 'croisant', 'les', 'boulevards', 'ceinturant', 'le', 'centre-ville'], ['logements', 'ou', 'des', 'bâtiments', ',', 'soit', 'intégrées'], ['.', 'Emprunter', 'la', 'route', \"jusqu'\", 'au', 'Chalet'], [')', '.', 'Rester', 'rive', 'droite', 'du', 'lac'], ['plein', 'nord', 'une', 'sente', 'mal', 'marquée', '.'], [',', 'passer', 'la', 'barrière', 'qui', 'bloque', 'le'], ['gauche', 'de', 'la', 'maison', 'au', 'crépi', 'jaune'], ['.', 'Reprendre', 'le', 'sentier', 'en', 'sens', 'inverse'], ['Les', 'règles', 'de', 'passage', 'peuvent', 'être', 'établies'], ['origine', ',', 'un', 'boulevard', 'est', 'donc', 'en'], ['un', 'renfoncement', 'à', 'arche', 'en', 'plein', 'cintre'], ['originalité', 'les', 'deux', 'chapelles', 'attenantes', 'rassemblées', 'en'], ['refuge', 'est', 'un', 'bâtiment', 'estampillé', '1992', ','], ['a', 'sur', 'le', 'terrain', 'divers', 'chemin', 'de'], ['des', 'milliers', \"d'\", 'églises', 'ont', 'été', 'construites'], ['Sources', 'correspond', 'au', 'trajet', 'des', 'eaux', 'de'], ['Bruyant', '.', 'Le', 'chemin', 'décrit', 'une', 'traversée'], ['part', 'au-dessus', 'du', 'cimetière', '(', 'en', 'direction'], ['seul', 'corps', 'de', 'bâtiment', ',', 'avant', \"l'\"], ['Jaunes', 'sur', 'le', \"poteau d' un lampadaire\", ')', '.', 'premier'], ['en', 'longeant', 'le', 'déversoir des lacs', ',', 'par', 'des'], ['passer', 'sous', 'le', 'téléski', '.', 'trou', 'frère'], ['Trie-Château', '.', 'Ancienne', 'gare de bifurcation', ',', 'elle', 'est'], ['accéder', 'à', '2', 'belvédères', 'avec', 'de', 'magnifiques'], ['le', 'sommet', 'des', 'pistes de ski', '.', 'service', 'trou'], ['à', 'flanc', 'hors', 'sentier', 'pour', 'rejoindre', 'le'], ['éléments', 'comme', 'le', 'cirque', ',', 'le', 'spectacle'], ['au', 'bord', 'du', 'lac', 'ou', 'dans', 'les'], [')', 'Retrouvez', 'le', 'sentier de montée', 'au', 'niveau', 'du'], [',', 'dans', 'le', 'rond-point', ',', 'prendre', 'la'], ['Pons', '.', 'Plusieurs', 'circuits', 'pédestres', '(', 'GR'], ['on', 'transforme', 'un', 'parking', 'gratuit', 'en', 'parking'], ['en', 'ignorant', 'un', 'chemin', 'qui', 'part', 'à'], ['Suisse', ',', 'la', 'fourche', 'bêche', 'est', 'aussi'], [',', 'au', 'second', 'embranchement', ',', 'suivre', 'le'], ['la', 'translation', 'des', 'cimetières', 'hors', 'de', 'l’enceinte'], ['et', 'traverser', 'le', 'pont', 'pour', 'retrouver', 'le'], ['en', 'dessous', 'du', 'parking', '(', 'marques', 'Rouges'], [',', 'constituées', 'de', 'barres', 'métalliques', 'horizontales', ','], ['et', 'ruine', 'plusieurs', 'églises', ',', 'couvents', 'et'], ['tout', ',', 'les', 'barrières', 'postzygotiques', 'vont', 'empêcher'], ['et', 'remonter', 'la', 'sente', 'menant', 'au', 'point'], ['et', 'atteindre', 'le', 'sentier de montée', 'au', 'carrefour', 'de'], ['couvert', \"d'\", 'une', 'forêt', \"d'\", 'antennes', 'et'], ['se', 'gâte', '...', 'barres', 'rocheuses', '!', 'merci'], ['chemin', 'une', 'nouvelle', 'intersection', '(', '2', ')'], ['et', 'trouver', 'un', 'sentier', '(', '2', ')'], ['lavoir', '.', 'Le', 'déversoir', 'en', 'amont', ','], ['altitude', 'élevée', 'des', 'cols', '(', 'appelés', 'parfois'], ['typique', \"d'\", 'un', 'parc', 'linéaire', 'est', 'une'], ['niveau', \"d'\", 'un', 'bassin', ',', 'de', \"l'\"], ['droit', 'dans', 'la', 'pente', '(', 'cairns', ')'], ['du', 'fond', 'du', 'lac', ',', 'sur', 'lequel'], ['vélos', 'et', 'les', 'carrefours', 'à', 'feux', 'sont'], ['ils', 'découvrent', 'des', 'panneaux', 'indiquant', 'Le', 'Terminus'], ['.', 'Traverser', 'la', 'route', 'pour', 'rejoindre', 'le'], ['plus', 'que', 'les', 'balcons', 'en', 'versant', '.'], ['interdits', '.', 'Le', 'rond-point', 'est', 'aussi', 'un'], [')', 'arrivé', 'au', 'lac', ',', 'laisser', 'à'], ['est', 'de', ':', 'maisons', 'individuelles', ':', '21'], [')', ',', 'premier', 'chemin', 'de', 'fer', 'à'], ['stratégique', 'entre', 'plusieurs', 'bassins', 'touristiques', '(', 'Massif'], ['D', \"'\", 'autres', 'chapelles', 'existent', 'dans', 'les'], ['et', 'rejoindre', 'le', 'vallon', 'du', 'même', 'nom'], ['le', 'design', 'des', 'barres', 'de', 'maintien', ','], ['bonnes', 'traces', 'de', 'sentier', 'pas', 'tout', 'à'], ['sur', 'une', 'première', 'barre', 'rocheuse', 'de', 'faible'], ['en', 'franchissant', 'le', 'ruisseau', 'et', 'tourner', 'tout'], ['carénage', 'tête', 'de', 'fourche', 'aérodynamique', 'avec', 'un'], ['puis', 'prendre', 'un', 'chemin', 'qui', 'part', 'sur'], ['au', 'virage', 'en', 'épingle', 'suivant', '.', 'présence'], ['extrémité', 'de', 'la', 'barre', 'repérée', 'tout', 'à'], ['Le', 'temps', 'de', 'parcours', \"jusqu'\", 'au', 'centre-ville'], ['inspire', 'des', 'deux', 'arches', 'jaunes', 'de', 'la'], ['temples', ',', 'les', 'cirques', 'et', 'les', 'mausolées'], [',', 'prenez', 'le', 'chemin', 'qui', 'oblique', 'légèrement']]\n",
      "** Vectorisation of inputs... \n",
      "\n"
     ]
    },
    {
     "name": "stdout",
     "output_type": "stream",
     "text": [
      "** Loading model ./models/MLP_PCA_7grams.h5 \n",
      "\n",
      "** Predicting... \n",
      "\n",
      "** Transform sentences to 7 ngrams... \n",
      "\n",
      "[[')', '.Points', 'de', 'passage', ':', 'D', '/'], ['mondiale', ',', 'les', 'cirques', 'français', 's', \"'\"], ['qui', 'tombe', 'en', 'cascade', '.', 'question', 'jour'], [\"l'\", 'une', 'des', 'bornes', 'de', 'commande', 'ou'], ['3', ')', 'du', 'col', ',', 'partir', 'à'], ['On', 'rejoint', 'le', 'parking', 'cité', 'plus', 'haut'], ['musique', ',', 'le', 'cirque', 'et', 'les', 'arts'], ['rapidement', 'une', 'petite', 'route', 'communale', '.', 'joie'], ['haut', '.', 'Le', 'sentier', 'est', 'relativement', 'bien'], ['pour', 'prendre', 'le', 'sentier', 'de', 'droite', 'qui'], ['.', 'De', 'nombreuses', 'églises', 'anglo-saxonnes', 'presbytériennes', 'et'], ['blanche', '.', 'La', 'balise', 'J1', 'est', 'de'], ['via', 'de', 'grands', 'lacets', 'et', 'suit', 'la'], ['.', 'Suivre', 'ce', 'sentier', 'sur', '500m', \"jusqu'\"], ['à', 'un', 'nouveau', 'passage', 'délicat', ',', 'équipé'], ['existante', 'comme', 'un', 'balcon', 'ou', 'une', 'véranda'], ['à', 'gauche', 'la', 'ruelle', '(', 'balisage', 'jaune'], ['Vienne', '.', 'Un', 'belvédère', 'baroque', 'typique', 'est'], [\"d'\", 'origine', 'italienne', 'belvédère', '.', 'ombre', 'présent'], ['par', 'l’itinéraire', 'de', 'montée', 'pour', 'revenir', 'aux'], ['intérieur', '.', 'Les', 'bornes', 'paires', 'sont', 'situées'], [\"l'\", 'industrie', 'des', 'circuits', 'intégrés', 'standards', '»'], ['distingue', 'ainsi', 'les', 'brèches', 'en', 'milieu', 'cassant'], ['%', '.', 'La', 'pente', 'longitudinale', 'maximum', 'est'], ['par', 'rapport', 'au', 'pic', 'de', '2006', ','], ['.', 'Accéder', 'au', 'parking', 'depuis', 'la', 'vallée'], ['sera', 'accolée', 'au', 'bâtiment', ',', 'avec', 'en'], ['garde', 'à', 'ne', 'pas', 'rater', 'le', 'GR'], ['Vincennes', 'est', 'la', 'gare de bifurcation', 'des', 'deux', 'branches'], ['accéder', 'à', 'des', 'belvédères', '.', 'envie', 'prix'], ['pour', 'rejoindre', 'le', 'parking', '(', 'D', '/'], ['également', 'circuit', 'des', 'belvédères', '.', 'sang', 'pouvoir'], ['\"', 'par', 'la', 'route', '.', 'Points', 'de'], ['amont', 'de', 'la', 'bifurcation', 'laisserait', 'prévoir', 'un'], ['à', 'travers', 'les', 'pistes de ski', ')', '.', 'service'], ['En', 'sortant', 'du', 'parking', ',', 'prendre', 'le'], ['est', 'le', 'deuxième', 'chemin', ',', 'le', 'premier'], ['place', '.', 'Le', 'bâtiment', 'présente', 'trois', 'façades'], ['et', 'viser', \"l'\", 'église', 'pour', 'rejoindre', 'le'], ['La', 'pratique', 'du', 'boulevard', 'en', 'urbanisme', 'débute'], ['automobiles', 'et', 'un', 'couloir', 'de', 'bus', '.'], ['envoie', 'depuis', 'son', 'arche', 'pour', 'savoir', 'si'], ['du', 'réservoir', 'la', 'piste', 'qui', 'part', 'en'], ['empierré', '.', 'La', 'pente', \"s'\", 'accentue', ','], ['accrochage', 'sur', 'les', 'balcons', ',', 'loggias', 'ou'], ['lac', 'rependre', 'un', 'sentier', 'NE', 'qui', 'va'], ['passer', 'sous', 'des', 'lignes', 'à', 'haute', 'tension'], ['.', 'De', 'nombreux', 'bâtiments', 'sont', 'construits', 'en'], ['à', 'droite', 'le', 'sentier', 'qui', ',', 'par'], ['donc', 'fait', 'des', 'brèches', 'à', 'ses', 'murs'], ['ensuite', 'entre', 'les', 'maisons', 'en', 'pierres', 'de'], ['le', 'mardi', 'donc', 'pas', 'de', 'stationnement', 'ce'], ['où', 'ouvriers', 'et', 'cols', 'blancs', 'se', 'rassemblent'], ['gauche', 'de', 'la', 'route', 'dans', 'un', 'virage'], ['en', 'longeant', 'le', 'déversoir des lacs', ',', 'par', 'des'], ['qui', 'monte', 'en', 'lacets', 'courts', \"jusqu'\", 'à'], ['par', 'le', 'même', 'sentier', 'qu’à', 'la', 'montée'], ['Suivre', 'ensuite', 'un', 'sentier', 'presque', 'constamment', 'bon'], ['ont', 'éliminé', 'les', 'cirques', 'utilisant', 'des', 'animaux'], [\"'\", 'intérêt', 'de', 'balises', 'de', 'virage', 'doit'], [',', 'dans', 'le', 'rond-point', ',', 'prendre', 'la'], ['denté', '.', 'Un', 'chemin', 'de', 'fer', 'à'], ['par', 'le', 'même', 'chemin', 'qu’à', 'la', 'montée'], ['nom', \"d'\", 'un', 'chalet', 'et', \"d'\", 'un'], ['.', 'Porte', 'en', 'bois', 'sculptée', 'avec', 'des'], ['Pons', '.', 'Deux', 'bornes', 'milliaires', 'gallo-romaines', 'situées'], ['combe', ',', 'le', 'chemin', 'devient', 'un', 'peu'], ['à', 'travers', 'les', 'rochers', '.', 'ennemi', 'truc'], ['Le', 'mot', '«', 'parking', '»', 'n', \"'\"], ['reste', 'de', 'la', 'descente', 's’effectue', 'par', 'l’itinéraire'], ['Il', 'présente', 'plusieurs', 'belvédères', 'offrant', 'autant', 'de'], ['en', 'face', 'le', 'chemin', 'qui', 'monte', 'à'], ['vitrées', 'et', 'des', 'balcons', 'surélevés', '.', 'moyen'], ['isolés', 'tels', 'les', 'belvédères', '.', 'jour', 'soirée'], ['bâtiment', 'forme', 'une', 'arche', 'moderne', 'aux', 'couleurs'], ['à', 'fabriquer', 'des', 'cabanes', 'soit', 'pour', 's'], ['de', 'styles', 'en', 'cascade', 'commence', 'dès', '1999'], ['constitués', 'de', 'plusieurs', 'balcons', 'autour', 'd’un', 'parterre'], ['aménagement', 'des', 'anciens', 'boulevards', 'n', \"'\", 'était'], ['loin', 'le', 'vrai', 'sommet', '(', '3163m', ')'], ['mène', 'à', 'un', 'snack-bar', '(', '1', ')'], ['accéder', 'à', 'un', 'belvédère', 'ou', 'un', 'territoire'], ['ont', 'servi', 'de', 'borne frontière', ':', 'la', 'pierre'], ['scie', 'et', 'une', 'brèche', 'à', 'un', 'angle'], ['qui', 'arbore', 'une', 'croix', 'blanche', 'comme', 'la'], ['chemin', \"jusqu'\", 'au', 'carrefour', '.', 'regard', 'endroit'], ['partir', 'de', 'ce', 'chalet', 'quitter', 'la', 'piste'], ['bout', 'de', 'la', 'route', '.', 'besoin', 'partie'], ['avec', 'présence', 'de', 'panneaux', 'de', 'randonnée', '.'], [\"jusqu'\", 'à', 'une', 'route', '(', '10', ')'], ['Arrivé', 'à', 'une', 'intersection', ',', 'rester', 'sur'], ['le', 'titre', 'de', 'boulevard', 'ne', 'sont', 'en'], ['bien', 'visible', 'du', 'parking', 'qui', 'part', 'plein'], ['une', 'ou', 'plusieurs', 'bifurcations', 'esthétiques', '.', 'présence'], ['Entamer', 'une', 'courte', 'descente', 'dans', 'une', 'partie'], ['oblique', 'dans', 'la', 'pente', 'en', 'direction', 'du'], ['transforme', 'rapidement', 'en', 'sentier', 'pour', 'desservir', 'le'], [',', \"jusqu'\", 'au', 'parking', '.', 'cheveu', 'type'], ['passer', 'sur', 'une', 'passerelle', 'pour', 'enjamber', 'un'], ['Les', 'noms', 'de', 'cabane', 'et', 'baraque', 'ont'], ['pour', 'rejoindre', 'le', 'carrefour de montée', '.', 'oiseau', 'service'], ['Grande-Bretagne', 'où', 'les', 'cimetières', 'regorgent', 'de', 'croix'], ['au', 'niveau', 'du', 'snack-bar', ',', 'suivre', 'le'], ['montée', 'progressive', 'mais', 'pas', 'trop', 'prononcée', '.'], ['en', 'traversant', 'quelques', 'bois', ',', \"jusqu'\", 'au'], [')', '.', 'Du', 'lac', 'rependre', 'un', 'sentier'], [',', 'ignorer', 'le', 'sentier', 'à', 'droite', ','], [')', 'Traverser', 'la', 'route', 'pour', 'prendre', 'en'], ['avec', 'ou', 'sans', 'barrières', ',', 'gardé', 'ou'], [',', 'par', 'des', 'lacets', ',', 'la', 'dernière'], ['le', 'bout', 'du', 'lac', \"d'\", 'où', 'part'], ['nom', 'de', '«', 'boulevard', '»', 'alors', 'qu'], ['préchauffés', 'et', 'le', 'circuit', 'de', 'régulation', 'thermique'], ['La', 'mode', 'des', 'cabanes', 'dans', 'les', 'arbres'], ['plantes', 'vivaces', ',', 'bassins', 'et', 'plantes', 'aquatiques'], ['rénovés', '.', 'La', 'barre', 'de', '10', 'étages'], [',', 'suivre', 'la', 'route', 'à', 'gauche', 'qui'], ['et', 'continuer', 'en', 'rive', 'droite', 'du', 'torrent'], ['ou', 'forment', 'des', 'bassins', 'versants', 'indépendants', 'en'], ['toit', 'à', 'fortes', 'pentes', ',', 'le', 'dépasse'], [',', 'avec', 'des', 'arches', 'de', 'soutènement', 'comme'], ['la', 'signalisation', 'des', 'bifurcations', ',', 'en', 'particulier'], [':', 'ouverture', 'des', 'chemins', 'de', 'fer', 'à'], ['passe', 'par', 'le', 'chemin', 'bien', 'visible', 'du'], ['la', 'tension', 'aux', 'bornes', 'de', 'chaque', 'bobine'], ['ou', 'sur', 'le', 'bâtiment', '.', 'secret', 'histoire'], ['prendre', 'alors', 'le', 'sentier', 'qui', 'part', 'sur'], [',', 'supportant', 'le', 'balcon', 'du', 'premier', 'étage'], [\"'\", 'une', 'riche', 'bambouseraie', 'le', 'jardin', 'panoramique'], ['à', 'la', 'première', 'épingle', 'et', 'prendre', 'alors'], ['des', 'milliers', \"d'\", 'églises', ',', 'dont', '200'], ['.', 'Sur', 'un', 'circuit', 'automobile', ',', 'les'], ['eau', 'ou', 'une', 'arche', 'naturelle', ',', 'sculptée'], ['passer', 'sous', 'le', 'téléski', '.', 'odeur', 'ciel'], ['en', 'direction', 'du', 'parc', 'puis', 'tout', 'de'], ['niveau', \"d'\", 'un', 'lavoir', ',', 'suivre', 'la'], ['métropole', 'installera', 'une', 'passerelle', 'vélo', 'de', '24'], ['et', 'un', 'petit', 'parking', '(', '6', ')'], [',', 'est', 'un', 'bâtiment', 'construit', 'en', 'extérieur'], ['gravillonnées', 'pour', 'ne', 'pas', 'fâcher', 'certains', 'patineurs'], ['et', 'traverser', 'le', 'parking', '.', 'confiance', 'situation']]\n",
      "** Vectorisation of inputs... \n",
      "\n"
     ]
    },
    {
     "ename": "ValueError",
     "evalue": "n_components=369 must be between 0 and min(n_samples, n_features)=141 with svd_solver='full'",
     "output_type": "error",
     "traceback": [
      "\u001b[0;31m---------------------------------------------------------------------------\u001b[0m",
      "\u001b[0;31mValueError\u001b[0m                                Traceback (most recent call last)",
      "\u001b[0;32m<ipython-input-91-7df21be5d62a>\u001b[0m in \u001b[0;36m<module>\u001b[0;34m\u001b[0m\n\u001b[1;32m      8\u001b[0m \u001b[0mmodel\u001b[0m \u001b[0;34m=\u001b[0m \u001b[0mloadmodel\u001b[0m\u001b[0;34m(\u001b[0m\u001b[0mmodel_path\u001b[0m\u001b[0;34m,\u001b[0m \u001b[0malgorithm\u001b[0m\u001b[0;34m,\u001b[0m \u001b[0mkeras_models\u001b[0m\u001b[0;34m)\u001b[0m\u001b[0;34m\u001b[0m\u001b[0;34m\u001b[0m\u001b[0m\n\u001b[1;32m      9\u001b[0m \u001b[0;34m\u001b[0m\u001b[0m\n\u001b[0;32m---> 10\u001b[0;31m \u001b[0macc\u001b[0m \u001b[0;34m=\u001b[0m \u001b[0mprediction\u001b[0m\u001b[0;34m(\u001b[0m\u001b[0mmodel\u001b[0m\u001b[0;34m,\u001b[0m \u001b[0mx_test\u001b[0m\u001b[0;34m,\u001b[0m \u001b[0my_test\u001b[0m\u001b[0;34m,\u001b[0m \u001b[0mngram_size\u001b[0m\u001b[0;34m,\u001b[0m \u001b[0mwe_vector_size\u001b[0m\u001b[0;34m,\u001b[0m \u001b[0malgorithm\u001b[0m\u001b[0;34m)\u001b[0m\u001b[0;34m\u001b[0m\u001b[0;34m\u001b[0m\u001b[0m\n\u001b[0m\u001b[1;32m     11\u001b[0m \u001b[0mprint\u001b[0m\u001b[0;34m(\u001b[0m\u001b[0;34m'Validation accuracy:'\u001b[0m\u001b[0;34m,\u001b[0m \u001b[0macc\u001b[0m\u001b[0;34m)\u001b[0m\u001b[0;34m\u001b[0m\u001b[0;34m\u001b[0m\u001b[0m\n",
      "\u001b[0;32m<ipython-input-90-9efea51dc020>\u001b[0m in \u001b[0;36mprediction\u001b[0;34m(clf, x_test, y_test, ngram_size, we_vector_size, algorithm)\u001b[0m\n\u001b[1;32m     28\u001b[0m         \u001b[0;32mif\u001b[0m \u001b[0mngram_size\u001b[0m \u001b[0;34m==\u001b[0m \u001b[0;36m7\u001b[0m\u001b[0;34m:\u001b[0m\u001b[0;34m\u001b[0m\u001b[0;34m\u001b[0m\u001b[0m\n\u001b[1;32m     29\u001b[0m             \u001b[0mpca\u001b[0m \u001b[0;34m=\u001b[0m \u001b[0mPCA\u001b[0m\u001b[0;34m(\u001b[0m\u001b[0mn_components\u001b[0m \u001b[0;34m=\u001b[0m \u001b[0;36m369\u001b[0m\u001b[0;34m)\u001b[0m\u001b[0;34m\u001b[0m\u001b[0;34m\u001b[0m\u001b[0m\n\u001b[0;32m---> 30\u001b[0;31m         \u001b[0mpca\u001b[0m\u001b[0;34m.\u001b[0m\u001b[0mfit\u001b[0m\u001b[0;34m(\u001b[0m\u001b[0mx_train\u001b[0m\u001b[0;34m)\u001b[0m\u001b[0;34m\u001b[0m\u001b[0;34m\u001b[0m\u001b[0m\n\u001b[0m\u001b[1;32m     31\u001b[0m \u001b[0;34m\u001b[0m\u001b[0m\n\u001b[1;32m     32\u001b[0m         \u001b[0;31m#x_test = pca.fit(x_test)\u001b[0m\u001b[0;34m\u001b[0m\u001b[0;34m\u001b[0m\u001b[0;34m\u001b[0m\u001b[0m\n",
      "\u001b[0;32m~/.pyenv/versions/3.7.3/lib/python3.7/site-packages/sklearn/decomposition/_pca.py\u001b[0m in \u001b[0;36mfit\u001b[0;34m(self, X, y)\u001b[0m\n\u001b[1;32m    349\u001b[0m \u001b[0;34m\u001b[0m\u001b[0m\n\u001b[1;32m    350\u001b[0m         \u001b[0mParameters\u001b[0m\u001b[0;34m\u001b[0m\u001b[0;34m\u001b[0m\u001b[0m\n\u001b[0;32m--> 351\u001b[0;31m         \u001b[0;34m-\u001b[0m\u001b[0;34m-\u001b[0m\u001b[0;34m-\u001b[0m\u001b[0;34m-\u001b[0m\u001b[0;34m-\u001b[0m\u001b[0;34m-\u001b[0m\u001b[0;34m-\u001b[0m\u001b[0;34m-\u001b[0m\u001b[0;34m-\u001b[0m\u001b[0;34m-\u001b[0m\u001b[0;34m\u001b[0m\u001b[0;34m\u001b[0m\u001b[0m\n\u001b[0m\u001b[1;32m    352\u001b[0m         \u001b[0mX\u001b[0m \u001b[0;34m:\u001b[0m \u001b[0marray\u001b[0m\u001b[0;34m-\u001b[0m\u001b[0mlike\u001b[0m\u001b[0;34m,\u001b[0m \u001b[0mshape\u001b[0m \u001b[0;34m(\u001b[0m\u001b[0mn_samples\u001b[0m\u001b[0;34m,\u001b[0m \u001b[0mn_features\u001b[0m\u001b[0;34m)\u001b[0m\u001b[0;34m\u001b[0m\u001b[0;34m\u001b[0m\u001b[0m\n\u001b[1;32m    353\u001b[0m             \u001b[0mTraining\u001b[0m \u001b[0mdata\u001b[0m\u001b[0;34m,\u001b[0m \u001b[0mwhere\u001b[0m \u001b[0mn_samples\u001b[0m \u001b[0;32mis\u001b[0m \u001b[0mthe\u001b[0m \u001b[0mnumber\u001b[0m \u001b[0mof\u001b[0m \u001b[0msamples\u001b[0m\u001b[0;34m\u001b[0m\u001b[0;34m\u001b[0m\u001b[0m\n",
      "\u001b[0;32m~/.pyenv/versions/3.7.3/lib/python3.7/site-packages/sklearn/decomposition/_pca.py\u001b[0m in \u001b[0;36m_fit\u001b[0;34m(self, X)\u001b[0m\n\u001b[1;32m    421\u001b[0m                              \"\".format(self._fit_svd_solver))\n\u001b[1;32m    422\u001b[0m \u001b[0;34m\u001b[0m\u001b[0m\n\u001b[0;32m--> 423\u001b[0;31m     \u001b[0;32mdef\u001b[0m \u001b[0m_fit_full\u001b[0m\u001b[0;34m(\u001b[0m\u001b[0mself\u001b[0m\u001b[0;34m,\u001b[0m \u001b[0mX\u001b[0m\u001b[0;34m,\u001b[0m \u001b[0mn_components\u001b[0m\u001b[0;34m)\u001b[0m\u001b[0;34m:\u001b[0m\u001b[0;34m\u001b[0m\u001b[0;34m\u001b[0m\u001b[0m\n\u001b[0m\u001b[1;32m    424\u001b[0m         \u001b[0;34m\"\"\"Fit the model by computing full SVD on X\"\"\"\u001b[0m\u001b[0;34m\u001b[0m\u001b[0;34m\u001b[0m\u001b[0m\n\u001b[1;32m    425\u001b[0m         \u001b[0mn_samples\u001b[0m\u001b[0;34m,\u001b[0m \u001b[0mn_features\u001b[0m \u001b[0;34m=\u001b[0m \u001b[0mX\u001b[0m\u001b[0;34m.\u001b[0m\u001b[0mshape\u001b[0m\u001b[0;34m\u001b[0m\u001b[0;34m\u001b[0m\u001b[0m\n",
      "\u001b[0;32m~/.pyenv/versions/3.7.3/lib/python3.7/site-packages/sklearn/decomposition/_pca.py\u001b[0m in \u001b[0;36m_fit_full\u001b[0;34m(self, X, n_components)\u001b[0m\n\u001b[1;32m    440\u001b[0m                                  \u001b[0;34m\"was of type=%r\"\u001b[0m\u001b[0;34m\u001b[0m\u001b[0;34m\u001b[0m\u001b[0m\n\u001b[1;32m    441\u001b[0m                                  % (n_components, type(n_components)))\n\u001b[0;32m--> 442\u001b[0;31m \u001b[0;34m\u001b[0m\u001b[0m\n\u001b[0m\u001b[1;32m    443\u001b[0m         \u001b[0;31m# Center data\u001b[0m\u001b[0;34m\u001b[0m\u001b[0;34m\u001b[0m\u001b[0;34m\u001b[0m\u001b[0m\n\u001b[1;32m    444\u001b[0m         \u001b[0mself\u001b[0m\u001b[0;34m.\u001b[0m\u001b[0mmean_\u001b[0m \u001b[0;34m=\u001b[0m \u001b[0mnp\u001b[0m\u001b[0;34m.\u001b[0m\u001b[0mmean\u001b[0m\u001b[0;34m(\u001b[0m\u001b[0mX\u001b[0m\u001b[0;34m,\u001b[0m \u001b[0maxis\u001b[0m\u001b[0;34m=\u001b[0m\u001b[0;36m0\u001b[0m\u001b[0;34m)\u001b[0m\u001b[0;34m\u001b[0m\u001b[0;34m\u001b[0m\u001b[0m\n",
      "\u001b[0;31mValueError\u001b[0m: n_components=369 must be between 0 and min(n_samples, n_features)=141 with svd_solver='full'"
     ]
    }
   ],
   "source": [
    "model_path = './models/MLP_PCA_7grams.h5'\n",
    "algorithm = 'MLP_PCA'\n",
    "ngram_size = 7\n",
    "\n",
    "## !!! ne marche pas pour ngram_size = 7\n",
    "\n",
    "x_test = preprocess_input(df['sentences'], ngram_size, fr_nouns_file, fasttext_model, we_vector_size)\n",
    "model = loadmodel(model_path, algorithm, keras_models)\n",
    "\n",
    "acc = prediction(model, x_test, y_test, ngram_size, we_vector_size, algorithm)\n",
    "print('Validation accuracy:', acc)"
   ]
  },
  {
   "cell_type": "code",
   "execution_count": null,
   "metadata": {},
   "outputs": [],
   "source": []
  },
  {
   "cell_type": "code",
   "execution_count": 97,
   "metadata": {},
   "outputs": [
    {
     "name": "stdout",
     "output_type": "stream",
     "text": [
      "Collecting scikit-learn==0.22\n",
      "  Using cached scikit_learn-0.22-cp37-cp37m-macosx_10_6_intel.whl (10.9 MB)\n",
      "Requirement already satisfied: scipy>=0.17.0 in /Users/lmoncla/.pyenv/versions/3.7.3/lib/python3.7/site-packages (from scikit-learn==0.22) (1.4.1)\n",
      "Requirement already satisfied: joblib>=0.11 in /Users/lmoncla/.pyenv/versions/3.7.3/lib/python3.7/site-packages (from scikit-learn==0.22) (0.15.1)\n",
      "Requirement already satisfied: numpy>=1.11.0 in /Users/lmoncla/.pyenv/versions/3.7.3/lib/python3.7/site-packages (from scikit-learn==0.22) (1.18.3)\n",
      "Installing collected packages: scikit-learn\n",
      "  Attempting uninstall: scikit-learn\n",
      "    Found existing installation: scikit-learn 0.23.0\n",
      "    Uninstalling scikit-learn-0.23.0:\n",
      "      Successfully uninstalled scikit-learn-0.23.0\n",
      "Successfully installed scikit-learn-0.22\n",
      "** Transform sentences to 5 ngrams... \n",
      "\n",
      "[['vers', 'les', 'cols', 'voisins', 'mais'], ['avec', 'un', 'passage', 'dans', 'les'], ['atteindre', 'l’', 'église', 'en-dessous', 'du'], ['rejoindre', 'le', 'sentier de montée', 'un', 'peu'], ['À', 'la', \"patte d' oie\", ',', 'laisser'], ['milieu', 'des', 'maisons', ',', 'continuer'], ['.', 'Un', 'snack-bar', '(', 'souvent'], ['des', 'deux', 'cols', 'rencontrée', 'à'], ['sur', 'les', 'rochers', \"d'\", 'une'], ['le', 'même', 'chemin', ',', 'laisser'], ['laisser', 'le', 'sentier', 'qui', 'part'], ['sur', 'le', 'parc', ',', 'sauf'], ['.', 'Ancienne', 'gare de bifurcation', ',', 'elle'], ['prendre', 'le', 'sentier', 'à', 'gauche'], ['une', 'véritable', 'gare de bifurcation', 'des', 'branches'], [',', 'poursuivre', 'rive', 'droite', ','], [',', 'une', 'cabane', 'abandonnée', 'où'], ['porter', 'des', 'lacets', 'de', 'couleurs'], ['nommé', 'le', 'couloir', 'de', 'la'], ['à', 'une', 'bifurcation', '.', 'boulot'], ['repérer', 'des', 'cairns', 'qui', 'mènent'], ['pacages', 'de', 'sous-bois', '.', 'tour'], ['dans', 'une', 'ruelle', 'qui', 'elle'], ['avec', 'une', 'barre', 'latérale', 'commune'], ['de', 'la', \"patte d' oie\", '.', 'poche'], ['.', 'Un', 'boulevard', 'est', 'une'], ['une', 'mini-', 'bambouseraie', ',', 'le'], ['indispensable', 'au', 'passage', 'des', 'bateaux'], ['le', 'même', 'chemin', '(', 'si'], [',', 'une', 'passerelle', 'sécurisée', 'sur'], ['un', 'petit', 'col', 'qui', 'offre'], ['vers', 'un', 'ruisseau', 'que', 'vous'], ['très', 'grandes', 'brèches', '.', 'endroit'], ['longe', 'le', 'cirque', '.', 'question'], ['atteindre', 'un', 'couloir', 'rocheux', 'qui'], ['donné', 'des', 'bornes', 'inférieures', 'de'], ['de', 'notre', 'chemin', 'de', 'retour'], ['de', 'la', 'passerelle', '.', 'haut'], ['suivre', 'ce', 'chemin', \"jusqu'\", 'au'], [')', 'au', 'carrefour', ',', 'un'], ['.', 'Des', 'lacets', 'sont', 'également'], ['franchir', 'le', 'torrent', 'par', 'la'], [',', 'le', 'téléphérique', 'constituerait', 'selon'], ['Traverser', 'le', 'torrent', 'au', 'niveau'], ['droite', 'le', 'circuit', 'du', 'départ'], ['sur', 'le', 'parking', 'au', 'Sud'], ['est', 'la', 'gare de bifurcation', 'des', 'deux'], ['retenue', 'ou', 'réservoir', 'est', 'un'], ['la', 'deuxième', 'bifurcation', ',', 'en'], ['sous', 'le', 'téléphérique', '.', 'point'], ['nombre', 'de', 'circuits', 'logiques', 'programmables'], ['escarpement', '(', 'couloir', 'enneigé', 'tard'], ['entre', 'deux', 'balises', ',', 'des'], ['apercevoir', 'les', 'cascades', 'dans', 'le'], ['avec', 'un', 'rond-point', \"n'\", 'ouvrant'], ['un', 'quatrième', 'tracé', 'longeant', 'la'], ['géologique', 'et', 'site', \"d'\", 'escalade'], ['servi', 'de', 'chapelles', 'ou', ','], ['.', 'Le', 'bois', 'de', 'cœur'], [\"n'\", 'est', 'pas', 'de', 'ma'], ['les', 'petits', 'chemins', '(', 'sentiers'], ['une', 'faible', 'pente', 'en', 'forêt'], ['air', 'de', 'chalets', ',', 'elles'], ['sur', 'le', 'chemin', 'de', 'droite'], ['souvent', 'les', 'circuits', 'courts', 'pour'], ['creux', 'du', 'chemin', 'une', 'nouvelle'], ['de', 'longues', 'lignes', 'droites', 'entrecoupées'], ['à', 'une', \"patte d' oie\", '.', 'faim'], ['le', 'petit', 'abri', 'avant', \"d'\"], ['sur', 'des', 'pentes', 'à', '45'], ['ne', 'suis', 'pas', 'sûr', \"qu'\"], ['de', 'la', 'balise', 'située', 'au-dessus'], ['puis', 'au', 'parking', 'où', 'nous'], ['.', 'La', \"patte d' oie\", 'est', 'un'], ['sur', 'la', 'piste', 'qui', 'ramène'], ['sans', 'aucun', 'croisement', 'à', 'niveau'], ['refroidissement', 'des', 'circuits', 'secondaires', 'de'], ['avec', 'une', 'pente', 'au', 'sommet'], ['desservent', 'des', 'bâtiments', 'collectifs', 'ou'], ['constitue', 'un', 'belvédère', 'exceptionnel', 'sur'], ['sur', 'les', 'balcons', 'en', 'bois'], ['supports', 'de', 'barrières', 'de', 'sécurité'], ['mur', 'du', 'château', '2', ':'], ['depuis', 'l’', 'office de tourisme', ',', 'prendre'], ['traverse', 'des', 'pentes', 'raides', '.'], ['accéder', 'au', 'col', 'qui', 'domine'], ['dans', 'le', 'bois', 'formant', 'un'], ['à', 'un', 'circuit', \"d'\", 'eau'], ['que', 'trois', 'campings', 'qui', 'totalisent'], ['parfois', 'à', 'pic', '.', 'gens'], ['les', 'dernières', 'maisons', 'dans', 'la'], ['composent', \"d'\", 'arches', 'souvent', 'très'], ['dans', 'la', 'combe', 'en', 'éboulis'], ['suivre', 'le', 'sentier', 'sur', '200m'], ['droite', 'une', 'sente', 'qui', 'descend'], [':', 'La', 'cabane', 'se', 'distingue'], ['utilisent', 'des', 'cabanes', 'par', 'nécessité'], ['de', 'ce', 'passage', 'rocheux', 'est'], ['et', 'mini', 'chalets', '.', 'trou'], ['sur', 'le', 'sentier', 'en', 'suivant'], ['à', 'la', 'bifurcation du sentier', 'qui', 'descend'], ['passage', 'au', 'lavoir', 'était', 'en'], [\"d'\", 'un', 'parc', 'isolé', '.'], ['gauche', 'en', 'lacets', 'serrés', 'vers'], ['de', \"l'\", 'église', 'anglicane', 'tandis'], ['Suivre', 'ce', 'sentier', 'sur', '500m'], [\"d'\", 'une', 'bifurcation', 'en', 'deux'], ['après', 'le', 'lavoir', 'et', 'la'], ['sortie', 'du', 'parking', 'en', 'direction'], ['dans', 'une', 'pente', 'raide', 'mais'], ['.', 'Le', 'terrain', 'est', 'un'], ['sur', 'la', 'rive', 'gauche', ','], ['de', 'la', 'voie', 'verte', ')'], ['à', 'un', 'carrefour de sentiers', '.', 'signe'], ['modistes', '.', 'épingle', 'de', 'laiton'], ['un', 'ancien', 'canal', '.', 'voix'], ['traversant', 'des', 'rochers', '.', 'exemple'], ['«', 'La', 'croix', 'demeure', 'tandis'], ['croisant', 'les', 'boulevards', 'ceinturant', 'le'], ['ou', 'des', 'bâtiments', ',', 'soit'], ['Emprunter', 'la', 'route', \"jusqu'\", 'au'], ['.', 'Rester', 'rive', 'droite', 'du'], ['nord', 'une', 'sente', 'mal', 'marquée'], ['passer', 'la', 'barrière', 'qui', 'bloque'], ['de', 'la', 'maison', 'au', 'crépi'], ['Reprendre', 'le', 'sentier', 'en', 'sens'], ['règles', 'de', 'passage', 'peuvent', 'être'], [',', 'un', 'boulevard', 'est', 'donc'], ['renfoncement', 'à', 'arche', 'en', 'plein'], ['les', 'deux', 'chapelles', 'attenantes', 'rassemblées'], ['est', 'un', 'bâtiment', 'estampillé', '1992'], ['sur', 'le', 'terrain', 'divers', 'chemin'], ['milliers', \"d'\", 'églises', 'ont', 'été'], ['correspond', 'au', 'trajet', 'des', 'eaux'], ['.', 'Le', 'chemin', 'décrit', 'une'], ['au-dessus', 'du', 'cimetière', '(', 'en'], ['corps', 'de', 'bâtiment', ',', 'avant'], ['sur', 'le', \"poteau d' un lampadaire\", ')', '.'], ['longeant', 'le', 'déversoir des lacs', ',', 'par'], ['sous', 'le', 'téléski', '.', 'fille'], ['.', 'Ancienne', 'gare de bifurcation', ',', 'elle'], ['à', '2', 'belvédères', 'avec', 'de'], ['sommet', 'des', 'pistes de ski', '.', 'maître'], ['flanc', 'hors', 'sentier', 'pour', 'rejoindre'], ['comme', 'le', 'cirque', ',', 'le'], ['bord', 'du', 'lac', 'ou', 'dans'], ['Retrouvez', 'le', 'sentier de montée', 'au', 'niveau'], ['dans', 'le', 'rond-point', ',', 'prendre'], ['.', 'Plusieurs', 'circuits', 'pédestres', '('], ['transforme', 'un', 'parking', 'gratuit', 'en'], ['ignorant', 'un', 'chemin', 'qui', 'part'], [',', 'la', 'fourche', 'bêche', 'est'], ['au', 'second', 'embranchement', ',', 'suivre'], ['translation', 'des', 'cimetières', 'hors', 'de'], ['traverser', 'le', 'pont', 'pour', 'retrouver'], ['dessous', 'du', 'parking', '(', 'marques'], ['constituées', 'de', 'barres', 'métalliques', 'horizontales'], ['ruine', 'plusieurs', 'églises', ',', 'couvents'], [',', 'les', 'barrières', 'postzygotiques', 'vont'], ['remonter', 'la', 'sente', 'menant', 'au'], ['atteindre', 'le', 'sentier de montée', 'au', 'carrefour'], [\"d'\", 'une', 'forêt', \"d'\", 'antennes'], ['gâte', '...', 'barres', 'rocheuses', '!'], ['une', 'nouvelle', 'intersection', '(', '2'], ['trouver', 'un', 'sentier', '(', '2'], ['.', 'Le', 'déversoir', 'en', 'amont'], ['élevée', 'des', 'cols', '(', 'appelés'], [\"d'\", 'un', 'parc', 'linéaire', 'est'], [\"d'\", 'un', 'bassin', ',', 'de'], ['dans', 'la', 'pente', '(', 'cairns'], ['fond', 'du', 'lac', ',', 'sur'], ['et', 'les', 'carrefours', 'à', 'feux'], ['découvrent', 'des', 'panneaux', 'indiquant', 'Le'], ['Traverser', 'la', 'route', 'pour', 'rejoindre'], ['que', 'les', 'balcons', 'en', 'versant'], ['.', 'Le', 'rond-point', 'est', 'aussi'], ['arrivé', 'au', 'lac', ',', 'laisser'], ['de', ':', 'maisons', 'individuelles', ':'], [',', 'premier', 'chemin', 'de', 'fer'], ['entre', 'plusieurs', 'bassins', 'touristiques', '('], [\"'\", 'autres', 'chapelles', 'existent', 'dans'], ['rejoindre', 'le', 'vallon', 'du', 'même'], ['design', 'des', 'barres', 'de', 'maintien'], ['traces', 'de', 'sentier', 'pas', 'tout'], ['une', 'première', 'barre', 'rocheuse', 'de'], ['franchissant', 'le', 'ruisseau', 'et', 'tourner'], ['tête', 'de', 'fourche', 'aérodynamique', 'avec'], ['prendre', 'un', 'chemin', 'qui', 'part'], ['virage', 'en', 'épingle', 'suivant', '.'], ['de', 'la', 'barre', 'repérée', 'tout'], ['temps', 'de', 'parcours', \"jusqu'\", 'au'], ['des', 'deux', 'arches', 'jaunes', 'de'], [',', 'les', 'cirques', 'et', 'les'], ['prenez', 'le', 'chemin', 'qui', 'oblique']]\n",
      "** Vectorisation of inputs... \n",
      "\n",
      "** Loading model ./models/SVM_5grams.joblib \n",
      "\n",
      "** Predicting... \n",
      "\n"
     ]
    },
    {
     "ename": "AttributeError",
     "evalue": "'SVC' object has no attribute 'break_ties'",
     "output_type": "error",
     "traceback": [
      "\u001b[0;31m---------------------------------------------------------------------------\u001b[0m",
      "\u001b[0;31mAttributeError\u001b[0m                            Traceback (most recent call last)",
      "\u001b[0;32m<ipython-input-97-30ac655a2642>\u001b[0m in \u001b[0;36m<module>\u001b[0;34m\u001b[0m\n\u001b[1;32m      8\u001b[0m \u001b[0mmodel\u001b[0m \u001b[0;34m=\u001b[0m \u001b[0mloadmodel\u001b[0m\u001b[0;34m(\u001b[0m\u001b[0mmodel_path\u001b[0m\u001b[0;34m,\u001b[0m \u001b[0malgorithm\u001b[0m\u001b[0;34m,\u001b[0m \u001b[0mkeras_models\u001b[0m\u001b[0;34m)\u001b[0m\u001b[0;34m\u001b[0m\u001b[0;34m\u001b[0m\u001b[0m\n\u001b[1;32m      9\u001b[0m \u001b[0;34m\u001b[0m\u001b[0m\n\u001b[0;32m---> 10\u001b[0;31m \u001b[0macc\u001b[0m \u001b[0;34m=\u001b[0m \u001b[0mprediction\u001b[0m\u001b[0;34m(\u001b[0m\u001b[0mmodel\u001b[0m\u001b[0;34m,\u001b[0m \u001b[0mx_test\u001b[0m\u001b[0;34m,\u001b[0m \u001b[0my_test\u001b[0m\u001b[0;34m,\u001b[0m \u001b[0mngram_size\u001b[0m\u001b[0;34m,\u001b[0m \u001b[0mwe_vector_size\u001b[0m\u001b[0;34m,\u001b[0m \u001b[0malgorithm\u001b[0m\u001b[0;34m)\u001b[0m\u001b[0;34m\u001b[0m\u001b[0;34m\u001b[0m\u001b[0m\n\u001b[0m\u001b[1;32m     11\u001b[0m \u001b[0mprint\u001b[0m\u001b[0;34m(\u001b[0m\u001b[0;34m'Validation accuracy:'\u001b[0m\u001b[0;34m,\u001b[0m \u001b[0macc\u001b[0m\u001b[0;34m)\u001b[0m\u001b[0;34m\u001b[0m\u001b[0;34m\u001b[0m\u001b[0m\n",
      "\u001b[0;32m<ipython-input-92-9fce4cb97192>\u001b[0m in \u001b[0;36mprediction\u001b[0;34m(clf, x_test, y_test, ngram_size, we_vector_size, algorithm)\u001b[0m\n\u001b[1;32m     42\u001b[0m \u001b[0;34m\u001b[0m\u001b[0m\n\u001b[1;32m     43\u001b[0m     \u001b[0;32mif\u001b[0m \u001b[0malgorithm\u001b[0m \u001b[0;34m==\u001b[0m \u001b[0;34m'RF'\u001b[0m \u001b[0;32mor\u001b[0m \u001b[0malgorithm\u001b[0m \u001b[0;34m==\u001b[0m \u001b[0;34m'SVM'\u001b[0m\u001b[0;34m:\u001b[0m\u001b[0;34m\u001b[0m\u001b[0;34m\u001b[0m\u001b[0m\n\u001b[0;32m---> 44\u001b[0;31m         \u001b[0macc\u001b[0m \u001b[0;34m=\u001b[0m \u001b[0mclf\u001b[0m\u001b[0;34m.\u001b[0m\u001b[0mscore\u001b[0m\u001b[0;34m(\u001b[0m\u001b[0mx_test\u001b[0m\u001b[0;34m,\u001b[0m \u001b[0my_test\u001b[0m\u001b[0;34m)\u001b[0m\u001b[0;34m\u001b[0m\u001b[0;34m\u001b[0m\u001b[0m\n\u001b[0m\u001b[1;32m     45\u001b[0m \u001b[0;34m\u001b[0m\u001b[0m\n\u001b[1;32m     46\u001b[0m     \u001b[0;32mreturn\u001b[0m \u001b[0macc\u001b[0m\u001b[0;34m\u001b[0m\u001b[0;34m\u001b[0m\u001b[0m\n",
      "\u001b[0;32m~/.pyenv/versions/3.7.3/lib/python3.7/site-packages/sklearn/base.py\u001b[0m in \u001b[0;36mscore\u001b[0;34m(self, X, y, sample_weight)\u001b[0m\n\u001b[1;32m    497\u001b[0m         \u001b[0;32mreturn\u001b[0m \u001b[0mnp\u001b[0m\u001b[0;34m.\u001b[0m\u001b[0mnonzero\u001b[0m\u001b[0;34m(\u001b[0m\u001b[0mrows\u001b[0m\u001b[0;34m)\u001b[0m\u001b[0;34m[\u001b[0m\u001b[0;36m0\u001b[0m\u001b[0;34m]\u001b[0m\u001b[0;34m,\u001b[0m \u001b[0mnp\u001b[0m\u001b[0;34m.\u001b[0m\u001b[0mnonzero\u001b[0m\u001b[0;34m(\u001b[0m\u001b[0mcolumns\u001b[0m\u001b[0;34m)\u001b[0m\u001b[0;34m[\u001b[0m\u001b[0;36m0\u001b[0m\u001b[0;34m]\u001b[0m\u001b[0;34m\u001b[0m\u001b[0;34m\u001b[0m\u001b[0m\n\u001b[1;32m    498\u001b[0m \u001b[0;34m\u001b[0m\u001b[0m\n\u001b[0;32m--> 499\u001b[0;31m     \u001b[0;32mdef\u001b[0m \u001b[0mget_shape\u001b[0m\u001b[0;34m(\u001b[0m\u001b[0mself\u001b[0m\u001b[0;34m,\u001b[0m \u001b[0mi\u001b[0m\u001b[0;34m)\u001b[0m\u001b[0;34m:\u001b[0m\u001b[0;34m\u001b[0m\u001b[0;34m\u001b[0m\u001b[0m\n\u001b[0m\u001b[1;32m    500\u001b[0m         \"\"\"Shape of the i'th bicluster.\n\u001b[1;32m    501\u001b[0m \u001b[0;34m\u001b[0m\u001b[0m\n",
      "\u001b[0;32m~/.pyenv/versions/3.7.3/lib/python3.7/site-packages/sklearn/svm/_base.py\u001b[0m in \u001b[0;36mpredict\u001b[0;34m(self, X)\u001b[0m\n\u001b[1;32m    604\u001b[0m                                  \" probability=False\")\n\u001b[1;32m    605\u001b[0m         \u001b[0;32mif\u001b[0m \u001b[0mself\u001b[0m\u001b[0;34m.\u001b[0m\u001b[0m_impl\u001b[0m \u001b[0;32mnot\u001b[0m \u001b[0;32min\u001b[0m \u001b[0;34m(\u001b[0m\u001b[0;34m'c_svc'\u001b[0m\u001b[0;34m,\u001b[0m \u001b[0;34m'nu_svc'\u001b[0m\u001b[0;34m)\u001b[0m\u001b[0;34m:\u001b[0m\u001b[0;34m\u001b[0m\u001b[0;34m\u001b[0m\u001b[0m\n\u001b[0;32m--> 606\u001b[0;31m             raise AttributeError(\"predict_proba only implemented for SVC\"\n\u001b[0m\u001b[1;32m    607\u001b[0m                                  \" and NuSVC\")\n\u001b[1;32m    608\u001b[0m \u001b[0;34m\u001b[0m\u001b[0m\n",
      "\u001b[0;31mAttributeError\u001b[0m: 'SVC' object has no attribute 'break_ties'"
     ]
    }
   ],
   "source": [
    "!pip3 install scikit-learn==0.22\n",
    "\n",
    "model_path = './models/SVM_5grams.joblib'\n",
    "algorithm = 'SVM'\n",
    "ngram_size = 5\n",
    "\n",
    "x_test = preprocess_input(df['sentences'], ngram_size, fr_nouns_file, fasttext_model, we_vector_size)\n",
    "model = loadmodel(model_path, algorithm, keras_models)\n",
    "\n",
    "acc = prediction(model, x_test, y_test, ngram_size, we_vector_size, algorithm)\n",
    "print('Validation accuracy:', acc)"
   ]
  },
  {
   "cell_type": "code",
   "execution_count": null,
   "metadata": {},
   "outputs": [],
   "source": []
  },
  {
   "cell_type": "code",
   "execution_count": null,
   "metadata": {},
   "outputs": [],
   "source": []
  },
  {
   "cell_type": "code",
   "execution_count": null,
   "metadata": {},
   "outputs": [],
   "source": []
  }
 ],
 "metadata": {
  "kernelspec": {
   "display_name": "Python 3",
   "language": "python",
   "name": "python3"
  },
  "language_info": {
   "codemirror_mode": {
    "name": "ipython",
    "version": 3
   },
   "file_extension": ".py",
   "mimetype": "text/x-python",
   "name": "python",
   "nbconvert_exporter": "python",
   "pygments_lexer": "ipython3",
   "version": "3.7.3"
  }
 },
 "nbformat": 4,
 "nbformat_minor": 2
}
